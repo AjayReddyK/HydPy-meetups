{
 "cells": [
  {
   "cell_type": "markdown",
   "metadata": {},
   "source": [
    "# Pandas - Python Data Analysis"
   ]
  },
  {
   "cell_type": "markdown",
   "metadata": {},
   "source": [
    "## Upgrade PIP"
   ]
  },
  {
   "cell_type": "markdown",
   "metadata": {},
   "source": [
    "Windows\n",
    "\n",
    "    python -m pip install -U pip\n",
    "\n",
    "Linux\n",
    "   \n",
    "    pip install -U pip"
   ]
  },
  {
   "cell_type": "markdown",
   "metadata": {},
   "source": [
    "### Install Packages if required"
   ]
  },
  {
   "cell_type": "code",
   "execution_count": 8,
   "metadata": {
    "collapsed": false
   },
   "outputs": [
    {
     "name": "stdout",
     "output_type": "stream",
     "text": [
      "Requirement already satisfied (use --upgrade to upgrade): wheel in c:\\anaconda\\lib\\site-packages\n"
     ]
    }
   ],
   "source": [
    "!pip install wheel"
   ]
  },
  {
   "cell_type": "markdown",
   "metadata": {},
   "source": [
    "## Importing required libraries"
   ]
  },
  {
   "cell_type": "code",
   "execution_count": 65,
   "metadata": {
    "collapsed": false
   },
   "outputs": [],
   "source": [
    "%matplotlib inline\n",
    "from pandas import *\n",
    "from pylab import *\n",
    "import pandas\n",
    "import pandas as pd\n",
    "import numpy as np\n",
    "import matplotlib.pyplot as plt\n",
    "from IPython.display import HTML\n",
    "\n",
    "def side_by_side(*objs, **kwds):\n",
    "    from pandas.core.common import adjoin\n",
    "    space = kwds.get('space', 4)\n",
    "    reprs = [repr(obj).split('\\n') for obj in objs]\n",
    "    print adjoin(space, *reprs)\n",
    "    \n",
    "def htmldisp(x):\n",
    "    try:\n",
    "        return HTML(pd.DataFrame(x).to_html())\n",
    "    except:\n",
    "        print (\"Alert!! \\nInput should be a Pandas obj.\")\n",
    "\n",
    "plt.rc('figure', figsize=(10, 6))\n",
    "# pandas.set_printoptions(notebook_repr_html=False)"
   ]
  },
  {
   "cell_type": "code",
   "execution_count": 10,
   "metadata": {
    "collapsed": false,
    "scrolled": false
   },
   "outputs": [
    {
     "data": {
      "text/plain": [
       "[<matplotlib.lines.Line2D at 0x6674150>]"
      ]
     },
     "execution_count": 10,
     "metadata": {},
     "output_type": "execute_result"
    },
    {
     "data": {
      "image/png": "[encoded data removed]",
      "text/plain": [
       "<matplotlib.figure.Figure at 0x64869f0>"
      ]
     },
     "metadata": {},
     "output_type": "display_data"
    }
   ],
   "source": [
    "plt.plot([1,2,4,8,16])"
   ]
  },
  {
   "cell_type": "markdown",
   "metadata": {},
   "source": [
    "Series\n",
    "======"
   ]
  },
  {
   "cell_type": "code",
   "execution_count": 11,
   "metadata": {
    "collapsed": false
   },
   "outputs": [
    {
     "data": {
      "text/plain": [
       "array([-0.77666345,  0.21922168, -0.59648485, -1.11053507,  1.64264169])"
      ]
     },
     "execution_count": 11,
     "metadata": {},
     "output_type": "execute_result"
    }
   ],
   "source": [
    "np.random.randn(5)"
   ]
  },
  {
   "cell_type": "code",
   "execution_count": 12,
   "metadata": {
    "collapsed": false
   },
   "outputs": [],
   "source": [
    "labels = ['a', 'b', 'c', 'd', 'e']\n",
    "s = pd.Series(np.random.randn(5), index=labels)"
   ]
  },
  {
   "cell_type": "code",
   "execution_count": 13,
   "metadata": {
    "collapsed": false
   },
   "outputs": [
    {
     "data": {
      "text/plain": [
       "True"
      ]
     },
     "execution_count": 13,
     "metadata": {},
     "output_type": "execute_result"
    }
   ],
   "source": [
    "'b' in s"
   ]
  },
  {
   "cell_type": "code",
   "execution_count": 14,
   "metadata": {
    "collapsed": false
   },
   "outputs": [
    {
     "data": {
      "text/plain": [
       "2.0394559173140667"
      ]
     },
     "execution_count": 14,
     "metadata": {},
     "output_type": "execute_result"
    }
   ],
   "source": [
    "s['b']"
   ]
  },
  {
   "cell_type": "code",
   "execution_count": 15,
   "metadata": {
    "collapsed": false
   },
   "outputs": [
    {
     "data": {
      "text/plain": [
       "Index([u'a', u'b', u'c', u'd', u'e'], dtype='object')"
      ]
     },
     "execution_count": 15,
     "metadata": {},
     "output_type": "execute_result"
    }
   ],
   "source": [
    "s.index"
   ]
  },
  {
   "cell_type": "code",
   "execution_count": 16,
   "metadata": {
    "collapsed": false
   },
   "outputs": [
    {
     "data": {
      "text/plain": [
       "a   -0.659063\n",
       "b    2.039456\n",
       "c    1.373997\n",
       "d   -0.066320\n",
       "e    0.652848\n",
       "dtype: float64"
      ]
     },
     "execution_count": 16,
     "metadata": {},
     "output_type": "execute_result"
    }
   ],
   "source": [
    "s"
   ]
  },
  {
   "cell_type": "code",
   "execution_count": 17,
   "metadata": {
    "collapsed": false
   },
   "outputs": [
    {
     "data": {
      "text/plain": [
       "{'a': -0.65906296688486588,\n",
       " 'b': 2.0394559173140667,\n",
       " 'c': 1.373996559303615,\n",
       " 'd': -0.066320116618075436,\n",
       " 'e': 0.65284773391411055}"
      ]
     },
     "execution_count": 17,
     "metadata": {},
     "output_type": "execute_result"
    }
   ],
   "source": [
    "mapping = s.to_dict()\n",
    "mapping"
   ]
  },
  {
   "cell_type": "code",
   "execution_count": 18,
   "metadata": {
    "collapsed": false
   },
   "outputs": [
    {
     "data": {
      "text/plain": [
       "b    2.039456\n",
       "e    0.652848\n",
       "a   -0.659063\n",
       "d   -0.066320\n",
       "f         NaN\n",
       "dtype: float64"
      ]
     },
     "execution_count": 18,
     "metadata": {},
     "output_type": "execute_result"
    }
   ],
   "source": [
    "s = pd.Series(mapping, index=['b', 'e', 'a', 'd', 'f'])\n",
    "s"
   ]
  },
  {
   "cell_type": "code",
   "execution_count": 19,
   "metadata": {
    "collapsed": false
   },
   "outputs": [
    {
     "data": {
      "text/plain": [
       "b     True\n",
       "e     True\n",
       "a     True\n",
       "d     True\n",
       "f    False\n",
       "dtype: bool"
      ]
     },
     "execution_count": 19,
     "metadata": {},
     "output_type": "execute_result"
    }
   ],
   "source": [
    "notnull(s)"
   ]
  },
  {
   "cell_type": "code",
   "execution_count": 20,
   "metadata": {
    "collapsed": false
   },
   "outputs": [
    {
     "data": {
      "text/plain": [
       "b    2.039456\n",
       "e    0.652848\n",
       "a   -0.659063\n",
       "d   -0.066320\n",
       "dtype: float64"
      ]
     },
     "execution_count": 20,
     "metadata": {},
     "output_type": "execute_result"
    }
   ],
   "source": [
    "s[notnull(s)]"
   ]
  },
  {
   "cell_type": "code",
   "execution_count": 21,
   "metadata": {
    "collapsed": false
   },
   "outputs": [
    {
     "data": {
      "text/plain": [
       "b    2.039456\n",
       "e    0.652848\n",
       "a   -0.659063\n",
       "d   -0.066320\n",
       "dtype: float64"
      ]
     },
     "execution_count": 21,
     "metadata": {},
     "output_type": "execute_result"
    }
   ],
   "source": [
    "s.dropna()"
   ]
  },
  {
   "cell_type": "code",
   "execution_count": 22,
   "metadata": {
    "collapsed": false
   },
   "outputs": [
    {
     "data": {
      "text/plain": [
       "b    4.078912\n",
       "e    1.305695\n",
       "a   -1.318126\n",
       "d   -0.132640\n",
       "f         NaN\n",
       "dtype: float64"
      ]
     },
     "execution_count": 22,
     "metadata": {},
     "output_type": "execute_result"
    }
   ],
   "source": [
    "s * 2"
   ]
  },
  {
   "cell_type": "code",
   "execution_count": 23,
   "metadata": {
    "collapsed": false
   },
   "outputs": [
    {
     "data": {
      "text/plain": [
       "d   -0.06632\n",
       "f        NaN\n",
       "dtype: float64"
      ]
     },
     "execution_count": 23,
     "metadata": {},
     "output_type": "execute_result"
    }
   ],
   "source": [
    "s[3:]"
   ]
  },
  {
   "cell_type": "code",
   "execution_count": 24,
   "metadata": {
    "collapsed": false
   },
   "outputs": [
    {
     "data": {
      "text/plain": [
       "b    2.039456\n",
       "e    0.652848\n",
       "a   -0.659063\n",
       "dtype: float64"
      ]
     },
     "execution_count": 24,
     "metadata": {},
     "output_type": "execute_result"
    }
   ],
   "source": [
    "s[:3]"
   ]
  },
  {
   "cell_type": "code",
   "execution_count": 25,
   "metadata": {
    "collapsed": false
   },
   "outputs": [
    {
     "data": {
      "text/plain": [
       "Index([u'b', u'e', u'a', u'd', u'f'], dtype='object')"
      ]
     },
     "execution_count": 25,
     "metadata": {},
     "output_type": "execute_result"
    }
   ],
   "source": [
    "s.index"
   ]
  },
  {
   "cell_type": "markdown",
   "metadata": {},
   "source": [
    "DataFrame: 2D collection of Series\n",
    "=================================="
   ]
  },
  {
   "cell_type": "code",
   "execution_count": 26,
   "metadata": {
    "collapsed": false
   },
   "outputs": [
    {
     "data": {
      "text/html": [
       "<div>\n",
       "<table border=\"1\" class=\"dataframe\">\n",
       "  <thead>\n",
       "    <tr style=\"text-align: right;\">\n",
       "      <th></th>\n",
       "      <th>a</th>\n",
       "      <th>b</th>\n",
       "      <th>c</th>\n",
       "      <th>d</th>\n",
       "    </tr>\n",
       "  </thead>\n",
       "  <tbody>\n",
       "    <tr>\n",
       "      <th>0</th>\n",
       "      <td>0.525474</td>\n",
       "      <td>foo</td>\n",
       "      <td>-0.928701</td>\n",
       "      <td>0</td>\n",
       "    </tr>\n",
       "    <tr>\n",
       "      <th>1</th>\n",
       "      <td>1.221418</td>\n",
       "      <td>bar</td>\n",
       "      <td>-0.019107</td>\n",
       "      <td>1</td>\n",
       "    </tr>\n",
       "    <tr>\n",
       "      <th>2</th>\n",
       "      <td>0.572582</td>\n",
       "      <td>foo</td>\n",
       "      <td>-0.697442</td>\n",
       "      <td>2</td>\n",
       "    </tr>\n",
       "    <tr>\n",
       "      <th>3</th>\n",
       "      <td>-0.019335</td>\n",
       "      <td>bar</td>\n",
       "      <td>-0.981090</td>\n",
       "      <td>3</td>\n",
       "    </tr>\n",
       "    <tr>\n",
       "      <th>4</th>\n",
       "      <td>-2.397562</td>\n",
       "      <td>foo</td>\n",
       "      <td>1.461170</td>\n",
       "      <td>4</td>\n",
       "    </tr>\n",
       "    <tr>\n",
       "      <th>5</th>\n",
       "      <td>-0.780932</td>\n",
       "      <td>bar</td>\n",
       "      <td>-0.428393</td>\n",
       "      <td>5</td>\n",
       "    </tr>\n",
       "  </tbody>\n",
       "</table>\n",
       "</div>"
      ],
      "text/plain": [
       "          a    b         c  d\n",
       "0  0.525474  foo -0.928701  0\n",
       "1  1.221418  bar -0.019107  1\n",
       "2  0.572582  foo -0.697442  2\n",
       "3 -0.019335  bar -0.981090  3\n",
       "4 -2.397562  foo  1.461170  4\n",
       "5 -0.780932  bar -0.428393  5"
      ]
     },
     "execution_count": 26,
     "metadata": {},
     "output_type": "execute_result"
    }
   ],
   "source": [
    "df = DataFrame({'a': np.random.randn(6),\n",
    "                'b': ['foo', 'bar'] * 3,\n",
    "                'c': np.random.randn(6)})\n",
    "df['d'] = range(6)\n",
    "df"
   ]
  },
  {
   "cell_type": "code",
   "execution_count": 27,
   "metadata": {
    "collapsed": false
   },
   "outputs": [
    {
     "data": {
      "text/plain": [
       "0    foo\n",
       "1    bar\n",
       "2    foo\n",
       "3    bar\n",
       "4    foo\n",
       "5    bar\n",
       "Name: b, dtype: object"
      ]
     },
     "execution_count": 27,
     "metadata": {},
     "output_type": "execute_result"
    }
   ],
   "source": [
    "df['b']    # by column"
   ]
  },
  {
   "cell_type": "code",
   "execution_count": 28,
   "metadata": {
    "collapsed": false
   },
   "outputs": [
    {
     "data": {
      "text/html": [
       "<div>\n",
       "<table border=\"1\" class=\"dataframe\">\n",
       "  <thead>\n",
       "    <tr style=\"text-align: right;\">\n",
       "      <th></th>\n",
       "      <th>a</th>\n",
       "      <th>b</th>\n",
       "      <th>c</th>\n",
       "      <th>d</th>\n",
       "    </tr>\n",
       "  </thead>\n",
       "  <tbody>\n",
       "    <tr>\n",
       "      <th>0</th>\n",
       "      <td>0.525474</td>\n",
       "      <td>foo</td>\n",
       "      <td>-0.928701</td>\n",
       "      <td>0</td>\n",
       "    </tr>\n",
       "    <tr>\n",
       "      <th>1</th>\n",
       "      <td>1.221418</td>\n",
       "      <td>bar</td>\n",
       "      <td>-0.019107</td>\n",
       "      <td>1</td>\n",
       "    </tr>\n",
       "    <tr>\n",
       "      <th>2</th>\n",
       "      <td>0.572582</td>\n",
       "      <td>foo</td>\n",
       "      <td>-0.697442</td>\n",
       "      <td>2</td>\n",
       "    </tr>\n",
       "  </tbody>\n",
       "</table>\n",
       "</div>"
      ],
      "text/plain": [
       "          a    b         c  d\n",
       "0  0.525474  foo -0.928701  0\n",
       "1  1.221418  bar -0.019107  1\n",
       "2  0.572582  foo -0.697442  2"
      ]
     },
     "execution_count": 28,
     "metadata": {},
     "output_type": "execute_result"
    }
   ],
   "source": [
    "df[:3]"
   ]
  },
  {
   "cell_type": "code",
   "execution_count": 29,
   "metadata": {
    "collapsed": false
   },
   "outputs": [
    {
     "data": {
      "text/html": [
       "<div>\n",
       "<table border=\"1\" class=\"dataframe\">\n",
       "  <thead>\n",
       "    <tr style=\"text-align: right;\">\n",
       "      <th></th>\n",
       "      <th>a</th>\n",
       "      <th>b</th>\n",
       "      <th>c</th>\n",
       "      <th>d</th>\n",
       "    </tr>\n",
       "  </thead>\n",
       "  <tbody>\n",
       "    <tr>\n",
       "      <th>0</th>\n",
       "      <td>0.525474</td>\n",
       "      <td>foo</td>\n",
       "      <td>-0.928701</td>\n",
       "      <td>0</td>\n",
       "    </tr>\n",
       "    <tr>\n",
       "      <th>1</th>\n",
       "      <td>1.221418</td>\n",
       "      <td>bar</td>\n",
       "      <td>-0.019107</td>\n",
       "      <td>1</td>\n",
       "    </tr>\n",
       "    <tr>\n",
       "      <th>2</th>\n",
       "      <td>0.572582</td>\n",
       "      <td>foo</td>\n",
       "      <td>-0.697442</td>\n",
       "      <td>2</td>\n",
       "    </tr>\n",
       "    <tr>\n",
       "      <th>3</th>\n",
       "      <td>-0.019335</td>\n",
       "      <td>bar</td>\n",
       "      <td>-0.981090</td>\n",
       "      <td>3</td>\n",
       "    </tr>\n",
       "  </tbody>\n",
       "</table>\n",
       "</div>"
      ],
      "text/plain": [
       "          a    b         c  d\n",
       "0  0.525474  foo -0.928701  0\n",
       "1  1.221418  bar -0.019107  1\n",
       "2  0.572582  foo -0.697442  2\n",
       "3 -0.019335  bar -0.981090  3"
      ]
     },
     "execution_count": 29,
     "metadata": {},
     "output_type": "execute_result"
    }
   ],
   "source": [
    "df[:-2]"
   ]
  },
  {
   "cell_type": "code",
   "execution_count": 30,
   "metadata": {
    "collapsed": false
   },
   "outputs": [
    {
     "data": {
      "text/html": [
       "<div>\n",
       "<table border=\"1\" class=\"dataframe\">\n",
       "  <thead>\n",
       "    <tr style=\"text-align: right;\">\n",
       "      <th></th>\n",
       "      <th>a</th>\n",
       "      <th>b</th>\n",
       "      <th>c</th>\n",
       "      <th>d</th>\n",
       "    </tr>\n",
       "  </thead>\n",
       "  <tbody>\n",
       "    <tr>\n",
       "      <th>4</th>\n",
       "      <td>-2.397562</td>\n",
       "      <td>foo</td>\n",
       "      <td>1.461170</td>\n",
       "      <td>4</td>\n",
       "    </tr>\n",
       "    <tr>\n",
       "      <th>5</th>\n",
       "      <td>-0.780932</td>\n",
       "      <td>bar</td>\n",
       "      <td>-0.428393</td>\n",
       "      <td>5</td>\n",
       "    </tr>\n",
       "  </tbody>\n",
       "</table>\n",
       "</div>"
      ],
      "text/plain": [
       "          a    b         c  d\n",
       "4 -2.397562  foo  1.461170  4\n",
       "5 -0.780932  bar -0.428393  5"
      ]
     },
     "execution_count": 30,
     "metadata": {},
     "output_type": "execute_result"
    }
   ],
   "source": [
    "df[-2:]   # the last 2 rows"
   ]
  },
  {
   "cell_type": "code",
   "execution_count": 31,
   "metadata": {
    "collapsed": false,
    "scrolled": true
   },
   "outputs": [
    {
     "data": {
      "text/html": [
       "<div>\n",
       "<table border=\"1\" class=\"dataframe\">\n",
       "  <thead>\n",
       "    <tr style=\"text-align: right;\">\n",
       "      <th></th>\n",
       "      <th>a</th>\n",
       "      <th>b</th>\n",
       "    </tr>\n",
       "  </thead>\n",
       "  <tbody>\n",
       "    <tr>\n",
       "      <th>0</th>\n",
       "      <td>0.525474</td>\n",
       "      <td>foo</td>\n",
       "    </tr>\n",
       "    <tr>\n",
       "      <th>1</th>\n",
       "      <td>1.221418</td>\n",
       "      <td>bar</td>\n",
       "    </tr>\n",
       "    <tr>\n",
       "      <th>2</th>\n",
       "      <td>0.572582</td>\n",
       "      <td>foo</td>\n",
       "    </tr>\n",
       "    <tr>\n",
       "      <th>3</th>\n",
       "      <td>-0.019335</td>\n",
       "      <td>bar</td>\n",
       "    </tr>\n",
       "    <tr>\n",
       "      <th>4</th>\n",
       "      <td>-2.397562</td>\n",
       "      <td>foo</td>\n",
       "    </tr>\n",
       "    <tr>\n",
       "      <th>5</th>\n",
       "      <td>-0.780932</td>\n",
       "      <td>bar</td>\n",
       "    </tr>\n",
       "  </tbody>\n",
       "</table>\n",
       "</div>"
      ],
      "text/plain": [
       "          a    b\n",
       "0  0.525474  foo\n",
       "1  1.221418  bar\n",
       "2  0.572582  foo\n",
       "3 -0.019335  bar\n",
       "4 -2.397562  foo\n",
       "5 -0.780932  bar"
      ]
     },
     "execution_count": 31,
     "metadata": {},
     "output_type": "execute_result"
    }
   ],
   "source": [
    "df[['a','b']]"
   ]
  },
  {
   "cell_type": "code",
   "execution_count": 32,
   "metadata": {
    "collapsed": false
   },
   "outputs": [
    {
     "data": {
      "text/plain": [
       "array(['foo', 'bar', 'foo', 'bar', 'foo', 'bar'], \n",
       "      dtype='|S3')"
      ]
     },
     "execution_count": 32,
     "metadata": {},
     "output_type": "execute_result"
    }
   ],
   "source": [
    "np.tile(['foo', 'bar'], 3)   # in numpy"
   ]
  },
  {
   "cell_type": "code",
   "execution_count": 33,
   "metadata": {
    "collapsed": false
   },
   "outputs": [
    {
     "data": {
      "text/plain": [
       "a    0.525474\n",
       "b         foo\n",
       "c   -0.928701\n",
       "d           0\n",
       "Name: 0, dtype: object"
      ]
     },
     "execution_count": 33,
     "metadata": {},
     "output_type": "execute_result"
    }
   ],
   "source": [
    "df.xs(0)   # returning the first row"
   ]
  },
  {
   "cell_type": "code",
   "execution_count": 34,
   "metadata": {
    "collapsed": false
   },
   "outputs": [
    {
     "data": {
      "text/plain": [
       "a    0.572582\n",
       "b         foo\n",
       "c   -0.697442\n",
       "d           2\n",
       "Name: 2, dtype: object"
      ]
     },
     "execution_count": 34,
     "metadata": {},
     "output_type": "execute_result"
    }
   ],
   "source": [
    "df.ix[2]    # does equal thing as above. In this case, 3rd row. "
   ]
  },
  {
   "cell_type": "code",
   "execution_count": 35,
   "metadata": {
    "collapsed": false
   },
   "outputs": [
    {
     "data": {
      "text/plain": [
       "'foo'"
      ]
     },
     "execution_count": 35,
     "metadata": {},
     "output_type": "execute_result"
    }
   ],
   "source": [
    "df.ix[2, 'b']"
   ]
  },
  {
   "cell_type": "code",
   "execution_count": 36,
   "metadata": {
    "collapsed": false
   },
   "outputs": [
    {
     "name": "stdout",
     "output_type": "stream",
     "text": [
      "10000 loops, best of 3: 105 µs per loop\n"
     ]
    }
   ],
   "source": [
    "timeit df.ix[1]"
   ]
  },
  {
   "cell_type": "code",
   "execution_count": 37,
   "metadata": {
    "collapsed": false
   },
   "outputs": [
    {
     "data": {
      "text/plain": [
       "'foo'"
      ]
     },
     "execution_count": 37,
     "metadata": {},
     "output_type": "execute_result"
    }
   ],
   "source": [
    "df.get_value(2, 'b')"
   ]
  },
  {
   "cell_type": "code",
   "execution_count": 38,
   "metadata": {
    "collapsed": false
   },
   "outputs": [
    {
     "name": "stdout",
     "output_type": "stream",
     "text": [
      "The slowest run took 10.31 times longer than the fastest. This could mean that an intermediate result is being cached.\n",
      "100000 loops, best of 3: 5.04 µs per loop\n"
     ]
    }
   ],
   "source": [
    "timeit df.ix[2, 'b']"
   ]
  },
  {
   "cell_type": "code",
   "execution_count": 39,
   "metadata": {
    "collapsed": false
   },
   "outputs": [
    {
     "name": "stdout",
     "output_type": "stream",
     "text": [
      "The slowest run took 11.67 times longer than the fastest. This could mean that an intermediate result is being cached.\n",
      "100000 loops, best of 3: 2.49 µs per loop\n"
     ]
    }
   ],
   "source": [
    "timeit df.get_value(2, 'b')"
   ]
  },
  {
   "cell_type": "code",
   "execution_count": 40,
   "metadata": {
    "collapsed": false
   },
   "outputs": [
    {
     "data": {
      "text/plain": [
       "2    foo\n",
       "3    bar\n",
       "4    foo\n",
       "Name: b, dtype: object"
      ]
     },
     "execution_count": 40,
     "metadata": {},
     "output_type": "execute_result"
    }
   ],
   "source": [
    "df.ix[2:4, 'b']"
   ]
  },
  {
   "cell_type": "code",
   "execution_count": 41,
   "metadata": {
    "collapsed": false
   },
   "outputs": [
    {
     "data": {
      "text/html": [
       "<div>\n",
       "<table border=\"1\" class=\"dataframe\">\n",
       "  <thead>\n",
       "    <tr style=\"text-align: right;\">\n",
       "      <th></th>\n",
       "      <th>b</th>\n",
       "      <th>c</th>\n",
       "    </tr>\n",
       "  </thead>\n",
       "  <tbody>\n",
       "    <tr>\n",
       "      <th>2</th>\n",
       "      <td>foo</td>\n",
       "      <td>-0.697442</td>\n",
       "    </tr>\n",
       "    <tr>\n",
       "      <th>3</th>\n",
       "      <td>bar</td>\n",
       "      <td>-0.981090</td>\n",
       "    </tr>\n",
       "    <tr>\n",
       "      <th>4</th>\n",
       "      <td>foo</td>\n",
       "      <td>1.461170</td>\n",
       "    </tr>\n",
       "  </tbody>\n",
       "</table>\n",
       "</div>"
      ],
      "text/plain": [
       "     b         c\n",
       "2  foo -0.697442\n",
       "3  bar -0.981090\n",
       "4  foo  1.461170"
      ]
     },
     "execution_count": 41,
     "metadata": {},
     "output_type": "execute_result"
    }
   ],
   "source": [
    "df.ix[2:4, ['b', 'c']]"
   ]
  },
  {
   "cell_type": "code",
   "execution_count": 42,
   "metadata": {
    "collapsed": false
   },
   "outputs": [
    {
     "data": {
      "text/html": [
       "<div>\n",
       "<table border=\"1\" class=\"dataframe\">\n",
       "  <thead>\n",
       "    <tr style=\"text-align: right;\">\n",
       "      <th></th>\n",
       "      <th>b</th>\n",
       "      <th>c</th>\n",
       "    </tr>\n",
       "  </thead>\n",
       "  <tbody>\n",
       "    <tr>\n",
       "      <th>2</th>\n",
       "      <td>foo</td>\n",
       "      <td>-0.697442</td>\n",
       "    </tr>\n",
       "    <tr>\n",
       "      <th>3</th>\n",
       "      <td>bar</td>\n",
       "      <td>-0.981090</td>\n",
       "    </tr>\n",
       "    <tr>\n",
       "      <th>4</th>\n",
       "      <td>foo</td>\n",
       "      <td>1.461170</td>\n",
       "    </tr>\n",
       "  </tbody>\n",
       "</table>\n",
       "</div>"
      ],
      "text/plain": [
       "     b         c\n",
       "2  foo -0.697442\n",
       "3  bar -0.981090\n",
       "4  foo  1.461170"
      ]
     },
     "execution_count": 42,
     "metadata": {},
     "output_type": "execute_result"
    }
   ],
   "source": [
    "df.ix[2:4, 'b':'c']   # slices by column - essentially the same as above."
   ]
  },
  {
   "cell_type": "code",
   "execution_count": 43,
   "metadata": {
    "collapsed": false
   },
   "outputs": [
    {
     "data": {
      "text/html": [
       "<div>\n",
       "<table border=\"1\" class=\"dataframe\">\n",
       "  <thead>\n",
       "    <tr style=\"text-align: right;\">\n",
       "      <th></th>\n",
       "      <th>a</th>\n",
       "      <th>b</th>\n",
       "    </tr>\n",
       "  </thead>\n",
       "  <tbody>\n",
       "    <tr>\n",
       "      <th>2</th>\n",
       "      <td>0.572582</td>\n",
       "      <td>foo</td>\n",
       "    </tr>\n",
       "    <tr>\n",
       "      <th>3</th>\n",
       "      <td>-0.019335</td>\n",
       "      <td>bar</td>\n",
       "    </tr>\n",
       "    <tr>\n",
       "      <th>4</th>\n",
       "      <td>-2.397562</td>\n",
       "      <td>foo</td>\n",
       "    </tr>\n",
       "  </tbody>\n",
       "</table>\n",
       "</div>"
      ],
      "text/plain": [
       "          a    b\n",
       "2  0.572582  foo\n",
       "3 -0.019335  bar\n",
       "4 -2.397562  foo"
      ]
     },
     "execution_count": 43,
     "metadata": {},
     "output_type": "execute_result"
    }
   ],
   "source": [
    "df.ix[2:4, 0:2]"
   ]
  },
  {
   "cell_type": "code",
   "execution_count": 44,
   "metadata": {
    "collapsed": false
   },
   "outputs": [
    {
     "data": {
      "text/html": [
       "<div>\n",
       "<table border=\"1\" class=\"dataframe\">\n",
       "  <thead>\n",
       "    <tr style=\"text-align: right;\">\n",
       "      <th></th>\n",
       "      <th>b</th>\n",
       "      <th>c</th>\n",
       "      <th>d</th>\n",
       "    </tr>\n",
       "  </thead>\n",
       "  <tbody>\n",
       "    <tr>\n",
       "      <th>0</th>\n",
       "      <td>foo</td>\n",
       "      <td>-0.928701</td>\n",
       "      <td>0</td>\n",
       "    </tr>\n",
       "    <tr>\n",
       "      <th>2</th>\n",
       "      <td>foo</td>\n",
       "      <td>-0.697442</td>\n",
       "      <td>2</td>\n",
       "    </tr>\n",
       "    <tr>\n",
       "      <th>4</th>\n",
       "      <td>foo</td>\n",
       "      <td>1.461170</td>\n",
       "      <td>4</td>\n",
       "    </tr>\n",
       "  </tbody>\n",
       "</table>\n",
       "</div>"
      ],
      "text/plain": [
       "     b         c  d\n",
       "0  foo -0.928701  0\n",
       "2  foo -0.697442  2\n",
       "4  foo  1.461170  4"
      ]
     },
     "execution_count": 44,
     "metadata": {},
     "output_type": "execute_result"
    }
   ],
   "source": [
    "df.ix[[0, 2, 4], ['b', 'c', 'd']]   # pass a list of rows and columns I want to select out"
   ]
  },
  {
   "cell_type": "code",
   "execution_count": 45,
   "metadata": {
    "collapsed": false
   },
   "outputs": [
    {
     "data": {
      "text/plain": [
       "0    False\n",
       "1    False\n",
       "2    False\n",
       "3    False\n",
       "4     True\n",
       "5    False\n",
       "Name: c, dtype: bool"
      ]
     },
     "execution_count": 45,
     "metadata": {},
     "output_type": "execute_result"
    }
   ],
   "source": [
    "df['c'] > 0"
   ]
  },
  {
   "cell_type": "code",
   "execution_count": 46,
   "metadata": {
    "collapsed": false
   },
   "outputs": [
    {
     "data": {
      "text/html": [
       "<div>\n",
       "<table border=\"1\" class=\"dataframe\">\n",
       "  <thead>\n",
       "    <tr style=\"text-align: right;\">\n",
       "      <th></th>\n",
       "      <th>a</th>\n",
       "      <th>b</th>\n",
       "      <th>c</th>\n",
       "      <th>d</th>\n",
       "    </tr>\n",
       "  </thead>\n",
       "  <tbody>\n",
       "    <tr>\n",
       "      <th>4</th>\n",
       "      <td>-2.397562</td>\n",
       "      <td>foo</td>\n",
       "      <td>1.46117</td>\n",
       "      <td>4</td>\n",
       "    </tr>\n",
       "  </tbody>\n",
       "</table>\n",
       "</div>"
      ],
      "text/plain": [
       "          a    b        c  d\n",
       "4 -2.397562  foo  1.46117  4"
      ]
     },
     "execution_count": 46,
     "metadata": {},
     "output_type": "execute_result"
    }
   ],
   "source": [
    "df.ix[df['c'] > 0]   # boolean arrays"
   ]
  },
  {
   "cell_type": "code",
   "execution_count": 47,
   "metadata": {
    "collapsed": false
   },
   "outputs": [
    {
     "data": {
      "text/plain": [
       "RangeIndex(start=0, stop=6, step=1)"
      ]
     },
     "execution_count": 47,
     "metadata": {},
     "output_type": "execute_result"
    }
   ],
   "source": [
    "df.index"
   ]
  },
  {
   "cell_type": "code",
   "execution_count": 48,
   "metadata": {
    "collapsed": false
   },
   "outputs": [
    {
     "data": {
      "text/plain": [
       "Index([u'a', u'b', u'c', u'd'], dtype='object')"
      ]
     },
     "execution_count": 48,
     "metadata": {},
     "output_type": "execute_result"
    }
   ],
   "source": [
    "df.columns"
   ]
  },
  {
   "cell_type": "code",
   "execution_count": 49,
   "metadata": {
    "collapsed": false
   },
   "outputs": [
    {
     "data": {
      "text/plain": [
       "DatetimeIndex(['2000-01-01', '2000-01-02', '2000-01-03', '2000-01-04',\n",
       "               '2000-01-05', '2000-01-06'],\n",
       "              dtype='datetime64[ns]', freq='D')"
      ]
     },
     "execution_count": 49,
     "metadata": {},
     "output_type": "execute_result"
    }
   ],
   "source": [
    "pandas.date_range('1/1/2000',periods=6)"
   ]
  },
  {
   "cell_type": "code",
   "execution_count": 50,
   "metadata": {
    "collapsed": false
   },
   "outputs": [
    {
     "data": {
      "text/html": [
       "<div>\n",
       "<table border=\"1\" class=\"dataframe\">\n",
       "  <thead>\n",
       "    <tr style=\"text-align: right;\">\n",
       "      <th></th>\n",
       "      <th>a</th>\n",
       "      <th>b</th>\n",
       "      <th>c</th>\n",
       "    </tr>\n",
       "  </thead>\n",
       "  <tbody>\n",
       "    <tr>\n",
       "      <th>2000-01-01</th>\n",
       "      <td>-0.633389</td>\n",
       "      <td>foo</td>\n",
       "      <td>-0.481991</td>\n",
       "    </tr>\n",
       "    <tr>\n",
       "      <th>2000-01-02</th>\n",
       "      <td>-0.356704</td>\n",
       "      <td>bar</td>\n",
       "      <td>-1.827860</td>\n",
       "    </tr>\n",
       "    <tr>\n",
       "      <th>2000-01-03</th>\n",
       "      <td>1.840481</td>\n",
       "      <td>foo</td>\n",
       "      <td>-0.538008</td>\n",
       "    </tr>\n",
       "    <tr>\n",
       "      <th>2000-01-04</th>\n",
       "      <td>0.227594</td>\n",
       "      <td>bar</td>\n",
       "      <td>1.692797</td>\n",
       "    </tr>\n",
       "    <tr>\n",
       "      <th>2000-01-05</th>\n",
       "      <td>1.263390</td>\n",
       "      <td>foo</td>\n",
       "      <td>-1.094993</td>\n",
       "    </tr>\n",
       "    <tr>\n",
       "      <th>2000-01-06</th>\n",
       "      <td>-1.054102</td>\n",
       "      <td>bar</td>\n",
       "      <td>0.190967</td>\n",
       "    </tr>\n",
       "  </tbody>\n",
       "</table>\n",
       "</div>"
      ],
      "text/plain": [
       "                   a    b         c\n",
       "2000-01-01 -0.633389  foo -0.481991\n",
       "2000-01-02 -0.356704  bar -1.827860\n",
       "2000-01-03  1.840481  foo -0.538008\n",
       "2000-01-04  0.227594  bar  1.692797\n",
       "2000-01-05  1.263390  foo -1.094993\n",
       "2000-01-06 -1.054102  bar  0.190967"
      ]
     },
     "execution_count": 50,
     "metadata": {},
     "output_type": "execute_result"
    }
   ],
   "source": [
    "df = DataFrame({'a': np.random.randn(6),\n",
    "                'b': ['foo', 'bar'] * 3,\n",
    "                'c': np.random.randn(6)},\n",
    "               index=pandas.date_range('1/1/2000', periods=6))\n",
    "df"
   ]
  },
  {
   "cell_type": "code",
   "execution_count": 51,
   "metadata": {
    "collapsed": false
   },
   "outputs": [
    {
     "data": {
      "text/html": [
       "<div>\n",
       "<table border=\"1\" class=\"dataframe\">\n",
       "  <thead>\n",
       "    <tr style=\"text-align: right;\">\n",
       "      <th></th>\n",
       "      <th>a</th>\n",
       "      <th>b</th>\n",
       "      <th>c</th>\n",
       "      <th>d</th>\n",
       "    </tr>\n",
       "  </thead>\n",
       "  <tbody>\n",
       "    <tr>\n",
       "      <th>0</th>\n",
       "      <td>-1.752489</td>\n",
       "      <td>foo</td>\n",
       "      <td>1.509759</td>\n",
       "      <td>NaN</td>\n",
       "    </tr>\n",
       "    <tr>\n",
       "      <th>1</th>\n",
       "      <td>-0.035462</td>\n",
       "      <td>bar</td>\n",
       "      <td>1.259030</td>\n",
       "      <td>NaN</td>\n",
       "    </tr>\n",
       "    <tr>\n",
       "      <th>2</th>\n",
       "      <td>1.506903</td>\n",
       "      <td>foo</td>\n",
       "      <td>1.211627</td>\n",
       "      <td>NaN</td>\n",
       "    </tr>\n",
       "    <tr>\n",
       "      <th>3</th>\n",
       "      <td>1.302028</td>\n",
       "      <td>bar</td>\n",
       "      <td>-0.779969</td>\n",
       "      <td>NaN</td>\n",
       "    </tr>\n",
       "    <tr>\n",
       "      <th>4</th>\n",
       "      <td>-0.437162</td>\n",
       "      <td>foo</td>\n",
       "      <td>-1.220543</td>\n",
       "      <td>NaN</td>\n",
       "    </tr>\n",
       "    <tr>\n",
       "      <th>5</th>\n",
       "      <td>-1.015929</td>\n",
       "      <td>bar</td>\n",
       "      <td>-0.031962</td>\n",
       "      <td>NaN</td>\n",
       "    </tr>\n",
       "  </tbody>\n",
       "</table>\n",
       "</div>"
      ],
      "text/plain": [
       "          a    b         c    d\n",
       "0 -1.752489  foo  1.509759  NaN\n",
       "1 -0.035462  bar  1.259030  NaN\n",
       "2  1.506903  foo  1.211627  NaN\n",
       "3  1.302028  bar -0.779969  NaN\n",
       "4 -0.437162  foo -1.220543  NaN\n",
       "5 -1.015929  bar -0.031962  NaN"
      ]
     },
     "execution_count": 51,
     "metadata": {},
     "output_type": "execute_result"
    }
   ],
   "source": [
    "df = DataFrame({'a': np.random.randn(6),\n",
    "                'b': ['foo', 'bar'] * 3,\n",
    "                'c': np.random.randn(6)},\n",
    "               columns=['a', 'b', 'c', 'd'])\n",
    "df"
   ]
  },
  {
   "cell_type": "code",
   "execution_count": 52,
   "metadata": {
    "collapsed": false
   },
   "outputs": [
    {
     "data": {
      "text/html": [
       "<div>\n",
       "<table border=\"1\" class=\"dataframe\">\n",
       "  <thead>\n",
       "    <tr style=\"text-align: right;\">\n",
       "      <th></th>\n",
       "      <th>a</th>\n",
       "      <th>b</th>\n",
       "      <th>c</th>\n",
       "      <th>d</th>\n",
       "    </tr>\n",
       "  </thead>\n",
       "  <tbody>\n",
       "    <tr>\n",
       "      <th>0</th>\n",
       "      <td>False</td>\n",
       "      <td>False</td>\n",
       "      <td>False</td>\n",
       "      <td>True</td>\n",
       "    </tr>\n",
       "    <tr>\n",
       "      <th>1</th>\n",
       "      <td>False</td>\n",
       "      <td>False</td>\n",
       "      <td>False</td>\n",
       "      <td>True</td>\n",
       "    </tr>\n",
       "    <tr>\n",
       "      <th>2</th>\n",
       "      <td>False</td>\n",
       "      <td>False</td>\n",
       "      <td>False</td>\n",
       "      <td>True</td>\n",
       "    </tr>\n",
       "    <tr>\n",
       "      <th>3</th>\n",
       "      <td>False</td>\n",
       "      <td>False</td>\n",
       "      <td>False</td>\n",
       "      <td>True</td>\n",
       "    </tr>\n",
       "    <tr>\n",
       "      <th>4</th>\n",
       "      <td>False</td>\n",
       "      <td>False</td>\n",
       "      <td>False</td>\n",
       "      <td>True</td>\n",
       "    </tr>\n",
       "    <tr>\n",
       "      <th>5</th>\n",
       "      <td>False</td>\n",
       "      <td>False</td>\n",
       "      <td>False</td>\n",
       "      <td>True</td>\n",
       "    </tr>\n",
       "  </tbody>\n",
       "</table>\n",
       "</div>"
      ],
      "text/plain": [
       "       a      b      c     d\n",
       "0  False  False  False  True\n",
       "1  False  False  False  True\n",
       "2  False  False  False  True\n",
       "3  False  False  False  True\n",
       "4  False  False  False  True\n",
       "5  False  False  False  True"
      ]
     },
     "execution_count": 52,
     "metadata": {},
     "output_type": "execute_result"
    }
   ],
   "source": [
    "isnull(df)"
   ]
  },
  {
   "cell_type": "markdown",
   "metadata": {},
   "source": [
    "Creation from nested dicts\n",
    "--------------------------\n",
    "\n",
    "These arise naturally in Python code"
   ]
  },
  {
   "cell_type": "code",
   "execution_count": 53,
   "metadata": {
    "collapsed": false,
    "scrolled": true
   },
   "outputs": [
    {
     "data": {
      "text/plain": [
       "{'bar': {'a': -0.2742087421979518,\n",
       "  'b': -0.5884332166168744,\n",
       "  'c': 0.8882539467547058,\n",
       "  'd': -0.3344775301054686},\n",
       " 'baz': {'a': 0.27960324735042086,\n",
       "  'b': -1.3124341559736814,\n",
       "  'c': 0.6067046661901261,\n",
       "  'd': -0.1594358136656239},\n",
       " 'foo': {'a': -0.44368931109138227,\n",
       "  'b': 0.6905747310970697,\n",
       "  'c': -1.4753429554453497,\n",
       "  'd': -1.353267752483336}}"
      ]
     },
     "execution_count": 53,
     "metadata": {},
     "output_type": "execute_result"
    }
   ],
   "source": [
    "data = {}\n",
    "for col in ['foo', 'bar', 'baz']:\n",
    "    for row in ['a', 'b', 'c', 'd']:\n",
    "        data.setdefault(col, {})[row] = np.random.randn()   # sorted cols: bar, baz, foo\n",
    "data"
   ]
  },
  {
   "cell_type": "code",
   "execution_count": 54,
   "metadata": {
    "collapsed": false
   },
   "outputs": [],
   "source": [
    "del data ['foo']['c']   # delete an entry by index key (col) and row."
   ]
  },
  {
   "cell_type": "code",
   "execution_count": 55,
   "metadata": {
    "collapsed": false
   },
   "outputs": [
    {
     "data": {
      "text/html": [
       "<div>\n",
       "<table border=\"1\" class=\"dataframe\">\n",
       "  <thead>\n",
       "    <tr style=\"text-align: right;\">\n",
       "      <th></th>\n",
       "      <th>bar</th>\n",
       "      <th>baz</th>\n",
       "      <th>foo</th>\n",
       "    </tr>\n",
       "  </thead>\n",
       "  <tbody>\n",
       "    <tr>\n",
       "      <th>a</th>\n",
       "      <td>-0.274209</td>\n",
       "      <td>0.279603</td>\n",
       "      <td>-0.443689</td>\n",
       "    </tr>\n",
       "    <tr>\n",
       "      <th>b</th>\n",
       "      <td>-0.588433</td>\n",
       "      <td>-1.312434</td>\n",
       "      <td>0.690575</td>\n",
       "    </tr>\n",
       "    <tr>\n",
       "      <th>c</th>\n",
       "      <td>0.888254</td>\n",
       "      <td>0.606705</td>\n",
       "      <td>NaN</td>\n",
       "    </tr>\n",
       "    <tr>\n",
       "      <th>d</th>\n",
       "      <td>-0.334478</td>\n",
       "      <td>-0.159436</td>\n",
       "      <td>-1.353268</td>\n",
       "    </tr>\n",
       "  </tbody>\n",
       "</table>\n",
       "</div>"
      ],
      "text/plain": [
       "        bar       baz       foo\n",
       "a -0.274209  0.279603 -0.443689\n",
       "b -0.588433 -1.312434  0.690575\n",
       "c  0.888254  0.606705       NaN\n",
       "d -0.334478 -0.159436 -1.353268"
      ]
     },
     "execution_count": 55,
     "metadata": {},
     "output_type": "execute_result"
    }
   ],
   "source": [
    "DataFrame(data)   # pass a dict "
   ]
  },
  {
   "cell_type": "markdown",
   "metadata": {},
   "source": [
    "Data alignment\n",
    "=============="
   ]
  },
  {
   "cell_type": "code",
   "execution_count": 56,
   "metadata": {
    "collapsed": true
   },
   "outputs": [],
   "source": [
    "close_px = read_csv('stock_data.csv', index_col=0, parse_dates=True)"
   ]
  },
  {
   "cell_type": "code",
   "execution_count": 64,
   "metadata": {
    "collapsed": false
   },
   "outputs": [
    {
     "name": "stderr",
     "output_type": "stream",
     "text": [
      "'head' is not recognized as an internal or external command,\n",
      "operable program or batch file.\n"
     ]
    }
   ],
   "source": [
    "!head -n 10 stock_data.csv"
   ]
  },
  {
   "cell_type": "code",
   "execution_count": 58,
   "metadata": {
    "collapsed": false
   },
   "outputs": [
    {
     "name": "stderr",
     "output_type": "stream",
     "text": [
      "'head' is not recognized as an internal or external command,\n",
      "operable program or batch file.\n"
     ]
    }
   ],
   "source": [
    "!head  stock_data.csv"
   ]
  },
  {
   "cell_type": "code",
   "execution_count": 59,
   "metadata": {
    "collapsed": false,
    "scrolled": true
   },
   "outputs": [
    {
     "data": {
      "text/html": [
       "<div>\n",
       "<table border=\"1\" class=\"dataframe\">\n",
       "  <thead>\n",
       "    <tr style=\"text-align: right;\">\n",
       "      <th></th>\n",
       "      <th>AA</th>\n",
       "      <th>AAPL</th>\n",
       "      <th>GE</th>\n",
       "      <th>IBM</th>\n",
       "      <th>JNJ</th>\n",
       "      <th>MSFT</th>\n",
       "      <th>PEP</th>\n",
       "      <th>SPX</th>\n",
       "      <th>XOM</th>\n",
       "    </tr>\n",
       "  </thead>\n",
       "  <tbody>\n",
       "    <tr>\n",
       "      <th>2007-10-29</th>\n",
       "      <td>37.41</td>\n",
       "      <td>185.09</td>\n",
       "      <td>34.46</td>\n",
       "      <td>106.78</td>\n",
       "      <td>57.13</td>\n",
       "      <td>31.78</td>\n",
       "      <td>65.67</td>\n",
       "      <td>1540.98</td>\n",
       "      <td>85.51</td>\n",
       "    </tr>\n",
       "    <tr>\n",
       "      <th>2007-10-30</th>\n",
       "      <td>36.43</td>\n",
       "      <td>187.00</td>\n",
       "      <td>34.39</td>\n",
       "      <td>106.15</td>\n",
       "      <td>56.99</td>\n",
       "      <td>32.70</td>\n",
       "      <td>65.80</td>\n",
       "      <td>1531.02</td>\n",
       "      <td>83.25</td>\n",
       "    </tr>\n",
       "    <tr>\n",
       "      <th>2007-10-31</th>\n",
       "      <td>36.79</td>\n",
       "      <td>189.95</td>\n",
       "      <td>34.97</td>\n",
       "      <td>108.01</td>\n",
       "      <td>57.30</td>\n",
       "      <td>33.84</td>\n",
       "      <td>65.69</td>\n",
       "      <td>1549.38</td>\n",
       "      <td>84.03</td>\n",
       "    </tr>\n",
       "    <tr>\n",
       "      <th>2007-11-01</th>\n",
       "      <td>35.22</td>\n",
       "      <td>187.44</td>\n",
       "      <td>34.27</td>\n",
       "      <td>105.72</td>\n",
       "      <td>56.85</td>\n",
       "      <td>34.07</td>\n",
       "      <td>64.51</td>\n",
       "      <td>1508.44</td>\n",
       "      <td>80.84</td>\n",
       "    </tr>\n",
       "    <tr>\n",
       "      <th>2007-11-02</th>\n",
       "      <td>35.83</td>\n",
       "      <td>187.87</td>\n",
       "      <td>34.27</td>\n",
       "      <td>106.59</td>\n",
       "      <td>56.95</td>\n",
       "      <td>34.07</td>\n",
       "      <td>65.03</td>\n",
       "      <td>1509.65</td>\n",
       "      <td>80.32</td>\n",
       "    </tr>\n",
       "    <tr>\n",
       "      <th>2007-11-05</th>\n",
       "      <td>35.22</td>\n",
       "      <td>186.18</td>\n",
       "      <td>34.15</td>\n",
       "      <td>105.48</td>\n",
       "      <td>56.70</td>\n",
       "      <td>33.77</td>\n",
       "      <td>64.84</td>\n",
       "      <td>1502.17</td>\n",
       "      <td>80.07</td>\n",
       "    </tr>\n",
       "    <tr>\n",
       "      <th>2007-11-06</th>\n",
       "      <td>35.84</td>\n",
       "      <td>191.79</td>\n",
       "      <td>34.14</td>\n",
       "      <td>105.27</td>\n",
       "      <td>56.80</td>\n",
       "      <td>33.47</td>\n",
       "      <td>65.49</td>\n",
       "      <td>1520.27</td>\n",
       "      <td>82.56</td>\n",
       "    </tr>\n",
       "    <tr>\n",
       "      <th>2007-11-07</th>\n",
       "      <td>34.76</td>\n",
       "      <td>186.30</td>\n",
       "      <td>33.20</td>\n",
       "      <td>103.69</td>\n",
       "      <td>56.19</td>\n",
       "      <td>32.65</td>\n",
       "      <td>64.46</td>\n",
       "      <td>1475.62</td>\n",
       "      <td>79.96</td>\n",
       "    </tr>\n",
       "    <tr>\n",
       "      <th>2007-11-08</th>\n",
       "      <td>35.00</td>\n",
       "      <td>175.47</td>\n",
       "      <td>33.15</td>\n",
       "      <td>99.05</td>\n",
       "      <td>56.79</td>\n",
       "      <td>31.94</td>\n",
       "      <td>65.50</td>\n",
       "      <td>1474.77</td>\n",
       "      <td>82.00</td>\n",
       "    </tr>\n",
       "    <tr>\n",
       "      <th>2007-11-09</th>\n",
       "      <td>34.47</td>\n",
       "      <td>165.37</td>\n",
       "      <td>32.61</td>\n",
       "      <td>93.58</td>\n",
       "      <td>57.29</td>\n",
       "      <td>31.01</td>\n",
       "      <td>65.48</td>\n",
       "      <td>1453.70</td>\n",
       "      <td>79.64</td>\n",
       "    </tr>\n",
       "    <tr>\n",
       "      <th>2007-11-12</th>\n",
       "      <td>33.33</td>\n",
       "      <td>153.76</td>\n",
       "      <td>32.50</td>\n",
       "      <td>94.70</td>\n",
       "      <td>58.30</td>\n",
       "      <td>30.69</td>\n",
       "      <td>64.67</td>\n",
       "      <td>1439.18</td>\n",
       "      <td>77.52</td>\n",
       "    </tr>\n",
       "    <tr>\n",
       "      <th>2007-11-13</th>\n",
       "      <td>34.04</td>\n",
       "      <td>169.96</td>\n",
       "      <td>33.31</td>\n",
       "      <td>98.27</td>\n",
       "      <td>59.18</td>\n",
       "      <td>31.79</td>\n",
       "      <td>65.35</td>\n",
       "      <td>1481.05</td>\n",
       "      <td>79.67</td>\n",
       "    </tr>\n",
       "    <tr>\n",
       "      <th>2007-11-14</th>\n",
       "      <td>34.25</td>\n",
       "      <td>166.11</td>\n",
       "      <td>33.14</td>\n",
       "      <td>96.56</td>\n",
       "      <td>58.81</td>\n",
       "      <td>31.30</td>\n",
       "      <td>65.99</td>\n",
       "      <td>1470.58</td>\n",
       "      <td>79.15</td>\n",
       "    </tr>\n",
       "    <tr>\n",
       "      <th>2007-11-15</th>\n",
       "      <td>33.76</td>\n",
       "      <td>164.30</td>\n",
       "      <td>32.55</td>\n",
       "      <td>96.71</td>\n",
       "      <td>58.80</td>\n",
       "      <td>31.14</td>\n",
       "      <td>65.57</td>\n",
       "      <td>1451.15</td>\n",
       "      <td>77.48</td>\n",
       "    </tr>\n",
       "    <tr>\n",
       "      <th>2007-11-16</th>\n",
       "      <td>33.74</td>\n",
       "      <td>166.39</td>\n",
       "      <td>32.84</td>\n",
       "      <td>97.82</td>\n",
       "      <td>59.56</td>\n",
       "      <td>31.44</td>\n",
       "      <td>66.08</td>\n",
       "      <td>1458.74</td>\n",
       "      <td>78.04</td>\n",
       "    </tr>\n",
       "    <tr>\n",
       "      <th>2007-11-19</th>\n",
       "      <td>32.59</td>\n",
       "      <td>163.95</td>\n",
       "      <td>32.42</td>\n",
       "      <td>95.42</td>\n",
       "      <td>59.42</td>\n",
       "      <td>31.32</td>\n",
       "      <td>66.90</td>\n",
       "      <td>1433.27</td>\n",
       "      <td>77.13</td>\n",
       "    </tr>\n",
       "    <tr>\n",
       "      <th>2007-11-20</th>\n",
       "      <td>32.88</td>\n",
       "      <td>168.85</td>\n",
       "      <td>32.32</td>\n",
       "      <td>96.54</td>\n",
       "      <td>59.47</td>\n",
       "      <td>31.90</td>\n",
       "      <td>66.69</td>\n",
       "      <td>1439.70</td>\n",
       "      <td>80.53</td>\n",
       "    </tr>\n",
       "    <tr>\n",
       "      <th>2007-11-21</th>\n",
       "      <td>32.68</td>\n",
       "      <td>168.46</td>\n",
       "      <td>31.58</td>\n",
       "      <td>95.42</td>\n",
       "      <td>59.03</td>\n",
       "      <td>31.57</td>\n",
       "      <td>66.87</td>\n",
       "      <td>1416.77</td>\n",
       "      <td>79.82</td>\n",
       "    </tr>\n",
       "    <tr>\n",
       "      <th>2007-11-23</th>\n",
       "      <td>32.66</td>\n",
       "      <td>171.54</td>\n",
       "      <td>32.01</td>\n",
       "      <td>97.13</td>\n",
       "      <td>59.16</td>\n",
       "      <td>31.46</td>\n",
       "      <td>67.29</td>\n",
       "      <td>1440.70</td>\n",
       "      <td>80.96</td>\n",
       "    </tr>\n",
       "    <tr>\n",
       "      <th>2007-11-26</th>\n",
       "      <td>32.41</td>\n",
       "      <td>172.54</td>\n",
       "      <td>31.21</td>\n",
       "      <td>95.19</td>\n",
       "      <td>59.60</td>\n",
       "      <td>30.41</td>\n",
       "      <td>66.56</td>\n",
       "      <td>1407.22</td>\n",
       "      <td>78.57</td>\n",
       "    </tr>\n",
       "    <tr>\n",
       "      <th>2007-11-27</th>\n",
       "      <td>32.56</td>\n",
       "      <td>174.81</td>\n",
       "      <td>31.82</td>\n",
       "      <td>96.92</td>\n",
       "      <td>59.92</td>\n",
       "      <td>30.49</td>\n",
       "      <td>67.65</td>\n",
       "      <td>1428.23</td>\n",
       "      <td>79.21</td>\n",
       "    </tr>\n",
       "    <tr>\n",
       "      <th>2007-11-28</th>\n",
       "      <td>33.65</td>\n",
       "      <td>180.22</td>\n",
       "      <td>32.68</td>\n",
       "      <td>100.23</td>\n",
       "      <td>60.46</td>\n",
       "      <td>31.08</td>\n",
       "      <td>68.76</td>\n",
       "      <td>1469.02</td>\n",
       "      <td>80.62</td>\n",
       "    </tr>\n",
       "    <tr>\n",
       "      <th>2007-11-29</th>\n",
       "      <td>33.97</td>\n",
       "      <td>184.29</td>\n",
       "      <td>32.40</td>\n",
       "      <td>100.35</td>\n",
       "      <td>60.51</td>\n",
       "      <td>30.98</td>\n",
       "      <td>68.20</td>\n",
       "      <td>1469.72</td>\n",
       "      <td>81.24</td>\n",
       "    </tr>\n",
       "    <tr>\n",
       "      <th>2007-11-30</th>\n",
       "      <td>33.80</td>\n",
       "      <td>182.22</td>\n",
       "      <td>32.53</td>\n",
       "      <td>98.18</td>\n",
       "      <td>59.93</td>\n",
       "      <td>30.99</td>\n",
       "      <td>68.78</td>\n",
       "      <td>1481.14</td>\n",
       "      <td>81.76</td>\n",
       "    </tr>\n",
       "    <tr>\n",
       "      <th>2007-12-03</th>\n",
       "      <td>32.98</td>\n",
       "      <td>178.86</td>\n",
       "      <td>31.38</td>\n",
       "      <td>98.79</td>\n",
       "      <td>59.90</td>\n",
       "      <td>30.36</td>\n",
       "      <td>68.24</td>\n",
       "      <td>1472.42</td>\n",
       "      <td>81.48</td>\n",
       "    </tr>\n",
       "    <tr>\n",
       "      <th>2007-12-04</th>\n",
       "      <td>32.76</td>\n",
       "      <td>179.81</td>\n",
       "      <td>30.80</td>\n",
       "      <td>99.54</td>\n",
       "      <td>60.10</td>\n",
       "      <td>30.23</td>\n",
       "      <td>68.30</td>\n",
       "      <td>1462.79</td>\n",
       "      <td>80.81</td>\n",
       "    </tr>\n",
       "    <tr>\n",
       "      <th>2007-12-05</th>\n",
       "      <td>33.09</td>\n",
       "      <td>185.50</td>\n",
       "      <td>31.19</td>\n",
       "      <td>100.97</td>\n",
       "      <td>60.34</td>\n",
       "      <td>31.50</td>\n",
       "      <td>68.30</td>\n",
       "      <td>1485.01</td>\n",
       "      <td>82.46</td>\n",
       "    </tr>\n",
       "    <tr>\n",
       "      <th>2007-12-06</th>\n",
       "      <td>33.32</td>\n",
       "      <td>189.95</td>\n",
       "      <td>31.66</td>\n",
       "      <td>102.40</td>\n",
       "      <td>60.42</td>\n",
       "      <td>31.87</td>\n",
       "      <td>68.98</td>\n",
       "      <td>1507.34</td>\n",
       "      <td>83.85</td>\n",
       "    </tr>\n",
       "    <tr>\n",
       "      <th>2007-12-07</th>\n",
       "      <td>34.30</td>\n",
       "      <td>194.30</td>\n",
       "      <td>31.63</td>\n",
       "      <td>101.62</td>\n",
       "      <td>59.87</td>\n",
       "      <td>31.85</td>\n",
       "      <td>68.95</td>\n",
       "      <td>1504.66</td>\n",
       "      <td>83.91</td>\n",
       "    </tr>\n",
       "    <tr>\n",
       "      <th>2007-12-10</th>\n",
       "      <td>35.17</td>\n",
       "      <td>194.21</td>\n",
       "      <td>31.78</td>\n",
       "      <td>102.11</td>\n",
       "      <td>59.97</td>\n",
       "      <td>32.06</td>\n",
       "      <td>69.20</td>\n",
       "      <td>1515.96</td>\n",
       "      <td>84.39</td>\n",
       "    </tr>\n",
       "    <tr>\n",
       "      <th>...</th>\n",
       "      <td>...</td>\n",
       "      <td>...</td>\n",
       "      <td>...</td>\n",
       "      <td>...</td>\n",
       "      <td>...</td>\n",
       "      <td>...</td>\n",
       "      <td>...</td>\n",
       "      <td>...</td>\n",
       "      <td>...</td>\n",
       "    </tr>\n",
       "    <tr>\n",
       "      <th>2011-09-02</th>\n",
       "      <td>12.04</td>\n",
       "      <td>374.05</td>\n",
       "      <td>15.61</td>\n",
       "      <td>166.98</td>\n",
       "      <td>64.07</td>\n",
       "      <td>25.80</td>\n",
       "      <td>63.30</td>\n",
       "      <td>1173.97</td>\n",
       "      <td>72.14</td>\n",
       "    </tr>\n",
       "    <tr>\n",
       "      <th>2011-09-06</th>\n",
       "      <td>11.77</td>\n",
       "      <td>379.74</td>\n",
       "      <td>15.11</td>\n",
       "      <td>165.11</td>\n",
       "      <td>64.64</td>\n",
       "      <td>25.51</td>\n",
       "      <td>62.45</td>\n",
       "      <td>1165.24</td>\n",
       "      <td>71.15</td>\n",
       "    </tr>\n",
       "    <tr>\n",
       "      <th>2011-09-07</th>\n",
       "      <td>12.25</td>\n",
       "      <td>383.93</td>\n",
       "      <td>15.65</td>\n",
       "      <td>167.31</td>\n",
       "      <td>65.43</td>\n",
       "      <td>26.00</td>\n",
       "      <td>61.62</td>\n",
       "      <td>1198.62</td>\n",
       "      <td>73.65</td>\n",
       "    </tr>\n",
       "    <tr>\n",
       "      <th>2011-09-08</th>\n",
       "      <td>12.03</td>\n",
       "      <td>384.14</td>\n",
       "      <td>15.44</td>\n",
       "      <td>165.25</td>\n",
       "      <td>64.95</td>\n",
       "      <td>26.22</td>\n",
       "      <td>61.34</td>\n",
       "      <td>1185.90</td>\n",
       "      <td>72.82</td>\n",
       "    </tr>\n",
       "    <tr>\n",
       "      <th>2011-09-09</th>\n",
       "      <td>11.58</td>\n",
       "      <td>377.48</td>\n",
       "      <td>14.95</td>\n",
       "      <td>161.37</td>\n",
       "      <td>63.64</td>\n",
       "      <td>25.74</td>\n",
       "      <td>59.99</td>\n",
       "      <td>1154.23</td>\n",
       "      <td>71.01</td>\n",
       "    </tr>\n",
       "    <tr>\n",
       "      <th>2011-09-12</th>\n",
       "      <td>11.55</td>\n",
       "      <td>379.94</td>\n",
       "      <td>14.87</td>\n",
       "      <td>162.42</td>\n",
       "      <td>63.59</td>\n",
       "      <td>25.89</td>\n",
       "      <td>60.14</td>\n",
       "      <td>1162.27</td>\n",
       "      <td>71.84</td>\n",
       "    </tr>\n",
       "    <tr>\n",
       "      <th>2011-09-13</th>\n",
       "      <td>11.63</td>\n",
       "      <td>384.62</td>\n",
       "      <td>15.26</td>\n",
       "      <td>163.43</td>\n",
       "      <td>63.61</td>\n",
       "      <td>26.04</td>\n",
       "      <td>60.54</td>\n",
       "      <td>1172.87</td>\n",
       "      <td>71.65</td>\n",
       "    </tr>\n",
       "    <tr>\n",
       "      <th>2011-09-14</th>\n",
       "      <td>11.73</td>\n",
       "      <td>389.30</td>\n",
       "      <td>15.64</td>\n",
       "      <td>167.24</td>\n",
       "      <td>63.73</td>\n",
       "      <td>26.50</td>\n",
       "      <td>61.58</td>\n",
       "      <td>1188.68</td>\n",
       "      <td>72.64</td>\n",
       "    </tr>\n",
       "    <tr>\n",
       "      <th>2011-09-15</th>\n",
       "      <td>11.98</td>\n",
       "      <td>392.96</td>\n",
       "      <td>16.08</td>\n",
       "      <td>170.09</td>\n",
       "      <td>64.40</td>\n",
       "      <td>26.99</td>\n",
       "      <td>63.22</td>\n",
       "      <td>1209.11</td>\n",
       "      <td>74.01</td>\n",
       "    </tr>\n",
       "    <tr>\n",
       "      <th>2011-09-16</th>\n",
       "      <td>11.97</td>\n",
       "      <td>400.50</td>\n",
       "      <td>16.33</td>\n",
       "      <td>172.99</td>\n",
       "      <td>64.59</td>\n",
       "      <td>27.12</td>\n",
       "      <td>62.05</td>\n",
       "      <td>1216.01</td>\n",
       "      <td>74.55</td>\n",
       "    </tr>\n",
       "    <tr>\n",
       "      <th>2011-09-19</th>\n",
       "      <td>11.58</td>\n",
       "      <td>411.63</td>\n",
       "      <td>16.18</td>\n",
       "      <td>173.13</td>\n",
       "      <td>64.14</td>\n",
       "      <td>27.21</td>\n",
       "      <td>60.56</td>\n",
       "      <td>1204.09</td>\n",
       "      <td>73.70</td>\n",
       "    </tr>\n",
       "    <tr>\n",
       "      <th>2011-09-20</th>\n",
       "      <td>11.25</td>\n",
       "      <td>413.45</td>\n",
       "      <td>16.04</td>\n",
       "      <td>174.72</td>\n",
       "      <td>64.22</td>\n",
       "      <td>26.98</td>\n",
       "      <td>60.39</td>\n",
       "      <td>1202.09</td>\n",
       "      <td>74.01</td>\n",
       "    </tr>\n",
       "    <tr>\n",
       "      <th>2011-09-21</th>\n",
       "      <td>10.84</td>\n",
       "      <td>412.14</td>\n",
       "      <td>15.38</td>\n",
       "      <td>173.02</td>\n",
       "      <td>63.13</td>\n",
       "      <td>25.99</td>\n",
       "      <td>60.79</td>\n",
       "      <td>1166.76</td>\n",
       "      <td>71.97</td>\n",
       "    </tr>\n",
       "    <tr>\n",
       "      <th>2011-09-22</th>\n",
       "      <td>10.11</td>\n",
       "      <td>401.82</td>\n",
       "      <td>15.04</td>\n",
       "      <td>168.62</td>\n",
       "      <td>61.92</td>\n",
       "      <td>25.06</td>\n",
       "      <td>60.92</td>\n",
       "      <td>1129.56</td>\n",
       "      <td>69.24</td>\n",
       "    </tr>\n",
       "    <tr>\n",
       "      <th>2011-09-23</th>\n",
       "      <td>10.07</td>\n",
       "      <td>404.30</td>\n",
       "      <td>15.21</td>\n",
       "      <td>169.34</td>\n",
       "      <td>61.59</td>\n",
       "      <td>25.06</td>\n",
       "      <td>60.34</td>\n",
       "      <td>1136.43</td>\n",
       "      <td>69.31</td>\n",
       "    </tr>\n",
       "    <tr>\n",
       "      <th>2011-09-26</th>\n",
       "      <td>10.45</td>\n",
       "      <td>403.17</td>\n",
       "      <td>15.57</td>\n",
       "      <td>174.51</td>\n",
       "      <td>62.69</td>\n",
       "      <td>25.44</td>\n",
       "      <td>61.89</td>\n",
       "      <td>1162.95</td>\n",
       "      <td>71.72</td>\n",
       "    </tr>\n",
       "    <tr>\n",
       "      <th>2011-09-27</th>\n",
       "      <td>10.48</td>\n",
       "      <td>399.26</td>\n",
       "      <td>15.76</td>\n",
       "      <td>177.71</td>\n",
       "      <td>63.82</td>\n",
       "      <td>25.67</td>\n",
       "      <td>62.43</td>\n",
       "      <td>1175.38</td>\n",
       "      <td>72.91</td>\n",
       "    </tr>\n",
       "    <tr>\n",
       "      <th>2011-09-28</th>\n",
       "      <td>9.97</td>\n",
       "      <td>397.01</td>\n",
       "      <td>15.45</td>\n",
       "      <td>177.55</td>\n",
       "      <td>63.25</td>\n",
       "      <td>25.58</td>\n",
       "      <td>61.97</td>\n",
       "      <td>1151.06</td>\n",
       "      <td>72.07</td>\n",
       "    </tr>\n",
       "    <tr>\n",
       "      <th>2011-09-29</th>\n",
       "      <td>10.06</td>\n",
       "      <td>390.57</td>\n",
       "      <td>15.86</td>\n",
       "      <td>179.17</td>\n",
       "      <td>63.90</td>\n",
       "      <td>25.45</td>\n",
       "      <td>62.58</td>\n",
       "      <td>1160.40</td>\n",
       "      <td>73.88</td>\n",
       "    </tr>\n",
       "    <tr>\n",
       "      <th>2011-09-30</th>\n",
       "      <td>9.57</td>\n",
       "      <td>381.32</td>\n",
       "      <td>15.22</td>\n",
       "      <td>174.87</td>\n",
       "      <td>63.69</td>\n",
       "      <td>24.89</td>\n",
       "      <td>61.90</td>\n",
       "      <td>1131.42</td>\n",
       "      <td>72.63</td>\n",
       "    </tr>\n",
       "    <tr>\n",
       "      <th>2011-10-03</th>\n",
       "      <td>8.90</td>\n",
       "      <td>374.60</td>\n",
       "      <td>14.69</td>\n",
       "      <td>173.29</td>\n",
       "      <td>62.08</td>\n",
       "      <td>24.53</td>\n",
       "      <td>60.29</td>\n",
       "      <td>1099.23</td>\n",
       "      <td>71.15</td>\n",
       "    </tr>\n",
       "    <tr>\n",
       "      <th>2011-10-04</th>\n",
       "      <td>9.12</td>\n",
       "      <td>372.50</td>\n",
       "      <td>14.86</td>\n",
       "      <td>174.74</td>\n",
       "      <td>62.17</td>\n",
       "      <td>25.34</td>\n",
       "      <td>60.45</td>\n",
       "      <td>1123.95</td>\n",
       "      <td>72.83</td>\n",
       "    </tr>\n",
       "    <tr>\n",
       "      <th>2011-10-05</th>\n",
       "      <td>9.37</td>\n",
       "      <td>378.25</td>\n",
       "      <td>15.27</td>\n",
       "      <td>176.85</td>\n",
       "      <td>62.35</td>\n",
       "      <td>25.89</td>\n",
       "      <td>60.29</td>\n",
       "      <td>1144.03</td>\n",
       "      <td>73.95</td>\n",
       "    </tr>\n",
       "    <tr>\n",
       "      <th>2011-10-06</th>\n",
       "      <td>9.88</td>\n",
       "      <td>377.37</td>\n",
       "      <td>15.53</td>\n",
       "      <td>181.69</td>\n",
       "      <td>62.81</td>\n",
       "      <td>26.34</td>\n",
       "      <td>60.57</td>\n",
       "      <td>1164.97</td>\n",
       "      <td>73.89</td>\n",
       "    </tr>\n",
       "    <tr>\n",
       "      <th>2011-10-07</th>\n",
       "      <td>9.71</td>\n",
       "      <td>369.80</td>\n",
       "      <td>15.50</td>\n",
       "      <td>182.39</td>\n",
       "      <td>63.13</td>\n",
       "      <td>26.25</td>\n",
       "      <td>61.02</td>\n",
       "      <td>1155.46</td>\n",
       "      <td>73.56</td>\n",
       "    </tr>\n",
       "    <tr>\n",
       "      <th>2011-10-10</th>\n",
       "      <td>10.09</td>\n",
       "      <td>388.81</td>\n",
       "      <td>16.14</td>\n",
       "      <td>186.62</td>\n",
       "      <td>64.43</td>\n",
       "      <td>26.94</td>\n",
       "      <td>61.87</td>\n",
       "      <td>1194.89</td>\n",
       "      <td>76.28</td>\n",
       "    </tr>\n",
       "    <tr>\n",
       "      <th>2011-10-11</th>\n",
       "      <td>10.30</td>\n",
       "      <td>400.29</td>\n",
       "      <td>16.14</td>\n",
       "      <td>185.00</td>\n",
       "      <td>63.96</td>\n",
       "      <td>27.00</td>\n",
       "      <td>60.95</td>\n",
       "      <td>1195.54</td>\n",
       "      <td>76.27</td>\n",
       "    </tr>\n",
       "    <tr>\n",
       "      <th>2011-10-12</th>\n",
       "      <td>10.05</td>\n",
       "      <td>402.19</td>\n",
       "      <td>16.40</td>\n",
       "      <td>186.12</td>\n",
       "      <td>64.33</td>\n",
       "      <td>26.96</td>\n",
       "      <td>62.70</td>\n",
       "      <td>1207.25</td>\n",
       "      <td>77.16</td>\n",
       "    </tr>\n",
       "    <tr>\n",
       "      <th>2011-10-13</th>\n",
       "      <td>10.10</td>\n",
       "      <td>408.43</td>\n",
       "      <td>16.22</td>\n",
       "      <td>186.82</td>\n",
       "      <td>64.23</td>\n",
       "      <td>27.18</td>\n",
       "      <td>62.36</td>\n",
       "      <td>1203.66</td>\n",
       "      <td>76.37</td>\n",
       "    </tr>\n",
       "    <tr>\n",
       "      <th>2011-10-14</th>\n",
       "      <td>10.26</td>\n",
       "      <td>422.00</td>\n",
       "      <td>16.60</td>\n",
       "      <td>190.53</td>\n",
       "      <td>64.72</td>\n",
       "      <td>27.27</td>\n",
       "      <td>62.24</td>\n",
       "      <td>1224.58</td>\n",
       "      <td>78.11</td>\n",
       "    </tr>\n",
       "  </tbody>\n",
       "</table>\n",
       "<p>1000 rows × 9 columns</p>\n",
       "</div>"
      ],
      "text/plain": [
       "               AA    AAPL     GE     IBM    JNJ   MSFT    PEP      SPX    XOM\n",
       "2007-10-29  37.41  185.09  34.46  106.78  57.13  31.78  65.67  1540.98  85.51\n",
       "2007-10-30  36.43  187.00  34.39  106.15  56.99  32.70  65.80  1531.02  83.25\n",
       "2007-10-31  36.79  189.95  34.97  108.01  57.30  33.84  65.69  1549.38  84.03\n",
       "2007-11-01  35.22  187.44  34.27  105.72  56.85  34.07  64.51  1508.44  80.84\n",
       "2007-11-02  35.83  187.87  34.27  106.59  56.95  34.07  65.03  1509.65  80.32\n",
       "2007-11-05  35.22  186.18  34.15  105.48  56.70  33.77  64.84  1502.17  80.07\n",
       "2007-11-06  35.84  191.79  34.14  105.27  56.80  33.47  65.49  1520.27  82.56\n",
       "2007-11-07  34.76  186.30  33.20  103.69  56.19  32.65  64.46  1475.62  79.96\n",
       "2007-11-08  35.00  175.47  33.15   99.05  56.79  31.94  65.50  1474.77  82.00\n",
       "2007-11-09  34.47  165.37  32.61   93.58  57.29  31.01  65.48  1453.70  79.64\n",
       "2007-11-12  33.33  153.76  32.50   94.70  58.30  30.69  64.67  1439.18  77.52\n",
       "2007-11-13  34.04  169.96  33.31   98.27  59.18  31.79  65.35  1481.05  79.67\n",
       "2007-11-14  34.25  166.11  33.14   96.56  58.81  31.30  65.99  1470.58  79.15\n",
       "2007-11-15  33.76  164.30  32.55   96.71  58.80  31.14  65.57  1451.15  77.48\n",
       "2007-11-16  33.74  166.39  32.84   97.82  59.56  31.44  66.08  1458.74  78.04\n",
       "2007-11-19  32.59  163.95  32.42   95.42  59.42  31.32  66.90  1433.27  77.13\n",
       "2007-11-20  32.88  168.85  32.32   96.54  59.47  31.90  66.69  1439.70  80.53\n",
       "2007-11-21  32.68  168.46  31.58   95.42  59.03  31.57  66.87  1416.77  79.82\n",
       "2007-11-23  32.66  171.54  32.01   97.13  59.16  31.46  67.29  1440.70  80.96\n",
       "2007-11-26  32.41  172.54  31.21   95.19  59.60  30.41  66.56  1407.22  78.57\n",
       "2007-11-27  32.56  174.81  31.82   96.92  59.92  30.49  67.65  1428.23  79.21\n",
       "2007-11-28  33.65  180.22  32.68  100.23  60.46  31.08  68.76  1469.02  80.62\n",
       "2007-11-29  33.97  184.29  32.40  100.35  60.51  30.98  68.20  1469.72  81.24\n",
       "2007-11-30  33.80  182.22  32.53   98.18  59.93  30.99  68.78  1481.14  81.76\n",
       "2007-12-03  32.98  178.86  31.38   98.79  59.90  30.36  68.24  1472.42  81.48\n",
       "2007-12-04  32.76  179.81  30.80   99.54  60.10  30.23  68.30  1462.79  80.81\n",
       "2007-12-05  33.09  185.50  31.19  100.97  60.34  31.50  68.30  1485.01  82.46\n",
       "2007-12-06  33.32  189.95  31.66  102.40  60.42  31.87  68.98  1507.34  83.85\n",
       "2007-12-07  34.30  194.30  31.63  101.62  59.87  31.85  68.95  1504.66  83.91\n",
       "2007-12-10  35.17  194.21  31.78  102.11  59.97  32.06  69.20  1515.96  84.39\n",
       "...           ...     ...    ...     ...    ...    ...    ...      ...    ...\n",
       "2011-09-02  12.04  374.05  15.61  166.98  64.07  25.80  63.30  1173.97  72.14\n",
       "2011-09-06  11.77  379.74  15.11  165.11  64.64  25.51  62.45  1165.24  71.15\n",
       "2011-09-07  12.25  383.93  15.65  167.31  65.43  26.00  61.62  1198.62  73.65\n",
       "2011-09-08  12.03  384.14  15.44  165.25  64.95  26.22  61.34  1185.90  72.82\n",
       "2011-09-09  11.58  377.48  14.95  161.37  63.64  25.74  59.99  1154.23  71.01\n",
       "2011-09-12  11.55  379.94  14.87  162.42  63.59  25.89  60.14  1162.27  71.84\n",
       "2011-09-13  11.63  384.62  15.26  163.43  63.61  26.04  60.54  1172.87  71.65\n",
       "2011-09-14  11.73  389.30  15.64  167.24  63.73  26.50  61.58  1188.68  72.64\n",
       "2011-09-15  11.98  392.96  16.08  170.09  64.40  26.99  63.22  1209.11  74.01\n",
       "2011-09-16  11.97  400.50  16.33  172.99  64.59  27.12  62.05  1216.01  74.55\n",
       "2011-09-19  11.58  411.63  16.18  173.13  64.14  27.21  60.56  1204.09  73.70\n",
       "2011-09-20  11.25  413.45  16.04  174.72  64.22  26.98  60.39  1202.09  74.01\n",
       "2011-09-21  10.84  412.14  15.38  173.02  63.13  25.99  60.79  1166.76  71.97\n",
       "2011-09-22  10.11  401.82  15.04  168.62  61.92  25.06  60.92  1129.56  69.24\n",
       "2011-09-23  10.07  404.30  15.21  169.34  61.59  25.06  60.34  1136.43  69.31\n",
       "2011-09-26  10.45  403.17  15.57  174.51  62.69  25.44  61.89  1162.95  71.72\n",
       "2011-09-27  10.48  399.26  15.76  177.71  63.82  25.67  62.43  1175.38  72.91\n",
       "2011-09-28   9.97  397.01  15.45  177.55  63.25  25.58  61.97  1151.06  72.07\n",
       "2011-09-29  10.06  390.57  15.86  179.17  63.90  25.45  62.58  1160.40  73.88\n",
       "2011-09-30   9.57  381.32  15.22  174.87  63.69  24.89  61.90  1131.42  72.63\n",
       "2011-10-03   8.90  374.60  14.69  173.29  62.08  24.53  60.29  1099.23  71.15\n",
       "2011-10-04   9.12  372.50  14.86  174.74  62.17  25.34  60.45  1123.95  72.83\n",
       "2011-10-05   9.37  378.25  15.27  176.85  62.35  25.89  60.29  1144.03  73.95\n",
       "2011-10-06   9.88  377.37  15.53  181.69  62.81  26.34  60.57  1164.97  73.89\n",
       "2011-10-07   9.71  369.80  15.50  182.39  63.13  26.25  61.02  1155.46  73.56\n",
       "2011-10-10  10.09  388.81  16.14  186.62  64.43  26.94  61.87  1194.89  76.28\n",
       "2011-10-11  10.30  400.29  16.14  185.00  63.96  27.00  60.95  1195.54  76.27\n",
       "2011-10-12  10.05  402.19  16.40  186.12  64.33  26.96  62.70  1207.25  77.16\n",
       "2011-10-13  10.10  408.43  16.22  186.82  64.23  27.18  62.36  1203.66  76.37\n",
       "2011-10-14  10.26  422.00  16.60  190.53  64.72  27.27  62.24  1224.58  78.11\n",
       "\n",
       "[1000 rows x 9 columns]"
      ]
     },
     "execution_count": 59,
     "metadata": {},
     "output_type": "execute_result"
    }
   ],
   "source": [
    "close_px"
   ]
  },
  {
   "cell_type": "code",
   "execution_count": 60,
   "metadata": {
    "collapsed": false
   },
   "outputs": [
    {
     "ename": "ImportError",
     "evalue": "cannot import name adjoin",
     "output_type": "error",
     "traceback": [
      "\u001b[1;31m---------------------------------------------------------------------------\u001b[0m",
      "\u001b[1;31mImportError\u001b[0m                               Traceback (most recent call last)",
      "\u001b[1;32m<ipython-input-60-eb067a4bac39>\u001b[0m in \u001b[0;36m<module>\u001b[1;34m()\u001b[0m\n\u001b[0;32m      1\u001b[0m \u001b[0ms1\u001b[0m \u001b[1;33m=\u001b[0m \u001b[0mclose_px\u001b[0m\u001b[1;33m[\u001b[0m\u001b[1;34m'AAPL'\u001b[0m\u001b[1;33m]\u001b[0m\u001b[1;33m[\u001b[0m\u001b[1;33m-\u001b[0m\u001b[1;36m20\u001b[0m\u001b[1;33m:\u001b[0m\u001b[1;33m]\u001b[0m      \u001b[1;31m# the last 20 rows\u001b[0m\u001b[1;33m\u001b[0m\u001b[0m\n\u001b[0;32m      2\u001b[0m \u001b[0ms2\u001b[0m \u001b[1;33m=\u001b[0m \u001b[0mclose_px\u001b[0m\u001b[1;33m[\u001b[0m\u001b[1;34m'AAPL'\u001b[0m\u001b[1;33m]\u001b[0m\u001b[1;33m[\u001b[0m\u001b[1;33m-\u001b[0m\u001b[1;36m25\u001b[0m\u001b[1;33m:\u001b[0m\u001b[1;33m-\u001b[0m\u001b[1;36m10\u001b[0m\u001b[1;33m]\u001b[0m   \u001b[1;31m# the last 25 - last 10 = 15 rows.\u001b[0m\u001b[1;33m\u001b[0m\u001b[0m\n\u001b[1;32m----> 3\u001b[1;33m \u001b[0mside_by_side\u001b[0m\u001b[1;33m(\u001b[0m\u001b[0ms1\u001b[0m\u001b[1;33m,\u001b[0m \u001b[0ms2\u001b[0m\u001b[1;33m)\u001b[0m\u001b[1;33m\u001b[0m\u001b[0m\n\u001b[0m",
      "\u001b[1;32m<ipython-input-9-288af6cb0b25>\u001b[0m in \u001b[0;36mside_by_side\u001b[1;34m(*objs, **kwds)\u001b[0m\n\u001b[0;32m      8\u001b[0m \u001b[1;33m\u001b[0m\u001b[0m\n\u001b[0;32m      9\u001b[0m \u001b[1;32mdef\u001b[0m \u001b[0mside_by_side\u001b[0m\u001b[1;33m(\u001b[0m\u001b[1;33m*\u001b[0m\u001b[0mobjs\u001b[0m\u001b[1;33m,\u001b[0m \u001b[1;33m**\u001b[0m\u001b[0mkwds\u001b[0m\u001b[1;33m)\u001b[0m\u001b[1;33m:\u001b[0m\u001b[1;33m\u001b[0m\u001b[0m\n\u001b[1;32m---> 10\u001b[1;33m     \u001b[1;32mfrom\u001b[0m \u001b[0mpandas\u001b[0m\u001b[1;33m.\u001b[0m\u001b[0mcore\u001b[0m\u001b[1;33m.\u001b[0m\u001b[0mcommon\u001b[0m \u001b[1;32mimport\u001b[0m \u001b[0madjoin\u001b[0m\u001b[1;33m\u001b[0m\u001b[0m\n\u001b[0m\u001b[0;32m     11\u001b[0m     \u001b[0mspace\u001b[0m \u001b[1;33m=\u001b[0m \u001b[0mkwds\u001b[0m\u001b[1;33m.\u001b[0m\u001b[0mget\u001b[0m\u001b[1;33m(\u001b[0m\u001b[1;34m'space'\u001b[0m\u001b[1;33m,\u001b[0m \u001b[1;36m4\u001b[0m\u001b[1;33m)\u001b[0m\u001b[1;33m\u001b[0m\u001b[0m\n\u001b[0;32m     12\u001b[0m     \u001b[0mreprs\u001b[0m \u001b[1;33m=\u001b[0m \u001b[1;33m[\u001b[0m\u001b[0mrepr\u001b[0m\u001b[1;33m(\u001b[0m\u001b[0mobj\u001b[0m\u001b[1;33m)\u001b[0m\u001b[1;33m.\u001b[0m\u001b[0msplit\u001b[0m\u001b[1;33m(\u001b[0m\u001b[1;34m'\\n'\u001b[0m\u001b[1;33m)\u001b[0m \u001b[1;32mfor\u001b[0m \u001b[0mobj\u001b[0m \u001b[1;32min\u001b[0m \u001b[0mobjs\u001b[0m\u001b[1;33m]\u001b[0m\u001b[1;33m\u001b[0m\u001b[0m\n",
      "\u001b[1;31mImportError\u001b[0m: cannot import name adjoin"
     ]
    }
   ],
   "source": [
    "s1 = close_px['AAPL'][-20:]      # the last 20 rows\n",
    "s2 = close_px['AAPL'][-25:-10]   # the last 25 - last 10 = 15 rows.\n",
    "side_by_side(s1, s2)"
   ]
  },
  {
   "cell_type": "code",
   "execution_count": null,
   "metadata": {
    "collapsed": false
   },
   "outputs": [],
   "source": [
    "s1 + s2"
   ]
  },
  {
   "cell_type": "code",
   "execution_count": null,
   "metadata": {
    "collapsed": false
   },
   "outputs": [],
   "source": [
    "s1.add(s2, fill_value=0)"
   ]
  },
  {
   "cell_type": "code",
   "execution_count": null,
   "metadata": {
    "collapsed": false
   },
   "outputs": [],
   "source": [
    "(s1 + s2).dropna()"
   ]
  },
  {
   "cell_type": "code",
   "execution_count": null,
   "metadata": {
    "collapsed": false
   },
   "outputs": [],
   "source": [
    "df = close_px.ix[-10:, :3]\n",
    "df"
   ]
  },
  {
   "cell_type": "code",
   "execution_count": null,
   "metadata": {
    "collapsed": false
   },
   "outputs": [],
   "source": [
    "side_by_side(s1.reindex(s2.index), s2)   # align indexes of s1 and s2. Print 2 objects alongside each other."
   ]
  },
  {
   "cell_type": "code",
   "execution_count": null,
   "metadata": {
    "collapsed": false
   },
   "outputs": [],
   "source": [
    "side_by_side(s1.ix[s2.index], s2)   # same as above, supported in newer version of 0.12 ipython."
   ]
  },
  {
   "cell_type": "code",
   "execution_count": null,
   "metadata": {
    "collapsed": false
   },
   "outputs": [],
   "source": [
    "b, c  = s1.align(s2, join='inner')\n",
    "side_by_side(b, c)"
   ]
  },
  {
   "cell_type": "code",
   "execution_count": null,
   "metadata": {
    "collapsed": false
   },
   "outputs": [],
   "source": [
    "b, c  = s1.align(s2, join='outer')\n",
    "side_by_side(b, c)"
   ]
  },
  {
   "cell_type": "markdown",
   "metadata": {
    "collapsed": false
   },
   "source": [
    "b, c  = s1.align(s2, join='right')\n",
    "side_by_side(b, c)"
   ]
  },
  {
   "cell_type": "code",
   "execution_count": null,
   "metadata": {
    "collapsed": false
   },
   "outputs": [],
   "source": [
    "df = close_px.ix[-10:, ['AAPL', 'IBM', 'MSFT']]\n",
    "df"
   ]
  },
  {
   "cell_type": "code",
   "execution_count": null,
   "metadata": {
    "collapsed": false
   },
   "outputs": [],
   "source": [
    "df2 = df.ix[::2, ['IBM', 'MSFT']]\n",
    "side_by_side(df, df2)"
   ]
  },
  {
   "cell_type": "code",
   "execution_count": null,
   "metadata": {
    "collapsed": false
   },
   "outputs": [],
   "source": [
    "df + df2"
   ]
  },
  {
   "cell_type": "code",
   "execution_count": null,
   "metadata": {
    "collapsed": false
   },
   "outputs": [],
   "source": [
    "b, c = df.align(df2, join='inner')\n",
    "side_by_side(b, c) "
   ]
  },
  {
   "cell_type": "markdown",
   "metadata": {},
   "source": [
    "Transposing: no copy if all columns are same type\n",
    "-------------------------------------------------"
   ]
  },
  {
   "cell_type": "code",
   "execution_count": null,
   "metadata": {
    "collapsed": false
   },
   "outputs": [],
   "source": [
    "df[:5].T"
   ]
  },
  {
   "cell_type": "markdown",
   "metadata": {},
   "source": [
    "Columns can be any type\n",
    "-----------------------"
   ]
  },
  {
   "cell_type": "code",
   "execution_count": null,
   "metadata": {
    "collapsed": false
   },
   "outputs": [],
   "source": [
    "n = 10\n",
    "foo = DataFrame(index=range(n))\n",
    "foo['floats'] = np.random.randn(n)\n",
    "foo['ints'] = np.arange(n)\n",
    "foo['strings'] = ['foo', 'bar'] * (n / 2)\n",
    "foo['bools'] = foo['floats'] > 0\n",
    "foo['objects'] = pandas.date_range('1/1/2000', periods=n)\n",
    "foo"
   ]
  },
  {
   "cell_type": "code",
   "execution_count": null,
   "metadata": {
    "collapsed": false
   },
   "outputs": [],
   "source": [
    "foo.dtypes"
   ]
  },
  {
   "cell_type": "markdown",
   "metadata": {},
   "source": [
    "N.B. transposing is not roundtrippable in this case (column-oriented data structure)"
   ]
  },
  {
   "cell_type": "code",
   "execution_count": null,
   "metadata": {
    "collapsed": false
   },
   "outputs": [],
   "source": [
    "foo.T.T"
   ]
  },
  {
   "cell_type": "code",
   "execution_count": null,
   "metadata": {
    "collapsed": false
   },
   "outputs": [],
   "source": [
    "foo.T.T.dtypes"
   ]
  },
  {
   "cell_type": "markdown",
   "metadata": {},
   "source": [
    "Function application\n",
    "====================\n",
    "\n",
    "You can apply arbitrary functions to the rows or columns of a DataFrame"
   ]
  },
  {
   "cell_type": "code",
   "execution_count": null,
   "metadata": {
    "collapsed": false
   },
   "outputs": [],
   "source": [
    "df"
   ]
  },
  {
   "cell_type": "code",
   "execution_count": null,
   "metadata": {
    "collapsed": false
   },
   "outputs": [],
   "source": [
    "df.apply(np.mean)"
   ]
  },
  {
   "cell_type": "code",
   "execution_count": null,
   "metadata": {
    "collapsed": false
   },
   "outputs": [],
   "source": [
    "df.mean()   # same as above.   df.mean? to look up the function usage."
   ]
  },
  {
   "cell_type": "code",
   "execution_count": null,
   "metadata": {
    "collapsed": false
   },
   "outputs": [],
   "source": [
    "df.mean(1)   # get the mean of the rows based on a column. Also excludes missing data (NaN: not a number)."
   ]
  },
  {
   "cell_type": "code",
   "execution_count": null,
   "metadata": {
    "collapsed": false
   },
   "outputs": [],
   "source": [
    "df.mean(1, skipna=False)   # flag skipna: to include NaN. In this data, no NaN."
   ]
  },
  {
   "cell_type": "code",
   "execution_count": null,
   "metadata": {
    "collapsed": false
   },
   "outputs": [],
   "source": [
    "df.apply(np.mean, axis=1)   # same as above."
   ]
  },
  {
   "cell_type": "markdown",
   "metadata": {},
   "source": [
    "You can get as fancy as you want"
   ]
  },
  {
   "cell_type": "code",
   "execution_count": null,
   "metadata": {
    "collapsed": false
   },
   "outputs": [],
   "source": [
    "close_px    # Output: 1000 rows."
   ]
  },
  {
   "cell_type": "code",
   "execution_count": null,
   "metadata": {
    "collapsed": false,
    "scrolled": true
   },
   "outputs": [],
   "source": [
    "close_px.AAPL   # For easier typing, after dot ., use tab to select the name of the stock."
   ]
  },
  {
   "cell_type": "code",
   "execution_count": null,
   "metadata": {
    "collapsed": false
   },
   "outputs": [],
   "source": [
    "close_px.AAPL.idxmax() # gives index of its maximum value."
   ]
  },
  {
   "cell_type": "code",
   "execution_count": null,
   "metadata": {
    "collapsed": false
   },
   "outputs": [],
   "source": [
    "close_px.AAPL.index[1]"
   ]
  },
  {
   "cell_type": "code",
   "execution_count": null,
   "metadata": {
    "collapsed": false
   },
   "outputs": [],
   "source": [
    "#close_px.AAPL.index[close_px.AAPL.argmax()]    # If you are numpy aficionado, does the same thing."
   ]
  },
  {
   "cell_type": "code",
   "execution_count": null,
   "metadata": {
    "collapsed": false
   },
   "outputs": [],
   "source": [
    "close_px.AA.idxmax()\n",
    "\n",
    "def peak_date(series):\n",
    "    return series.idxmax()"
   ]
  },
  {
   "cell_type": "code",
   "execution_count": null,
   "metadata": {
    "collapsed": false,
    "scrolled": true
   },
   "outputs": [],
   "source": [
    "close_px.apply(peak_date)"
   ]
  },
  {
   "cell_type": "code",
   "execution_count": null,
   "metadata": {
    "collapsed": false
   },
   "outputs": [],
   "source": [
    "for column in close_px:\n",
    "    print close_px[column].max()"
   ]
  },
  {
   "cell_type": "code",
   "execution_count": null,
   "metadata": {
    "collapsed": false,
    "scrolled": true
   },
   "outputs": [],
   "source": [
    "def peak_date(series):\n",
    "    return series.idxmax()    # new method: series.idxmax()\n",
    "close_px.apply(peak_date, axis=0)"
   ]
  },
  {
   "cell_type": "code",
   "execution_count": null,
   "metadata": {
    "collapsed": false
   },
   "outputs": [],
   "source": [
    "df.apply(lambda x: x.max())"
   ]
  },
  {
   "cell_type": "code",
   "execution_count": null,
   "metadata": {
    "collapsed": false
   },
   "outputs": [],
   "source": [
    "df.apply(lambda x: x.max() - x.min()) # np.ptp"
   ]
  },
  {
   "cell_type": "code",
   "execution_count": null,
   "metadata": {
    "collapsed": false,
    "scrolled": true
   },
   "outputs": [],
   "source": [
    "np.log(close_px)"
   ]
  },
  {
   "cell_type": "markdown",
   "metadata": {},
   "source": [
    "Hierarchical indexing\n",
    "------------------------"
   ]
  },
  {
   "cell_type": "code",
   "execution_count": null,
   "metadata": {
    "collapsed": false
   },
   "outputs": [],
   "source": [
    "index = MultiIndex(levels=[['foo', 'bar', 'baz', 'qux'],\n",
    "                                   ['one', 'two', 'three']],\n",
    "                           labels=[[0, 0, 0, 1, 1, 2, 2, 3, 3, 3],\n",
    "                                   [0, 1, 2, 0, 1, 1, 2, 0, 1, 2]])\n",
    "hdf = DataFrame(np.random.randn(10, 3), index=index,\n",
    "                columns=['A', 'B', 'C'])\n",
    "hdf"
   ]
  },
  {
   "cell_type": "code",
   "execution_count": null,
   "metadata": {
    "collapsed": false
   },
   "outputs": [],
   "source": [
    "hdf.ix['foo']"
   ]
  },
  {
   "cell_type": "code",
   "execution_count": null,
   "metadata": {
    "collapsed": false
   },
   "outputs": [],
   "source": [
    "hdf.ix['foo'] = 0\n",
    "hdf"
   ]
  },
  {
   "cell_type": "code",
   "execution_count": null,
   "metadata": {
    "collapsed": false
   },
   "outputs": [],
   "source": [
    "hdf.ix['bar','one']['A']"
   ]
  },
  {
   "cell_type": "markdown",
   "metadata": {},
   "source": [
    "Stacking and unstacking\n",
    "-----------------------"
   ]
  },
  {
   "cell_type": "code",
   "execution_count": null,
   "metadata": {
    "collapsed": false
   },
   "outputs": [],
   "source": [
    "tuples = zip(*[['bar', 'bar', 'baz', 'baz',\n",
    "                'foo', 'foo', 'qux', 'qux'],\n",
    "               ['one', 'two', 'one', 'two',\n",
    "                'one', 'two', 'one', 'two']])\n",
    "index = MultiIndex.from_tuples(tuples)\n",
    "columns = MultiIndex.from_tuples([('A', 'cat'), ('B', 'dog'),\n",
    "                                  ('B', 'cat'), ('A', 'dog')])\n",
    "df = DataFrame(np.random.randn(8, 4), index=index, columns=columns)\n",
    "df"
   ]
  },
  {
   "cell_type": "code",
   "execution_count": null,
   "metadata": {
    "collapsed": false
   },
   "outputs": [],
   "source": [
    "df2 = df.ix[[0, 1, 2, 4, 5, 7]]\n",
    "df2"
   ]
  },
  {
   "cell_type": "code",
   "execution_count": null,
   "metadata": {
    "collapsed": false
   },
   "outputs": [],
   "source": [
    "df.unstack()['B']"
   ]
  },
  {
   "cell_type": "markdown",
   "metadata": {},
   "source": [
    "GroupBy\n",
    "======="
   ]
  },
  {
   "cell_type": "code",
   "execution_count": null,
   "metadata": {
    "collapsed": false
   },
   "outputs": [],
   "source": [
    "df = DataFrame({'A' : ['foo', 'bar', 'foo', 'bar',\n",
    "                       'foo', 'bar', 'foo', 'foo'],\n",
    "                'B' : ['one', 'one', 'two', 'three',\n",
    "                       'two', 'two', 'one', 'three'],\n",
    "                'C' : np.random.randn(8),\n",
    "                'D' : np.random.randn(8)})\n",
    "df"
   ]
  },
  {
   "cell_type": "code",
   "execution_count": null,
   "metadata": {
    "collapsed": false
   },
   "outputs": [],
   "source": [
    "for key, group in df.groupby('A'):\n",
    "    print key\n",
    "    print group"
   ]
  },
  {
   "cell_type": "code",
   "execution_count": null,
   "metadata": {
    "collapsed": false
   },
   "outputs": [],
   "source": [
    "df.groupby('A')['C'].describe().T"
   ]
  },
  {
   "cell_type": "code",
   "execution_count": null,
   "metadata": {
    "collapsed": false
   },
   "outputs": [],
   "source": [
    "df.groupby('A').mean()"
   ]
  },
  {
   "cell_type": "code",
   "execution_count": null,
   "metadata": {
    "collapsed": false
   },
   "outputs": [],
   "source": [
    "for key, group in df.groupby('A'):\n",
    "    print key\n",
    "    print group"
   ]
  },
  {
   "cell_type": "code",
   "execution_count": null,
   "metadata": {
    "collapsed": false
   },
   "outputs": [],
   "source": [
    "df.groupby(['A', 'B']).mean()"
   ]
  },
  {
   "cell_type": "code",
   "execution_count": null,
   "metadata": {
    "collapsed": false
   },
   "outputs": [],
   "source": [
    "#df.groupby(['A', 'B'], as_index=False).mean()"
   ]
  },
  {
   "cell_type": "code",
   "execution_count": null,
   "metadata": {
    "collapsed": false
   },
   "outputs": [],
   "source": [
    "df.stack()"
   ]
  },
  {
   "cell_type": "code",
   "execution_count": null,
   "metadata": {
    "collapsed": false
   },
   "outputs": [],
   "source": [
    "#df.stack().mean(1).unstack()"
   ]
  },
  {
   "cell_type": "code",
   "execution_count": null,
   "metadata": {
    "collapsed": false
   },
   "outputs": [],
   "source": [
    "#df.groupby(level=1, axis=1).mean()"
   ]
  },
  {
   "cell_type": "markdown",
   "metadata": {
    "collapsed": true
   },
   "source": [
    "## Crosstabs"
   ]
  },
  {
   "cell_type": "code",
   "execution_count": null,
   "metadata": {
    "collapsed": true
   },
   "outputs": [],
   "source": [
    "pd.crosstab([df.,sal.Status], sal.EmployeeNameStarts, values=sal.TotalPay, aggfunc= [np.min,np.max])"
   ]
  }
 ],
 "metadata": {
  "kernelspec": {
   "display_name": "Python 2",
   "language": "python",
   "name": "python2"
  },
  "language_info": {
   "codemirror_mode": {
    "name": "ipython",
    "version": 2
   },
   "file_extension": ".py",
   "mimetype": "text/x-python",
   "name": "python",
   "nbconvert_exporter": "python",
   "pygments_lexer": "ipython2",
   "version": "2.7.11"
  }
 },
 "nbformat": 4,
 "nbformat_minor": 0
}
