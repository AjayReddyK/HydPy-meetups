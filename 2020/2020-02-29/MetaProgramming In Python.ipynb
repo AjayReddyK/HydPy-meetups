{
 "cells": [
  {
   "cell_type": "markdown",
   "metadata": {},
   "source": [
    "# MetaProgramming In Python"
   ]
  },
  {
   "cell_type": "markdown",
   "metadata": {},
   "source": [
    "## Classes in Python - What is a class in Python?"
   ]
  },
  {
   "cell_type": "code",
   "execution_count": null,
   "metadata": {},
   "outputs": [],
   "source": [
    "class Test:\n",
    "    pass\n",
    "\n",
    "a = Test()\n",
    "a"
   ]
  },
  {
   "cell_type": "code",
   "execution_count": null,
   "metadata": {},
   "outputs": [],
   "source": [
    "type(a)"
   ]
  },
  {
   "cell_type": "code",
   "execution_count": null,
   "metadata": {},
   "outputs": [],
   "source": [
    "type(Test)"
   ]
  },
  {
   "cell_type": "code",
   "execution_count": null,
   "metadata": {},
   "outputs": [],
   "source": [
    "type(type)"
   ]
  },
  {
   "cell_type": "markdown",
   "metadata": {},
   "source": [
    "### Classes - Nothing but instances of types.  Class technically is a sugar over the native 'type'"
   ]
  },
  {
   "cell_type": "markdown",
   "metadata": {},
   "source": [
    "## What is type in Python?"
   ]
  },
  {
   "cell_type": "code",
   "execution_count": null,
   "metadata": {},
   "outputs": [],
   "source": [
    "type?"
   ]
  },
  {
   "cell_type": "code",
   "execution_count": null,
   "metadata": {},
   "outputs": [],
   "source": [
    "TestWithType = type('TestWithType', (object,), {})"
   ]
  },
  {
   "cell_type": "code",
   "execution_count": null,
   "metadata": {},
   "outputs": [],
   "source": [
    "type(TestWithType)"
   ]
  },
  {
   "cell_type": "code",
   "execution_count": null,
   "metadata": {},
   "outputs": [],
   "source": [
    "ins1 = TestWithType()"
   ]
  },
  {
   "cell_type": "code",
   "execution_count": null,
   "metadata": {},
   "outputs": [],
   "source": [
    "type(ins1)"
   ]
  },
  {
   "cell_type": "code",
   "execution_count": null,
   "metadata": {},
   "outputs": [],
   "source": [
    "type('TestWithType', (object,), {})()"
   ]
  },
  {
   "cell_type": "markdown",
   "metadata": {},
   "source": [
    "### 'type' is an important native structure used for creating classes."
   ]
  },
  {
   "cell_type": "markdown",
   "metadata": {},
   "source": [
    "## Life Cycle involved in a class - Vanilla"
   ]
  },
  {
   "cell_type": "code",
   "execution_count": null,
   "metadata": {},
   "outputs": [],
   "source": [
    "class TestClass:\n",
    "\n",
    "    def __new__(cls, *args, **kwargs):\n",
    "        print('new method called')\n",
    "        instance = super(TestClass, cls).__new__(cls, *args, **kwargs)\n",
    "        return instance\n",
    "\n",
    "    def __call__(self, a, b, c):\n",
    "        self.call_count += 1\n",
    "        print('call method called')\n",
    "        return a * b * c\n",
    "\n",
    "    def __init__(self):\n",
    "        self.call_count = 0\n",
    "        super(TestClass, self).__init__()\n",
    "        print('init method called')\n",
    "        \n",
    "    def get_call_count(self):\n",
    "        return self.call_count"
   ]
  },
  {
   "cell_type": "code",
   "execution_count": null,
   "metadata": {},
   "outputs": [],
   "source": [
    "a = TestClass()"
   ]
  },
  {
   "cell_type": "code",
   "execution_count": null,
   "metadata": {},
   "outputs": [],
   "source": [
    "a(1,2,3)"
   ]
  },
  {
   "cell_type": "code",
   "execution_count": null,
   "metadata": {},
   "outputs": [],
   "source": [
    "a.get_call_count()\n"
   ]
  },
  {
   "cell_type": "markdown",
   "metadata": {},
   "source": [
    "### What is type? 'type' defines how a class behaves in Python. \n",
    "\n",
    "### Got it. Well then - Can I change 'how' a class behaves in Python? - MetaClasses\n"
   ]
  },
  {
   "cell_type": "markdown",
   "metadata": {},
   "source": [
    "## Metaclasses"
   ]
  },
  {
   "cell_type": "code",
   "execution_count": null,
   "metadata": {},
   "outputs": [],
   "source": [
    "class MySingletonMeta(type):\n",
    "    _instances = {}\n",
    "    \n",
    "    def __call__(cls, *args, **kwargs):\n",
    "        if cls not in cls._instances:\n",
    "            cls._instances[cls] = super(MySingletonMeta, cls).__call__(*args)\n",
    "        return cls._instances[cls]"
   ]
  },
  {
   "cell_type": "code",
   "execution_count": null,
   "metadata": {},
   "outputs": [],
   "source": [
    "class MySingletonClass(metaclass=MySingletonMeta):\n",
    "    def __init__(self):\n",
    "        self.i = 1"
   ]
  },
  {
   "cell_type": "code",
   "execution_count": null,
   "metadata": {},
   "outputs": [],
   "source": [
    "a = MySingletonClass()\n",
    "b = MySingletonClass()"
   ]
  },
  {
   "cell_type": "code",
   "execution_count": null,
   "metadata": {},
   "outputs": [],
   "source": [
    "type(a), id(a) , type(b), id(b)"
   ]
  },
  {
   "cell_type": "markdown",
   "metadata": {},
   "source": [
    "## LifeCycle with Metaclasses"
   ]
  },
  {
   "cell_type": "code",
   "execution_count": null,
   "metadata": {},
   "outputs": [],
   "source": [
    "class MyMetaClass(type):\n",
    "    \n",
    "    _test_attribute = 1\n",
    "\n",
    "    def __new__(cls, *args, **kwargs):\n",
    "        print(\"metaclass new method called\")\n",
    "        return super(MyMetaClass, cls).__new__(cls, *args, **kwargs)\n",
    "    \n",
    "    def __call__(cls, *args, **kwargs):\n",
    "        print(\"metaclass call method called\")\n",
    "        return super(MyMetaClass, cls).__call__(*args, **kwargs)\n",
    "\n",
    "    def __init__(self, *args, **kwargs):\n",
    "        print(\"metaclass init method called\")\n",
    "        return super(MyMetaClass, self).__init__(*args, **kwargs)\n",
    "    \n",
    "    def test_method_1(self):\n",
    "        print(\"MyMetaClass - Test method 1 called\")"
   ]
  },
  {
   "cell_type": "code",
   "execution_count": null,
   "metadata": {},
   "outputs": [],
   "source": [
    "class MyClass(metaclass=MyMetaClass):\n",
    "    def __new__(cls, *args, **kwargs):\n",
    "        print(\"instance new method called\")\n",
    "        return super(MyClass, cls).__new__(cls, *args, **kwargs)\n",
    "    \n",
    "    def __init__(self, *args, **kwargs):\n",
    "        print(\"instance init method called\")\n",
    "        return super(MyClass, self).__init__(*args, **kwargs)"
   ]
  },
  {
   "cell_type": "code",
   "execution_count": null,
   "metadata": {},
   "outputs": [],
   "source": [
    "ins2 = MyClass()"
   ]
  },
  {
   "cell_type": "code",
   "execution_count": null,
   "metadata": {},
   "outputs": [],
   "source": [
    "MyClass._test_attribute"
   ]
  },
  {
   "cell_type": "code",
   "execution_count": null,
   "metadata": {},
   "outputs": [],
   "source": [
    "MyClass.__mro__"
   ]
  },
  {
   "cell_type": "code",
   "execution_count": null,
   "metadata": {},
   "outputs": [],
   "source": [
    "MyMetaClass.__mro__"
   ]
  },
  {
   "cell_type": "code",
   "execution_count": null,
   "metadata": {},
   "outputs": [],
   "source": []
  },
  {
   "cell_type": "markdown",
   "metadata": {},
   "source": [
    "## Pattern 1 : Abstract Classes"
   ]
  },
  {
   "cell_type": "code",
   "execution_count": null,
   "metadata": {},
   "outputs": [],
   "source": [
    "from abc import ABCMeta, ABC, abstractmethod"
   ]
  },
  {
   "cell_type": "code",
   "execution_count": null,
   "metadata": {},
   "outputs": [],
   "source": [
    "ABCMeta?"
   ]
  },
  {
   "cell_type": "code",
   "execution_count": null,
   "metadata": {},
   "outputs": [],
   "source": [
    "class MyAbstractClass(metaclass=ABCMeta):\n",
    "    def __init__(self):\n",
    "        pass\n",
    "\n",
    "    @abstractmethod\n",
    "    def my_abstract_method(self):\n",
    "        pass"
   ]
  },
  {
   "cell_type": "code",
   "execution_count": null,
   "metadata": {},
   "outputs": [],
   "source": [
    "MyAbstractClass()"
   ]
  },
  {
   "cell_type": "code",
   "execution_count": null,
   "metadata": {},
   "outputs": [],
   "source": [
    "class MyChildClass(MyAbstractClass):\n",
    "    \n",
    "    def __init__(self):\n",
    "        pass\n",
    "    \n",
    "    def my_abstract_method(self):\n",
    "        pass\n"
   ]
  },
  {
   "cell_type": "code",
   "execution_count": null,
   "metadata": {},
   "outputs": [],
   "source": [
    "mcc = MyChildClass()\n",
    "mcc"
   ]
  },
  {
   "cell_type": "markdown",
   "metadata": {},
   "source": [
    "## Pattern 2 : Abstract family of singleton classes - Combine two metaclasses"
   ]
  },
  {
   "cell_type": "code",
   "execution_count": null,
   "metadata": {},
   "outputs": [],
   "source": [
    "class MySingletonABCMeta(ABCMeta):\n",
    "    _instances = {}\n",
    "\n",
    "    def __call__(cls, *args, **kwargs):\n",
    "        if cls not in cls._instances:\n",
    "            cls._instances[cls] = super(MySingletonABCMeta, cls).__call__(*args)\n",
    "        return cls._instances[cls]"
   ]
  },
  {
   "cell_type": "code",
   "execution_count": null,
   "metadata": {},
   "outputs": [],
   "source": [
    "class MyAbstractSingletonClass(metaclass=MySingletonABCMeta):\n",
    "    def __init__(self):\n",
    "        pass\n",
    "\n",
    "    @abstractmethod\n",
    "    def my_abstract_method(self):\n",
    "        pass"
   ]
  },
  {
   "cell_type": "code",
   "execution_count": null,
   "metadata": {},
   "outputs": [],
   "source": [
    "MyAbstractSingletonClass()"
   ]
  },
  {
   "cell_type": "code",
   "execution_count": null,
   "metadata": {},
   "outputs": [],
   "source": [
    "class MyAbstractSingletonChild(MyAbstractSingletonClass):\n",
    "    def __init__(self):\n",
    "        pass\n",
    "    \n",
    "    def my_abstract_method(self):\n",
    "        pass"
   ]
  },
  {
   "cell_type": "code",
   "execution_count": null,
   "metadata": {},
   "outputs": [],
   "source": [
    "a1 = MyAbstractSingletonChild()\n",
    "b1 = MyAbstractSingletonChild()"
   ]
  },
  {
   "cell_type": "code",
   "execution_count": null,
   "metadata": {},
   "outputs": [],
   "source": [
    "type(a1), id(a1), type(b1), id(b1)"
   ]
  },
  {
   "cell_type": "markdown",
   "metadata": {},
   "source": [
    "## Pattern 3 : Pooled Objects"
   ]
  },
  {
   "cell_type": "code",
   "execution_count": null,
   "metadata": {},
   "outputs": [],
   "source": [
    "class MyBeanMeta(type):\n",
    "    _instances = {}\n",
    "\n",
    "    def __call__(cls, *args):\n",
    "        print(args)\n",
    "        key = tuple((cls, args))\n",
    "        if key not in cls._instances:\n",
    "            cls._instances[key] = super(MyBeanMeta, cls).__call__(*args)\n",
    "        return cls._instances[key]"
   ]
  },
  {
   "cell_type": "code",
   "execution_count": null,
   "metadata": {},
   "outputs": [],
   "source": [
    "class MyBeanClass(metaclass=MyBeanMeta):\n",
    "    def __init__(self, a ):\n",
    "        self.a = a"
   ]
  },
  {
   "cell_type": "code",
   "execution_count": null,
   "metadata": {},
   "outputs": [],
   "source": [
    "bn1 = MyBeanClass(1)\n",
    "bn2 = MyBeanClass(2)\n",
    "bn3 = MyBeanClass(3)\n",
    "bn4 = MyBeanClass(1)"
   ]
  },
  {
   "cell_type": "code",
   "execution_count": null,
   "metadata": {},
   "outputs": [],
   "source": [
    "id(bn1), id(bn2), id(bn3), id(bn4)"
   ]
  },
  {
   "cell_type": "markdown",
   "metadata": {},
   "source": [
    "## Pattern 4 : Logging using Metaclasses"
   ]
  },
  {
   "cell_type": "code",
   "execution_count": 1,
   "metadata": {},
   "outputs": [],
   "source": [
    "import logging\n",
    "\n",
    "logging.basicConfig(filename='example.log', level=logging.INFO)\n",
    "logging.debug('This message should go to the log file')\n",
    "logging.info('So should this')\n",
    "logging.warning('And this, too')\n",
    "\n",
    "\n",
    "class MyLogSingletonMeta(type):\n",
    "    logger = logging.getLogger('abc')\n",
    "\n",
    "    _instances = {}\n",
    "\n",
    "    def __call__(cls, *args, **kwargs):\n",
    "        if cls not in cls._instances:\n",
    "            instance = super(MyLogSingletonMeta, cls).__call__(*args)\n",
    "            cls._instances[cls] = instance\n",
    "\n",
    "            instance.__dict__['logger'] = logging.getLogger('abc')\n",
    "        return cls._instances[cls]\n",
    "\n",
    "\n",
    "class MyLogEnabledClass(metaclass=MyLogSingletonMeta):\n",
    "    def test_function(self):\n",
    "        self.logger.info('Inside test_function method of Log Enabled class')\n",
    "        pass    "
   ]
  },
  {
   "cell_type": "code",
   "execution_count": 2,
   "metadata": {},
   "outputs": [
    {
     "name": "stdout",
     "output_type": "stream",
     "text": [
      "4453879696 4453879696\n"
     ]
    }
   ],
   "source": [
    "lec_instance1 = MyLogEnabledClass()\n",
    "lec_instance2 = MyLogEnabledClass()\n",
    "lec_instance1.test_function()\n",
    "\n",
    "print(id(lec_instance1), id(lec_instance2))\n",
    "\n"
   ]
  },
  {
   "cell_type": "code",
   "execution_count": 3,
   "metadata": {},
   "outputs": [
    {
     "name": "stdout",
     "output_type": "stream",
     "text": [
      "INFO:root:So should this\r\n",
      "WARNING:root:And this, too\r\n",
      "INFO:abc:Inside test_function method of Log Enabled class\r\n"
     ]
    }
   ],
   "source": [
    "!cat example.log"
   ]
  },
  {
   "cell_type": "code",
   "execution_count": 4,
   "metadata": {},
   "outputs": [],
   "source": [
    "class MyLogger:    \n",
    "    def __init__(self, logger=None):\n",
    "        self.logger = logger\n",
    "        \n",
    "    def __call__(self, func):\n",
    "        def wrapper(*args, **kwargs):\n",
    "            if self.logger is None:\n",
    "                print(str(func) + \" is called\")\n",
    "            else:\n",
    "                self.logger.info(str(func) + \" is called\")\n",
    "            return func(*args, **kwargs)\n",
    "        return wrapper \n",
    "\n",
    "class MyLoggingMeta(type):\n",
    "    \n",
    "    def __new__(cls, name, bases, attrs):        \n",
    "        for item, value in attrs.items():\n",
    "            if callable(value):\n",
    "                print(\"Function item :\" + str(item), str(value), type(value))\n",
    "                attrs[item] = MyLogger()(value)\n",
    "            else: \n",
    "                print(str(item), str(value), type(value))\n",
    "        return super(MyLoggingMeta, cls).__new__(cls, name, bases, attrs)"
   ]
  },
  {
   "cell_type": "code",
   "execution_count": 5,
   "metadata": {},
   "outputs": [
    {
     "name": "stdout",
     "output_type": "stream",
     "text": [
      "__module__ __main__ <class 'str'>\n",
      "__qualname__ MyClass1 <class 'str'>\n",
      "Function item :test_m1 <function MyClass1.test_m1 at 0x109798560> <class 'function'>\n",
      "Function item :test_m2 <function MyClass1.test_m2 at 0x1097985f0> <class 'function'>\n"
     ]
    }
   ],
   "source": [
    "class MyClass1(metaclass=MyLoggingMeta):\n",
    "    def test_m1(self):\n",
    "        pass\n",
    "    \n",
    "    def test_m2(self):\n",
    "        pass"
   ]
  },
  {
   "cell_type": "code",
   "execution_count": 6,
   "metadata": {},
   "outputs": [],
   "source": [
    "a= MyClass1()"
   ]
  },
  {
   "cell_type": "code",
   "execution_count": 7,
   "metadata": {},
   "outputs": [
    {
     "name": "stdout",
     "output_type": "stream",
     "text": [
      "<function MyClass1.test_m2 at 0x1097985f0> is called\n"
     ]
    }
   ],
   "source": [
    "a.test_m2()"
   ]
  },
  {
   "cell_type": "code",
   "execution_count": 8,
   "metadata": {},
   "outputs": [
    {
     "name": "stdout",
     "output_type": "stream",
     "text": [
      "<function MyClass1.test_m1 at 0x109798560> is called\n"
     ]
    }
   ],
   "source": [
    "a.test_m1()"
   ]
  },
  {
   "cell_type": "markdown",
   "metadata": {},
   "source": [
    "## Pattern 5 : Sealed classes"
   ]
  },
  {
   "cell_type": "code",
   "execution_count": null,
   "metadata": {},
   "outputs": [],
   "source": [
    "class MySealedMeta(type):\n",
    "    \n",
    "    def __new__(cls, name, bases, attrs):\n",
    "        all_metaclasses = [type(x) for x in bases]\n",
    "        if MySealedMeta in all_metaclasses:\n",
    "            raise TypeError(\"Sealed class cannot be sublcassed\")\n",
    "        return super(MySealedMeta, cls).__new__(cls, name, bases, attrs)\n",
    "    "
   ]
  },
  {
   "cell_type": "code",
   "execution_count": null,
   "metadata": {},
   "outputs": [],
   "source": [
    "class MySealedClass(metaclass=MySealedMeta):\n",
    "    pass"
   ]
  },
  {
   "cell_type": "code",
   "execution_count": null,
   "metadata": {},
   "outputs": [],
   "source": [
    "class MyChildOfSealed(MySealedClass):\n",
    "    pass"
   ]
  },
  {
   "cell_type": "code",
   "execution_count": null,
   "metadata": {},
   "outputs": [],
   "source": []
  }
 ],
 "metadata": {
  "kernelspec": {
   "display_name": "Python 3",
   "language": "python",
   "name": "python3"
  },
  "language_info": {
   "codemirror_mode": {
    "name": "ipython",
    "version": 3
   },
   "file_extension": ".py",
   "mimetype": "text/x-python",
   "name": "python",
   "nbconvert_exporter": "python",
   "pygments_lexer": "ipython3",
   "version": "3.7.4"
  }
 },
 "nbformat": 4,
 "nbformat_minor": 2
}
