{
 "cells": [
  {
   "cell_type": "markdown",
   "metadata": {},
   "source": [
    "# Pandas - Python Data Analysis"
   ]
  },
  {
   "cell_type": "markdown",
   "metadata": {},
   "source": [
    "## Upgrade PIP"
   ]
  },
  {
   "cell_type": "markdown",
   "metadata": {},
   "source": [
    "Windows\n",
    "\n",
    "    python -m pip install -U pip\n",
    "\n",
    "Linux\n",
    "   \n",
    "    pip install -U pip"
   ]
  },
  {
   "cell_type": "markdown",
   "metadata": {},
   "source": [
    "### Install Packages if required"
   ]
  },
  {
   "cell_type": "code",
   "execution_count": 67,
   "metadata": {
    "collapsed": false
   },
   "outputs": [
    {
     "name": "stdout",
     "output_type": "stream",
     "text": [
      "Requirement already satisfied (use --upgrade to upgrade): wheel in c:\\anaconda\\lib\\site-packages\n"
     ]
    }
   ],
   "source": [
    "!pip install wheel"
   ]
  },
  {
   "cell_type": "markdown",
   "metadata": {},
   "source": [
    "## Importing required libraries"
   ]
  },
  {
   "cell_type": "code",
   "execution_count": 221,
   "metadata": {
    "collapsed": false
   },
   "outputs": [],
   "source": [
    "%matplotlib inline\n",
    "from pandas import *\n",
    "from pylab import *\n",
    "import pandas\n",
    "import pandas as pd\n",
    "import numpy as np\n",
    "import matplotlib.pyplot as plt\n",
    "from IPython.display import HTML\n",
    "from __future__ import division\n",
    "\n",
    "def side_by_side(*objs, **kwds):\n",
    "    from pandas.formats.printing import adjoin\n",
    "    space = kwds.get('space', 4)\n",
    "    reprs = [repr(obj).split('\\n') for obj in objs]\n",
    "    print adjoin(space, *reprs)\n",
    "    \n",
    "def htmldisp(x):\n",
    "    try:\n",
    "        return HTML(pd.DataFrame(x).to_html())\n",
    "    except:\n",
    "        print (\"Alert!! \\nInput should be a Pandas obj.\")\n",
    "\n",
    "plt.rc('figure', figsize=(10, 6))\n",
    "# pandas.set_printoptions(notebook_repr_html=False)"
   ]
  },
  {
   "cell_type": "code",
   "execution_count": 69,
   "metadata": {
    "collapsed": false,
    "scrolled": false
   },
   "outputs": [
    {
     "data": {
      "text/plain": [
       "[<matplotlib.lines.Line2D at 0x8c06fd0>]"
      ]
     },
     "execution_count": 69,
     "metadata": {},
     "output_type": "execute_result"
    },
    {
     "data": {
      "image/png": "[encoded data removed]",
      "text/plain": [
       "<matplotlib.figure.Figure at 0x67d3eb0>"
      ]
     },
     "metadata": {},
     "output_type": "display_data"
    }
   ],
   "source": [
    "plt.plot([1,2,4,8,16])"
   ]
  },
  {
   "cell_type": "markdown",
   "metadata": {},
   "source": [
    "Series\n",
    "======"
   ]
  },
  {
   "cell_type": "code",
   "execution_count": 70,
   "metadata": {
    "collapsed": false
   },
   "outputs": [
    {
     "data": {
      "text/plain": [
       "array([-0.66537514, -0.5677748 , -0.53418025,  0.51045839,  0.11856411])"
      ]
     },
     "execution_count": 70,
     "metadata": {},
     "output_type": "execute_result"
    }
   ],
   "source": [
    "np.random.randn(5)"
   ]
  },
  {
   "cell_type": "code",
   "execution_count": 71,
   "metadata": {
    "collapsed": false
   },
   "outputs": [],
   "source": [
    "labels = ['a', 'b', 'c', 'd', 'e']\n",
    "s = pd.Series(np.random.randn(5), index=labels)"
   ]
  },
  {
   "cell_type": "code",
   "execution_count": 72,
   "metadata": {
    "collapsed": false
   },
   "outputs": [
    {
     "data": {
      "text/plain": [
       "True"
      ]
     },
     "execution_count": 72,
     "metadata": {},
     "output_type": "execute_result"
    }
   ],
   "source": [
    "'b' in s"
   ]
  },
  {
   "cell_type": "code",
   "execution_count": 73,
   "metadata": {
    "collapsed": false
   },
   "outputs": [
    {
     "data": {
      "text/plain": [
       "1.468315359355616"
      ]
     },
     "execution_count": 73,
     "metadata": {},
     "output_type": "execute_result"
    }
   ],
   "source": [
    "s['b']"
   ]
  },
  {
   "cell_type": "code",
   "execution_count": 74,
   "metadata": {
    "collapsed": false
   },
   "outputs": [
    {
     "data": {
      "text/plain": [
       "Index([u'a', u'b', u'c', u'd', u'e'], dtype='object')"
      ]
     },
     "execution_count": 74,
     "metadata": {},
     "output_type": "execute_result"
    }
   ],
   "source": [
    "s.index"
   ]
  },
  {
   "cell_type": "code",
   "execution_count": 75,
   "metadata": {
    "collapsed": false
   },
   "outputs": [
    {
     "data": {
      "text/plain": [
       "a   -0.502969\n",
       "b    1.468315\n",
       "c   -0.586066\n",
       "d   -0.037522\n",
       "e    0.229438\n",
       "dtype: float64"
      ]
     },
     "execution_count": 75,
     "metadata": {},
     "output_type": "execute_result"
    }
   ],
   "source": [
    "s"
   ]
  },
  {
   "cell_type": "code",
   "execution_count": 76,
   "metadata": {
    "collapsed": false
   },
   "outputs": [
    {
     "data": {
      "text/plain": [
       "{'a': -0.50296937834505506,\n",
       " 'b': 1.468315359355616,\n",
       " 'c': -0.58606560139888719,\n",
       " 'd': -0.037522292320861968,\n",
       " 'e': 0.229438447928906}"
      ]
     },
     "execution_count": 76,
     "metadata": {},
     "output_type": "execute_result"
    }
   ],
   "source": [
    "mapping = s.to_dict()\n",
    "mapping"
   ]
  },
  {
   "cell_type": "code",
   "execution_count": 77,
   "metadata": {
    "collapsed": false
   },
   "outputs": [
    {
     "data": {
      "text/plain": [
       "b    1.468315\n",
       "e    0.229438\n",
       "a   -0.502969\n",
       "d   -0.037522\n",
       "f         NaN\n",
       "dtype: float64"
      ]
     },
     "execution_count": 77,
     "metadata": {},
     "output_type": "execute_result"
    }
   ],
   "source": [
    "s = pd.Series(mapping, index=['b', 'e', 'a', 'd', 'f'])\n",
    "s"
   ]
  },
  {
   "cell_type": "code",
   "execution_count": 78,
   "metadata": {
    "collapsed": false
   },
   "outputs": [
    {
     "data": {
      "text/plain": [
       "b     True\n",
       "e     True\n",
       "a     True\n",
       "d     True\n",
       "f    False\n",
       "dtype: bool"
      ]
     },
     "execution_count": 78,
     "metadata": {},
     "output_type": "execute_result"
    }
   ],
   "source": [
    "notnull(s)"
   ]
  },
  {
   "cell_type": "code",
   "execution_count": 79,
   "metadata": {
    "collapsed": false
   },
   "outputs": [
    {
     "data": {
      "text/plain": [
       "b    1.468315\n",
       "e    0.229438\n",
       "a   -0.502969\n",
       "d   -0.037522\n",
       "dtype: float64"
      ]
     },
     "execution_count": 79,
     "metadata": {},
     "output_type": "execute_result"
    }
   ],
   "source": [
    "s[notnull(s)]"
   ]
  },
  {
   "cell_type": "code",
   "execution_count": 80,
   "metadata": {
    "collapsed": false
   },
   "outputs": [
    {
     "data": {
      "text/plain": [
       "b    1.468315\n",
       "e    0.229438\n",
       "a   -0.502969\n",
       "d   -0.037522\n",
       "dtype: float64"
      ]
     },
     "execution_count": 80,
     "metadata": {},
     "output_type": "execute_result"
    }
   ],
   "source": [
    "s.dropna()"
   ]
  },
  {
   "cell_type": "code",
   "execution_count": 81,
   "metadata": {
    "collapsed": false
   },
   "outputs": [
    {
     "data": {
      "text/plain": [
       "b    2.936631\n",
       "e    0.458877\n",
       "a   -1.005939\n",
       "d   -0.075045\n",
       "f         NaN\n",
       "dtype: float64"
      ]
     },
     "execution_count": 81,
     "metadata": {},
     "output_type": "execute_result"
    }
   ],
   "source": [
    "s * 2"
   ]
  },
  {
   "cell_type": "code",
   "execution_count": 82,
   "metadata": {
    "collapsed": false
   },
   "outputs": [
    {
     "data": {
      "text/plain": [
       "d   -0.037522\n",
       "f         NaN\n",
       "dtype: float64"
      ]
     },
     "execution_count": 82,
     "metadata": {},
     "output_type": "execute_result"
    }
   ],
   "source": [
    "s[3:]"
   ]
  },
  {
   "cell_type": "code",
   "execution_count": 83,
   "metadata": {
    "collapsed": false
   },
   "outputs": [
    {
     "data": {
      "text/plain": [
       "b    1.468315\n",
       "e    0.229438\n",
       "a   -0.502969\n",
       "dtype: float64"
      ]
     },
     "execution_count": 83,
     "metadata": {},
     "output_type": "execute_result"
    }
   ],
   "source": [
    "s[:3]"
   ]
  },
  {
   "cell_type": "code",
   "execution_count": 84,
   "metadata": {
    "collapsed": false
   },
   "outputs": [
    {
     "data": {
      "text/plain": [
       "Index([u'b', u'e', u'a', u'd', u'f'], dtype='object')"
      ]
     },
     "execution_count": 84,
     "metadata": {},
     "output_type": "execute_result"
    }
   ],
   "source": [
    "s.index"
   ]
  },
  {
   "cell_type": "markdown",
   "metadata": {},
   "source": [
    "DataFrame: 2D collection of Series\n",
    "=================================="
   ]
  },
  {
   "cell_type": "code",
   "execution_count": 85,
   "metadata": {
    "collapsed": false
   },
   "outputs": [
    {
     "data": {
      "text/html": [
       "<div>\n",
       "<table border=\"1\" class=\"dataframe\">\n",
       "  <thead>\n",
       "    <tr style=\"text-align: right;\">\n",
       "      <th></th>\n",
       "      <th>a</th>\n",
       "      <th>b</th>\n",
       "      <th>c</th>\n",
       "      <th>d</th>\n",
       "    </tr>\n",
       "  </thead>\n",
       "  <tbody>\n",
       "    <tr>\n",
       "      <th>0</th>\n",
       "      <td>-0.704317</td>\n",
       "      <td>foo</td>\n",
       "      <td>-1.782846</td>\n",
       "      <td>0</td>\n",
       "    </tr>\n",
       "    <tr>\n",
       "      <th>1</th>\n",
       "      <td>-0.768235</td>\n",
       "      <td>bar</td>\n",
       "      <td>-0.916710</td>\n",
       "      <td>1</td>\n",
       "    </tr>\n",
       "    <tr>\n",
       "      <th>2</th>\n",
       "      <td>0.335652</td>\n",
       "      <td>foo</td>\n",
       "      <td>0.732409</td>\n",
       "      <td>2</td>\n",
       "    </tr>\n",
       "    <tr>\n",
       "      <th>3</th>\n",
       "      <td>-1.040598</td>\n",
       "      <td>bar</td>\n",
       "      <td>-0.042354</td>\n",
       "      <td>3</td>\n",
       "    </tr>\n",
       "    <tr>\n",
       "      <th>4</th>\n",
       "      <td>0.021351</td>\n",
       "      <td>foo</td>\n",
       "      <td>-0.096634</td>\n",
       "      <td>4</td>\n",
       "    </tr>\n",
       "    <tr>\n",
       "      <th>5</th>\n",
       "      <td>-0.873731</td>\n",
       "      <td>bar</td>\n",
       "      <td>1.802349</td>\n",
       "      <td>5</td>\n",
       "    </tr>\n",
       "  </tbody>\n",
       "</table>\n",
       "</div>"
      ],
      "text/plain": [
       "          a    b         c  d\n",
       "0 -0.704317  foo -1.782846  0\n",
       "1 -0.768235  bar -0.916710  1\n",
       "2  0.335652  foo  0.732409  2\n",
       "3 -1.040598  bar -0.042354  3\n",
       "4  0.021351  foo -0.096634  4\n",
       "5 -0.873731  bar  1.802349  5"
      ]
     },
     "execution_count": 85,
     "metadata": {},
     "output_type": "execute_result"
    }
   ],
   "source": [
    "df = DataFrame({'a': np.random.randn(6),\n",
    "                'b': ['foo', 'bar'] * 3,\n",
    "                'c': np.random.randn(6)})\n",
    "df['d'] = range(6)\n",
    "df"
   ]
  },
  {
   "cell_type": "code",
   "execution_count": 86,
   "metadata": {
    "collapsed": false
   },
   "outputs": [
    {
     "data": {
      "text/plain": [
       "0    foo\n",
       "1    bar\n",
       "2    foo\n",
       "3    bar\n",
       "4    foo\n",
       "5    bar\n",
       "Name: b, dtype: object"
      ]
     },
     "execution_count": 86,
     "metadata": {},
     "output_type": "execute_result"
    }
   ],
   "source": [
    "df['b']    # by column"
   ]
  },
  {
   "cell_type": "code",
   "execution_count": 87,
   "metadata": {
    "collapsed": false
   },
   "outputs": [
    {
     "data": {
      "text/html": [
       "<div>\n",
       "<table border=\"1\" class=\"dataframe\">\n",
       "  <thead>\n",
       "    <tr style=\"text-align: right;\">\n",
       "      <th></th>\n",
       "      <th>a</th>\n",
       "      <th>b</th>\n",
       "      <th>c</th>\n",
       "      <th>d</th>\n",
       "    </tr>\n",
       "  </thead>\n",
       "  <tbody>\n",
       "    <tr>\n",
       "      <th>0</th>\n",
       "      <td>-0.704317</td>\n",
       "      <td>foo</td>\n",
       "      <td>-1.782846</td>\n",
       "      <td>0</td>\n",
       "    </tr>\n",
       "    <tr>\n",
       "      <th>1</th>\n",
       "      <td>-0.768235</td>\n",
       "      <td>bar</td>\n",
       "      <td>-0.916710</td>\n",
       "      <td>1</td>\n",
       "    </tr>\n",
       "    <tr>\n",
       "      <th>2</th>\n",
       "      <td>0.335652</td>\n",
       "      <td>foo</td>\n",
       "      <td>0.732409</td>\n",
       "      <td>2</td>\n",
       "    </tr>\n",
       "  </tbody>\n",
       "</table>\n",
       "</div>"
      ],
      "text/plain": [
       "          a    b         c  d\n",
       "0 -0.704317  foo -1.782846  0\n",
       "1 -0.768235  bar -0.916710  1\n",
       "2  0.335652  foo  0.732409  2"
      ]
     },
     "execution_count": 87,
     "metadata": {},
     "output_type": "execute_result"
    }
   ],
   "source": [
    "df[:3]"
   ]
  },
  {
   "cell_type": "code",
   "execution_count": 88,
   "metadata": {
    "collapsed": false
   },
   "outputs": [
    {
     "data": {
      "text/html": [
       "<div>\n",
       "<table border=\"1\" class=\"dataframe\">\n",
       "  <thead>\n",
       "    <tr style=\"text-align: right;\">\n",
       "      <th></th>\n",
       "      <th>a</th>\n",
       "      <th>b</th>\n",
       "      <th>c</th>\n",
       "      <th>d</th>\n",
       "    </tr>\n",
       "  </thead>\n",
       "  <tbody>\n",
       "    <tr>\n",
       "      <th>0</th>\n",
       "      <td>-0.704317</td>\n",
       "      <td>foo</td>\n",
       "      <td>-1.782846</td>\n",
       "      <td>0</td>\n",
       "    </tr>\n",
       "    <tr>\n",
       "      <th>1</th>\n",
       "      <td>-0.768235</td>\n",
       "      <td>bar</td>\n",
       "      <td>-0.916710</td>\n",
       "      <td>1</td>\n",
       "    </tr>\n",
       "    <tr>\n",
       "      <th>2</th>\n",
       "      <td>0.335652</td>\n",
       "      <td>foo</td>\n",
       "      <td>0.732409</td>\n",
       "      <td>2</td>\n",
       "    </tr>\n",
       "    <tr>\n",
       "      <th>3</th>\n",
       "      <td>-1.040598</td>\n",
       "      <td>bar</td>\n",
       "      <td>-0.042354</td>\n",
       "      <td>3</td>\n",
       "    </tr>\n",
       "  </tbody>\n",
       "</table>\n",
       "</div>"
      ],
      "text/plain": [
       "          a    b         c  d\n",
       "0 -0.704317  foo -1.782846  0\n",
       "1 -0.768235  bar -0.916710  1\n",
       "2  0.335652  foo  0.732409  2\n",
       "3 -1.040598  bar -0.042354  3"
      ]
     },
     "execution_count": 88,
     "metadata": {},
     "output_type": "execute_result"
    }
   ],
   "source": [
    "df[:-2]"
   ]
  },
  {
   "cell_type": "code",
   "execution_count": 89,
   "metadata": {
    "collapsed": false
   },
   "outputs": [
    {
     "data": {
      "text/html": [
       "<div>\n",
       "<table border=\"1\" class=\"dataframe\">\n",
       "  <thead>\n",
       "    <tr style=\"text-align: right;\">\n",
       "      <th></th>\n",
       "      <th>a</th>\n",
       "      <th>b</th>\n",
       "      <th>c</th>\n",
       "      <th>d</th>\n",
       "    </tr>\n",
       "  </thead>\n",
       "  <tbody>\n",
       "    <tr>\n",
       "      <th>4</th>\n",
       "      <td>0.021351</td>\n",
       "      <td>foo</td>\n",
       "      <td>-0.096634</td>\n",
       "      <td>4</td>\n",
       "    </tr>\n",
       "    <tr>\n",
       "      <th>5</th>\n",
       "      <td>-0.873731</td>\n",
       "      <td>bar</td>\n",
       "      <td>1.802349</td>\n",
       "      <td>5</td>\n",
       "    </tr>\n",
       "  </tbody>\n",
       "</table>\n",
       "</div>"
      ],
      "text/plain": [
       "          a    b         c  d\n",
       "4  0.021351  foo -0.096634  4\n",
       "5 -0.873731  bar  1.802349  5"
      ]
     },
     "execution_count": 89,
     "metadata": {},
     "output_type": "execute_result"
    }
   ],
   "source": [
    "df[-2:]   # the last 2 rows"
   ]
  },
  {
   "cell_type": "code",
   "execution_count": 90,
   "metadata": {
    "collapsed": false,
    "scrolled": true
   },
   "outputs": [
    {
     "data": {
      "text/html": [
       "<div>\n",
       "<table border=\"1\" class=\"dataframe\">\n",
       "  <thead>\n",
       "    <tr style=\"text-align: right;\">\n",
       "      <th></th>\n",
       "      <th>a</th>\n",
       "      <th>b</th>\n",
       "    </tr>\n",
       "  </thead>\n",
       "  <tbody>\n",
       "    <tr>\n",
       "      <th>0</th>\n",
       "      <td>-0.704317</td>\n",
       "      <td>foo</td>\n",
       "    </tr>\n",
       "    <tr>\n",
       "      <th>1</th>\n",
       "      <td>-0.768235</td>\n",
       "      <td>bar</td>\n",
       "    </tr>\n",
       "    <tr>\n",
       "      <th>2</th>\n",
       "      <td>0.335652</td>\n",
       "      <td>foo</td>\n",
       "    </tr>\n",
       "    <tr>\n",
       "      <th>3</th>\n",
       "      <td>-1.040598</td>\n",
       "      <td>bar</td>\n",
       "    </tr>\n",
       "    <tr>\n",
       "      <th>4</th>\n",
       "      <td>0.021351</td>\n",
       "      <td>foo</td>\n",
       "    </tr>\n",
       "    <tr>\n",
       "      <th>5</th>\n",
       "      <td>-0.873731</td>\n",
       "      <td>bar</td>\n",
       "    </tr>\n",
       "  </tbody>\n",
       "</table>\n",
       "</div>"
      ],
      "text/plain": [
       "          a    b\n",
       "0 -0.704317  foo\n",
       "1 -0.768235  bar\n",
       "2  0.335652  foo\n",
       "3 -1.040598  bar\n",
       "4  0.021351  foo\n",
       "5 -0.873731  bar"
      ]
     },
     "execution_count": 90,
     "metadata": {},
     "output_type": "execute_result"
    }
   ],
   "source": [
    "df[['a','b']]"
   ]
  },
  {
   "cell_type": "code",
   "execution_count": 91,
   "metadata": {
    "collapsed": false
   },
   "outputs": [
    {
     "data": {
      "text/plain": [
       "array(['foo', 'bar', 'foo', 'bar', 'foo', 'bar'], \n",
       "      dtype='|S3')"
      ]
     },
     "execution_count": 91,
     "metadata": {},
     "output_type": "execute_result"
    }
   ],
   "source": [
    "np.tile(['foo', 'bar'], 3)   # in numpy"
   ]
  },
  {
   "cell_type": "code",
   "execution_count": 92,
   "metadata": {
    "collapsed": false
   },
   "outputs": [
    {
     "data": {
      "text/plain": [
       "a   -0.704317\n",
       "b         foo\n",
       "c    -1.78285\n",
       "d           0\n",
       "Name: 0, dtype: object"
      ]
     },
     "execution_count": 92,
     "metadata": {},
     "output_type": "execute_result"
    }
   ],
   "source": [
    "df.xs(0)   # returning the first row"
   ]
  },
  {
   "cell_type": "code",
   "execution_count": 93,
   "metadata": {
    "collapsed": false
   },
   "outputs": [
    {
     "data": {
      "text/plain": [
       "a    0.335652\n",
       "b         foo\n",
       "c    0.732409\n",
       "d           2\n",
       "Name: 2, dtype: object"
      ]
     },
     "execution_count": 93,
     "metadata": {},
     "output_type": "execute_result"
    }
   ],
   "source": [
    "df.ix[2]    # does equal thing as above. In this case, 3rd row. "
   ]
  },
  {
   "cell_type": "code",
   "execution_count": 94,
   "metadata": {
    "collapsed": false
   },
   "outputs": [
    {
     "data": {
      "text/plain": [
       "'foo'"
      ]
     },
     "execution_count": 94,
     "metadata": {},
     "output_type": "execute_result"
    }
   ],
   "source": [
    "df.ix[2, 'b']"
   ]
  },
  {
   "cell_type": "code",
   "execution_count": 95,
   "metadata": {
    "collapsed": false
   },
   "outputs": [
    {
     "name": "stdout",
     "output_type": "stream",
     "text": [
      "10000 loops, best of 3: 112 µs per loop\n"
     ]
    }
   ],
   "source": [
    "timeit df.ix[1]"
   ]
  },
  {
   "cell_type": "code",
   "execution_count": 96,
   "metadata": {
    "collapsed": false
   },
   "outputs": [
    {
     "data": {
      "text/plain": [
       "'foo'"
      ]
     },
     "execution_count": 96,
     "metadata": {},
     "output_type": "execute_result"
    }
   ],
   "source": [
    "df.get_value(2, 'b')"
   ]
  },
  {
   "cell_type": "code",
   "execution_count": 97,
   "metadata": {
    "collapsed": false
   },
   "outputs": [
    {
     "name": "stdout",
     "output_type": "stream",
     "text": [
      "The slowest run took 8.82 times longer than the fastest. This could mean that an intermediate result is being cached.\n",
      "100000 loops, best of 3: 4.97 µs per loop\n"
     ]
    }
   ],
   "source": [
    "timeit df.ix[2, 'b']"
   ]
  },
  {
   "cell_type": "code",
   "execution_count": 98,
   "metadata": {
    "collapsed": false
   },
   "outputs": [
    {
     "name": "stdout",
     "output_type": "stream",
     "text": [
      "The slowest run took 11.29 times longer than the fastest. This could mean that an intermediate result is being cached.\n",
      "100000 loops, best of 3: 2.41 µs per loop\n"
     ]
    }
   ],
   "source": [
    "timeit df.get_value(2, 'b')"
   ]
  },
  {
   "cell_type": "code",
   "execution_count": 99,
   "metadata": {
    "collapsed": false
   },
   "outputs": [
    {
     "data": {
      "text/plain": [
       "2    foo\n",
       "3    bar\n",
       "4    foo\n",
       "Name: b, dtype: object"
      ]
     },
     "execution_count": 99,
     "metadata": {},
     "output_type": "execute_result"
    }
   ],
   "source": [
    "df.ix[2:4, 'b']"
   ]
  },
  {
   "cell_type": "code",
   "execution_count": 100,
   "metadata": {
    "collapsed": false
   },
   "outputs": [
    {
     "data": {
      "text/html": [
       "<div>\n",
       "<table border=\"1\" class=\"dataframe\">\n",
       "  <thead>\n",
       "    <tr style=\"text-align: right;\">\n",
       "      <th></th>\n",
       "      <th>b</th>\n",
       "      <th>c</th>\n",
       "    </tr>\n",
       "  </thead>\n",
       "  <tbody>\n",
       "    <tr>\n",
       "      <th>2</th>\n",
       "      <td>foo</td>\n",
       "      <td>0.732409</td>\n",
       "    </tr>\n",
       "    <tr>\n",
       "      <th>3</th>\n",
       "      <td>bar</td>\n",
       "      <td>-0.042354</td>\n",
       "    </tr>\n",
       "    <tr>\n",
       "      <th>4</th>\n",
       "      <td>foo</td>\n",
       "      <td>-0.096634</td>\n",
       "    </tr>\n",
       "  </tbody>\n",
       "</table>\n",
       "</div>"
      ],
      "text/plain": [
       "     b         c\n",
       "2  foo  0.732409\n",
       "3  bar -0.042354\n",
       "4  foo -0.096634"
      ]
     },
     "execution_count": 100,
     "metadata": {},
     "output_type": "execute_result"
    }
   ],
   "source": [
    "df.ix[2:4, ['b', 'c']]"
   ]
  },
  {
   "cell_type": "code",
   "execution_count": 101,
   "metadata": {
    "collapsed": false
   },
   "outputs": [
    {
     "data": {
      "text/html": [
       "<div>\n",
       "<table border=\"1\" class=\"dataframe\">\n",
       "  <thead>\n",
       "    <tr style=\"text-align: right;\">\n",
       "      <th></th>\n",
       "      <th>b</th>\n",
       "      <th>c</th>\n",
       "    </tr>\n",
       "  </thead>\n",
       "  <tbody>\n",
       "    <tr>\n",
       "      <th>2</th>\n",
       "      <td>foo</td>\n",
       "      <td>0.732409</td>\n",
       "    </tr>\n",
       "    <tr>\n",
       "      <th>3</th>\n",
       "      <td>bar</td>\n",
       "      <td>-0.042354</td>\n",
       "    </tr>\n",
       "    <tr>\n",
       "      <th>4</th>\n",
       "      <td>foo</td>\n",
       "      <td>-0.096634</td>\n",
       "    </tr>\n",
       "  </tbody>\n",
       "</table>\n",
       "</div>"
      ],
      "text/plain": [
       "     b         c\n",
       "2  foo  0.732409\n",
       "3  bar -0.042354\n",
       "4  foo -0.096634"
      ]
     },
     "execution_count": 101,
     "metadata": {},
     "output_type": "execute_result"
    }
   ],
   "source": [
    "df.ix[2:4, 'b':'c']   # slices by column - essentially the same as above."
   ]
  },
  {
   "cell_type": "code",
   "execution_count": 102,
   "metadata": {
    "collapsed": false
   },
   "outputs": [
    {
     "data": {
      "text/html": [
       "<div>\n",
       "<table border=\"1\" class=\"dataframe\">\n",
       "  <thead>\n",
       "    <tr style=\"text-align: right;\">\n",
       "      <th></th>\n",
       "      <th>a</th>\n",
       "      <th>b</th>\n",
       "    </tr>\n",
       "  </thead>\n",
       "  <tbody>\n",
       "    <tr>\n",
       "      <th>2</th>\n",
       "      <td>0.335652</td>\n",
       "      <td>foo</td>\n",
       "    </tr>\n",
       "    <tr>\n",
       "      <th>3</th>\n",
       "      <td>-1.040598</td>\n",
       "      <td>bar</td>\n",
       "    </tr>\n",
       "    <tr>\n",
       "      <th>4</th>\n",
       "      <td>0.021351</td>\n",
       "      <td>foo</td>\n",
       "    </tr>\n",
       "  </tbody>\n",
       "</table>\n",
       "</div>"
      ],
      "text/plain": [
       "          a    b\n",
       "2  0.335652  foo\n",
       "3 -1.040598  bar\n",
       "4  0.021351  foo"
      ]
     },
     "execution_count": 102,
     "metadata": {},
     "output_type": "execute_result"
    }
   ],
   "source": [
    "df.ix[2:4, 0:2]"
   ]
  },
  {
   "cell_type": "code",
   "execution_count": 103,
   "metadata": {
    "collapsed": false
   },
   "outputs": [
    {
     "data": {
      "text/html": [
       "<div>\n",
       "<table border=\"1\" class=\"dataframe\">\n",
       "  <thead>\n",
       "    <tr style=\"text-align: right;\">\n",
       "      <th></th>\n",
       "      <th>b</th>\n",
       "      <th>c</th>\n",
       "      <th>d</th>\n",
       "    </tr>\n",
       "  </thead>\n",
       "  <tbody>\n",
       "    <tr>\n",
       "      <th>0</th>\n",
       "      <td>foo</td>\n",
       "      <td>-1.782846</td>\n",
       "      <td>0</td>\n",
       "    </tr>\n",
       "    <tr>\n",
       "      <th>2</th>\n",
       "      <td>foo</td>\n",
       "      <td>0.732409</td>\n",
       "      <td>2</td>\n",
       "    </tr>\n",
       "    <tr>\n",
       "      <th>4</th>\n",
       "      <td>foo</td>\n",
       "      <td>-0.096634</td>\n",
       "      <td>4</td>\n",
       "    </tr>\n",
       "  </tbody>\n",
       "</table>\n",
       "</div>"
      ],
      "text/plain": [
       "     b         c  d\n",
       "0  foo -1.782846  0\n",
       "2  foo  0.732409  2\n",
       "4  foo -0.096634  4"
      ]
     },
     "execution_count": 103,
     "metadata": {},
     "output_type": "execute_result"
    }
   ],
   "source": [
    "df.ix[[0, 2, 4], ['b', 'c', 'd']]   # pass a list of rows and columns I want to select out"
   ]
  },
  {
   "cell_type": "code",
   "execution_count": 104,
   "metadata": {
    "collapsed": false
   },
   "outputs": [
    {
     "data": {
      "text/plain": [
       "0    False\n",
       "1    False\n",
       "2     True\n",
       "3    False\n",
       "4    False\n",
       "5     True\n",
       "Name: c, dtype: bool"
      ]
     },
     "execution_count": 104,
     "metadata": {},
     "output_type": "execute_result"
    }
   ],
   "source": [
    "df['c'] > 0"
   ]
  },
  {
   "cell_type": "code",
   "execution_count": 105,
   "metadata": {
    "collapsed": false
   },
   "outputs": [
    {
     "data": {
      "text/html": [
       "<div>\n",
       "<table border=\"1\" class=\"dataframe\">\n",
       "  <thead>\n",
       "    <tr style=\"text-align: right;\">\n",
       "      <th></th>\n",
       "      <th>a</th>\n",
       "      <th>b</th>\n",
       "      <th>c</th>\n",
       "      <th>d</th>\n",
       "    </tr>\n",
       "  </thead>\n",
       "  <tbody>\n",
       "    <tr>\n",
       "      <th>2</th>\n",
       "      <td>0.335652</td>\n",
       "      <td>foo</td>\n",
       "      <td>0.732409</td>\n",
       "      <td>2</td>\n",
       "    </tr>\n",
       "    <tr>\n",
       "      <th>5</th>\n",
       "      <td>-0.873731</td>\n",
       "      <td>bar</td>\n",
       "      <td>1.802349</td>\n",
       "      <td>5</td>\n",
       "    </tr>\n",
       "  </tbody>\n",
       "</table>\n",
       "</div>"
      ],
      "text/plain": [
       "          a    b         c  d\n",
       "2  0.335652  foo  0.732409  2\n",
       "5 -0.873731  bar  1.802349  5"
      ]
     },
     "execution_count": 105,
     "metadata": {},
     "output_type": "execute_result"
    }
   ],
   "source": [
    "df.ix[df['c'] > 0]   # boolean arrays"
   ]
  },
  {
   "cell_type": "code",
   "execution_count": 106,
   "metadata": {
    "collapsed": false
   },
   "outputs": [
    {
     "data": {
      "text/plain": [
       "RangeIndex(start=0, stop=6, step=1)"
      ]
     },
     "execution_count": 106,
     "metadata": {},
     "output_type": "execute_result"
    }
   ],
   "source": [
    "df.index"
   ]
  },
  {
   "cell_type": "code",
   "execution_count": 107,
   "metadata": {
    "collapsed": false
   },
   "outputs": [
    {
     "data": {
      "text/plain": [
       "Index([u'a', u'b', u'c', u'd'], dtype='object')"
      ]
     },
     "execution_count": 107,
     "metadata": {},
     "output_type": "execute_result"
    }
   ],
   "source": [
    "df.columns"
   ]
  },
  {
   "cell_type": "code",
   "execution_count": 108,
   "metadata": {
    "collapsed": false
   },
   "outputs": [
    {
     "data": {
      "text/plain": [
       "DatetimeIndex(['2000-01-01', '2000-01-02', '2000-01-03', '2000-01-04',\n",
       "               '2000-01-05', '2000-01-06'],\n",
       "              dtype='datetime64[ns]', freq='D')"
      ]
     },
     "execution_count": 108,
     "metadata": {},
     "output_type": "execute_result"
    }
   ],
   "source": [
    "pandas.date_range('1/1/2000',periods=6)"
   ]
  },
  {
   "cell_type": "code",
   "execution_count": 109,
   "metadata": {
    "collapsed": false
   },
   "outputs": [
    {
     "data": {
      "text/html": [
       "<div>\n",
       "<table border=\"1\" class=\"dataframe\">\n",
       "  <thead>\n",
       "    <tr style=\"text-align: right;\">\n",
       "      <th></th>\n",
       "      <th>a</th>\n",
       "      <th>b</th>\n",
       "      <th>c</th>\n",
       "    </tr>\n",
       "  </thead>\n",
       "  <tbody>\n",
       "    <tr>\n",
       "      <th>2000-01-01</th>\n",
       "      <td>1.269364</td>\n",
       "      <td>foo</td>\n",
       "      <td>0.825877</td>\n",
       "    </tr>\n",
       "    <tr>\n",
       "      <th>2000-01-02</th>\n",
       "      <td>1.037640</td>\n",
       "      <td>bar</td>\n",
       "      <td>-1.477966</td>\n",
       "    </tr>\n",
       "    <tr>\n",
       "      <th>2000-01-03</th>\n",
       "      <td>0.621788</td>\n",
       "      <td>foo</td>\n",
       "      <td>-1.342809</td>\n",
       "    </tr>\n",
       "    <tr>\n",
       "      <th>2000-01-04</th>\n",
       "      <td>1.180793</td>\n",
       "      <td>bar</td>\n",
       "      <td>-0.799461</td>\n",
       "    </tr>\n",
       "    <tr>\n",
       "      <th>2000-01-05</th>\n",
       "      <td>0.824102</td>\n",
       "      <td>foo</td>\n",
       "      <td>-0.887313</td>\n",
       "    </tr>\n",
       "    <tr>\n",
       "      <th>2000-01-06</th>\n",
       "      <td>0.047541</td>\n",
       "      <td>bar</td>\n",
       "      <td>1.362241</td>\n",
       "    </tr>\n",
       "  </tbody>\n",
       "</table>\n",
       "</div>"
      ],
      "text/plain": [
       "                   a    b         c\n",
       "2000-01-01  1.269364  foo  0.825877\n",
       "2000-01-02  1.037640  bar -1.477966\n",
       "2000-01-03  0.621788  foo -1.342809\n",
       "2000-01-04  1.180793  bar -0.799461\n",
       "2000-01-05  0.824102  foo -0.887313\n",
       "2000-01-06  0.047541  bar  1.362241"
      ]
     },
     "execution_count": 109,
     "metadata": {},
     "output_type": "execute_result"
    }
   ],
   "source": [
    "df = DataFrame({'a': np.random.randn(6),\n",
    "                'b': ['foo', 'bar'] * 3,\n",
    "                'c': np.random.randn(6)},\n",
    "               index=pandas.date_range('1/1/2000', periods=6))\n",
    "df"
   ]
  },
  {
   "cell_type": "code",
   "execution_count": 110,
   "metadata": {
    "collapsed": false
   },
   "outputs": [
    {
     "data": {
      "text/html": [
       "<div>\n",
       "<table border=\"1\" class=\"dataframe\">\n",
       "  <thead>\n",
       "    <tr style=\"text-align: right;\">\n",
       "      <th></th>\n",
       "      <th>a</th>\n",
       "      <th>b</th>\n",
       "      <th>c</th>\n",
       "      <th>d</th>\n",
       "    </tr>\n",
       "  </thead>\n",
       "  <tbody>\n",
       "    <tr>\n",
       "      <th>0</th>\n",
       "      <td>-1.283341</td>\n",
       "      <td>foo</td>\n",
       "      <td>-0.172198</td>\n",
       "      <td>NaN</td>\n",
       "    </tr>\n",
       "    <tr>\n",
       "      <th>1</th>\n",
       "      <td>-1.511962</td>\n",
       "      <td>bar</td>\n",
       "      <td>0.357274</td>\n",
       "      <td>NaN</td>\n",
       "    </tr>\n",
       "    <tr>\n",
       "      <th>2</th>\n",
       "      <td>0.327979</td>\n",
       "      <td>foo</td>\n",
       "      <td>0.308704</td>\n",
       "      <td>NaN</td>\n",
       "    </tr>\n",
       "    <tr>\n",
       "      <th>3</th>\n",
       "      <td>0.825253</td>\n",
       "      <td>bar</td>\n",
       "      <td>-2.168154</td>\n",
       "      <td>NaN</td>\n",
       "    </tr>\n",
       "    <tr>\n",
       "      <th>4</th>\n",
       "      <td>-0.347085</td>\n",
       "      <td>foo</td>\n",
       "      <td>0.032781</td>\n",
       "      <td>NaN</td>\n",
       "    </tr>\n",
       "    <tr>\n",
       "      <th>5</th>\n",
       "      <td>-0.051206</td>\n",
       "      <td>bar</td>\n",
       "      <td>1.292636</td>\n",
       "      <td>NaN</td>\n",
       "    </tr>\n",
       "  </tbody>\n",
       "</table>\n",
       "</div>"
      ],
      "text/plain": [
       "          a    b         c    d\n",
       "0 -1.283341  foo -0.172198  NaN\n",
       "1 -1.511962  bar  0.357274  NaN\n",
       "2  0.327979  foo  0.308704  NaN\n",
       "3  0.825253  bar -2.168154  NaN\n",
       "4 -0.347085  foo  0.032781  NaN\n",
       "5 -0.051206  bar  1.292636  NaN"
      ]
     },
     "execution_count": 110,
     "metadata": {},
     "output_type": "execute_result"
    }
   ],
   "source": [
    "df = DataFrame({'a': np.random.randn(6),\n",
    "                'b': ['foo', 'bar'] * 3,\n",
    "                'c': np.random.randn(6)},\n",
    "               columns=['a', 'b', 'c', 'd'])\n",
    "df"
   ]
  },
  {
   "cell_type": "code",
   "execution_count": 111,
   "metadata": {
    "collapsed": false
   },
   "outputs": [
    {
     "data": {
      "text/html": [
       "<div>\n",
       "<table border=\"1\" class=\"dataframe\">\n",
       "  <thead>\n",
       "    <tr style=\"text-align: right;\">\n",
       "      <th></th>\n",
       "      <th>a</th>\n",
       "      <th>b</th>\n",
       "      <th>c</th>\n",
       "      <th>d</th>\n",
       "    </tr>\n",
       "  </thead>\n",
       "  <tbody>\n",
       "    <tr>\n",
       "      <th>0</th>\n",
       "      <td>False</td>\n",
       "      <td>False</td>\n",
       "      <td>False</td>\n",
       "      <td>True</td>\n",
       "    </tr>\n",
       "    <tr>\n",
       "      <th>1</th>\n",
       "      <td>False</td>\n",
       "      <td>False</td>\n",
       "      <td>False</td>\n",
       "      <td>True</td>\n",
       "    </tr>\n",
       "    <tr>\n",
       "      <th>2</th>\n",
       "      <td>False</td>\n",
       "      <td>False</td>\n",
       "      <td>False</td>\n",
       "      <td>True</td>\n",
       "    </tr>\n",
       "    <tr>\n",
       "      <th>3</th>\n",
       "      <td>False</td>\n",
       "      <td>False</td>\n",
       "      <td>False</td>\n",
       "      <td>True</td>\n",
       "    </tr>\n",
       "    <tr>\n",
       "      <th>4</th>\n",
       "      <td>False</td>\n",
       "      <td>False</td>\n",
       "      <td>False</td>\n",
       "      <td>True</td>\n",
       "    </tr>\n",
       "    <tr>\n",
       "      <th>5</th>\n",
       "      <td>False</td>\n",
       "      <td>False</td>\n",
       "      <td>False</td>\n",
       "      <td>True</td>\n",
       "    </tr>\n",
       "  </tbody>\n",
       "</table>\n",
       "</div>"
      ],
      "text/plain": [
       "       a      b      c     d\n",
       "0  False  False  False  True\n",
       "1  False  False  False  True\n",
       "2  False  False  False  True\n",
       "3  False  False  False  True\n",
       "4  False  False  False  True\n",
       "5  False  False  False  True"
      ]
     },
     "execution_count": 111,
     "metadata": {},
     "output_type": "execute_result"
    }
   ],
   "source": [
    "isnull(df)"
   ]
  },
  {
   "cell_type": "markdown",
   "metadata": {},
   "source": [
    "Creation from nested dicts\n",
    "--------------------------\n",
    "\n",
    "These arise naturally in Python code"
   ]
  },
  {
   "cell_type": "code",
   "execution_count": 112,
   "metadata": {
    "collapsed": false,
    "scrolled": true
   },
   "outputs": [
    {
     "data": {
      "text/plain": [
       "{'bar': {'a': 0.38112931907002495,\n",
       "  'b': -0.765909219644571,\n",
       "  'c': 0.4985234895811544,\n",
       "  'd': -0.7330625057267428},\n",
       " 'baz': {'a': 1.7271692781624934,\n",
       "  'b': 0.7570402996083134,\n",
       "  'c': 1.2739907718089785,\n",
       "  'd': -0.20450433532235054},\n",
       " 'foo': {'a': 0.1980977136126971,\n",
       "  'b': 1.211788252583382,\n",
       "  'c': -1.0048549547865768,\n",
       "  'd': -1.1082866658145967}}"
      ]
     },
     "execution_count": 112,
     "metadata": {},
     "output_type": "execute_result"
    }
   ],
   "source": [
    "data = {}\n",
    "for col in ['foo', 'bar', 'baz']:\n",
    "    for row in ['a', 'b', 'c', 'd']:\n",
    "        data.setdefault(col, {})[row] = np.random.randn()   # sorted cols: bar, baz, foo\n",
    "data"
   ]
  },
  {
   "cell_type": "code",
   "execution_count": 113,
   "metadata": {
    "collapsed": false
   },
   "outputs": [],
   "source": [
    "del data ['foo']['c']   # delete an entry by index key (col) and row."
   ]
  },
  {
   "cell_type": "code",
   "execution_count": 114,
   "metadata": {
    "collapsed": false
   },
   "outputs": [
    {
     "data": {
      "text/html": [
       "<div>\n",
       "<table border=\"1\" class=\"dataframe\">\n",
       "  <thead>\n",
       "    <tr style=\"text-align: right;\">\n",
       "      <th></th>\n",
       "      <th>bar</th>\n",
       "      <th>baz</th>\n",
       "      <th>foo</th>\n",
       "    </tr>\n",
       "  </thead>\n",
       "  <tbody>\n",
       "    <tr>\n",
       "      <th>a</th>\n",
       "      <td>0.381129</td>\n",
       "      <td>1.727169</td>\n",
       "      <td>0.198098</td>\n",
       "    </tr>\n",
       "    <tr>\n",
       "      <th>b</th>\n",
       "      <td>-0.765909</td>\n",
       "      <td>0.757040</td>\n",
       "      <td>1.211788</td>\n",
       "    </tr>\n",
       "    <tr>\n",
       "      <th>c</th>\n",
       "      <td>0.498523</td>\n",
       "      <td>1.273991</td>\n",
       "      <td>NaN</td>\n",
       "    </tr>\n",
       "    <tr>\n",
       "      <th>d</th>\n",
       "      <td>-0.733063</td>\n",
       "      <td>-0.204504</td>\n",
       "      <td>-1.108287</td>\n",
       "    </tr>\n",
       "  </tbody>\n",
       "</table>\n",
       "</div>"
      ],
      "text/plain": [
       "        bar       baz       foo\n",
       "a  0.381129  1.727169  0.198098\n",
       "b -0.765909  0.757040  1.211788\n",
       "c  0.498523  1.273991       NaN\n",
       "d -0.733063 -0.204504 -1.108287"
      ]
     },
     "execution_count": 114,
     "metadata": {},
     "output_type": "execute_result"
    }
   ],
   "source": [
    "DataFrame(data)   # pass a dict "
   ]
  },
  {
   "cell_type": "markdown",
   "metadata": {},
   "source": [
    "Data alignment\n",
    "=============="
   ]
  },
  {
   "cell_type": "code",
   "execution_count": 115,
   "metadata": {
    "collapsed": true
   },
   "outputs": [],
   "source": [
    "close_px = read_csv('stock_data.csv', index_col=0, parse_dates=True)"
   ]
  },
  {
   "cell_type": "code",
   "execution_count": 172,
   "metadata": {
    "collapsed": false
   },
   "outputs": [
    {
     "name": "stderr",
     "output_type": "stream",
     "text": [
      "'head' is not recognized as an internal or external command,\n",
      "operable program or batch file.\n"
     ]
    }
   ],
   "source": [
    "!head -n 10 stock_data.csv"
   ]
  },
  {
   "cell_type": "code",
   "execution_count": 117,
   "metadata": {
    "collapsed": false
   },
   "outputs": [
    {
     "name": "stderr",
     "output_type": "stream",
     "text": [
      "'head' is not recognized as an internal or external command,\n",
      "operable program or batch file.\n"
     ]
    }
   ],
   "source": [
    "!head  stock_data.csv"
   ]
  },
  {
   "cell_type": "code",
   "execution_count": 118,
   "metadata": {
    "collapsed": false,
    "scrolled": true
   },
   "outputs": [
    {
     "data": {
      "text/html": [
       "<div>\n",
       "<table border=\"1\" class=\"dataframe\">\n",
       "  <thead>\n",
       "    <tr style=\"text-align: right;\">\n",
       "      <th></th>\n",
       "      <th>AA</th>\n",
       "      <th>AAPL</th>\n",
       "      <th>GE</th>\n",
       "      <th>IBM</th>\n",
       "      <th>JNJ</th>\n",
       "      <th>MSFT</th>\n",
       "      <th>PEP</th>\n",
       "      <th>SPX</th>\n",
       "      <th>XOM</th>\n",
       "    </tr>\n",
       "  </thead>\n",
       "  <tbody>\n",
       "    <tr>\n",
       "      <th>2007-10-29</th>\n",
       "      <td>37.41</td>\n",
       "      <td>185.09</td>\n",
       "      <td>34.46</td>\n",
       "      <td>106.78</td>\n",
       "      <td>57.13</td>\n",
       "      <td>31.78</td>\n",
       "      <td>65.67</td>\n",
       "      <td>1540.98</td>\n",
       "      <td>85.51</td>\n",
       "    </tr>\n",
       "    <tr>\n",
       "      <th>2007-10-30</th>\n",
       "      <td>36.43</td>\n",
       "      <td>187.00</td>\n",
       "      <td>34.39</td>\n",
       "      <td>106.15</td>\n",
       "      <td>56.99</td>\n",
       "      <td>32.70</td>\n",
       "      <td>65.80</td>\n",
       "      <td>1531.02</td>\n",
       "      <td>83.25</td>\n",
       "    </tr>\n",
       "    <tr>\n",
       "      <th>2007-10-31</th>\n",
       "      <td>36.79</td>\n",
       "      <td>189.95</td>\n",
       "      <td>34.97</td>\n",
       "      <td>108.01</td>\n",
       "      <td>57.30</td>\n",
       "      <td>33.84</td>\n",
       "      <td>65.69</td>\n",
       "      <td>1549.38</td>\n",
       "      <td>84.03</td>\n",
       "    </tr>\n",
       "    <tr>\n",
       "      <th>2007-11-01</th>\n",
       "      <td>35.22</td>\n",
       "      <td>187.44</td>\n",
       "      <td>34.27</td>\n",
       "      <td>105.72</td>\n",
       "      <td>56.85</td>\n",
       "      <td>34.07</td>\n",
       "      <td>64.51</td>\n",
       "      <td>1508.44</td>\n",
       "      <td>80.84</td>\n",
       "    </tr>\n",
       "    <tr>\n",
       "      <th>2007-11-02</th>\n",
       "      <td>35.83</td>\n",
       "      <td>187.87</td>\n",
       "      <td>34.27</td>\n",
       "      <td>106.59</td>\n",
       "      <td>56.95</td>\n",
       "      <td>34.07</td>\n",
       "      <td>65.03</td>\n",
       "      <td>1509.65</td>\n",
       "      <td>80.32</td>\n",
       "    </tr>\n",
       "    <tr>\n",
       "      <th>2007-11-05</th>\n",
       "      <td>35.22</td>\n",
       "      <td>186.18</td>\n",
       "      <td>34.15</td>\n",
       "      <td>105.48</td>\n",
       "      <td>56.70</td>\n",
       "      <td>33.77</td>\n",
       "      <td>64.84</td>\n",
       "      <td>1502.17</td>\n",
       "      <td>80.07</td>\n",
       "    </tr>\n",
       "    <tr>\n",
       "      <th>2007-11-06</th>\n",
       "      <td>35.84</td>\n",
       "      <td>191.79</td>\n",
       "      <td>34.14</td>\n",
       "      <td>105.27</td>\n",
       "      <td>56.80</td>\n",
       "      <td>33.47</td>\n",
       "      <td>65.49</td>\n",
       "      <td>1520.27</td>\n",
       "      <td>82.56</td>\n",
       "    </tr>\n",
       "    <tr>\n",
       "      <th>2007-11-07</th>\n",
       "      <td>34.76</td>\n",
       "      <td>186.30</td>\n",
       "      <td>33.20</td>\n",
       "      <td>103.69</td>\n",
       "      <td>56.19</td>\n",
       "      <td>32.65</td>\n",
       "      <td>64.46</td>\n",
       "      <td>1475.62</td>\n",
       "      <td>79.96</td>\n",
       "    </tr>\n",
       "    <tr>\n",
       "      <th>2007-11-08</th>\n",
       "      <td>35.00</td>\n",
       "      <td>175.47</td>\n",
       "      <td>33.15</td>\n",
       "      <td>99.05</td>\n",
       "      <td>56.79</td>\n",
       "      <td>31.94</td>\n",
       "      <td>65.50</td>\n",
       "      <td>1474.77</td>\n",
       "      <td>82.00</td>\n",
       "    </tr>\n",
       "    <tr>\n",
       "      <th>2007-11-09</th>\n",
       "      <td>34.47</td>\n",
       "      <td>165.37</td>\n",
       "      <td>32.61</td>\n",
       "      <td>93.58</td>\n",
       "      <td>57.29</td>\n",
       "      <td>31.01</td>\n",
       "      <td>65.48</td>\n",
       "      <td>1453.70</td>\n",
       "      <td>79.64</td>\n",
       "    </tr>\n",
       "    <tr>\n",
       "      <th>2007-11-12</th>\n",
       "      <td>33.33</td>\n",
       "      <td>153.76</td>\n",
       "      <td>32.50</td>\n",
       "      <td>94.70</td>\n",
       "      <td>58.30</td>\n",
       "      <td>30.69</td>\n",
       "      <td>64.67</td>\n",
       "      <td>1439.18</td>\n",
       "      <td>77.52</td>\n",
       "    </tr>\n",
       "    <tr>\n",
       "      <th>2007-11-13</th>\n",
       "      <td>34.04</td>\n",
       "      <td>169.96</td>\n",
       "      <td>33.31</td>\n",
       "      <td>98.27</td>\n",
       "      <td>59.18</td>\n",
       "      <td>31.79</td>\n",
       "      <td>65.35</td>\n",
       "      <td>1481.05</td>\n",
       "      <td>79.67</td>\n",
       "    </tr>\n",
       "    <tr>\n",
       "      <th>2007-11-14</th>\n",
       "      <td>34.25</td>\n",
       "      <td>166.11</td>\n",
       "      <td>33.14</td>\n",
       "      <td>96.56</td>\n",
       "      <td>58.81</td>\n",
       "      <td>31.30</td>\n",
       "      <td>65.99</td>\n",
       "      <td>1470.58</td>\n",
       "      <td>79.15</td>\n",
       "    </tr>\n",
       "    <tr>\n",
       "      <th>2007-11-15</th>\n",
       "      <td>33.76</td>\n",
       "      <td>164.30</td>\n",
       "      <td>32.55</td>\n",
       "      <td>96.71</td>\n",
       "      <td>58.80</td>\n",
       "      <td>31.14</td>\n",
       "      <td>65.57</td>\n",
       "      <td>1451.15</td>\n",
       "      <td>77.48</td>\n",
       "    </tr>\n",
       "    <tr>\n",
       "      <th>2007-11-16</th>\n",
       "      <td>33.74</td>\n",
       "      <td>166.39</td>\n",
       "      <td>32.84</td>\n",
       "      <td>97.82</td>\n",
       "      <td>59.56</td>\n",
       "      <td>31.44</td>\n",
       "      <td>66.08</td>\n",
       "      <td>1458.74</td>\n",
       "      <td>78.04</td>\n",
       "    </tr>\n",
       "    <tr>\n",
       "      <th>2007-11-19</th>\n",
       "      <td>32.59</td>\n",
       "      <td>163.95</td>\n",
       "      <td>32.42</td>\n",
       "      <td>95.42</td>\n",
       "      <td>59.42</td>\n",
       "      <td>31.32</td>\n",
       "      <td>66.90</td>\n",
       "      <td>1433.27</td>\n",
       "      <td>77.13</td>\n",
       "    </tr>\n",
       "    <tr>\n",
       "      <th>2007-11-20</th>\n",
       "      <td>32.88</td>\n",
       "      <td>168.85</td>\n",
       "      <td>32.32</td>\n",
       "      <td>96.54</td>\n",
       "      <td>59.47</td>\n",
       "      <td>31.90</td>\n",
       "      <td>66.69</td>\n",
       "      <td>1439.70</td>\n",
       "      <td>80.53</td>\n",
       "    </tr>\n",
       "    <tr>\n",
       "      <th>2007-11-21</th>\n",
       "      <td>32.68</td>\n",
       "      <td>168.46</td>\n",
       "      <td>31.58</td>\n",
       "      <td>95.42</td>\n",
       "      <td>59.03</td>\n",
       "      <td>31.57</td>\n",
       "      <td>66.87</td>\n",
       "      <td>1416.77</td>\n",
       "      <td>79.82</td>\n",
       "    </tr>\n",
       "    <tr>\n",
       "      <th>2007-11-23</th>\n",
       "      <td>32.66</td>\n",
       "      <td>171.54</td>\n",
       "      <td>32.01</td>\n",
       "      <td>97.13</td>\n",
       "      <td>59.16</td>\n",
       "      <td>31.46</td>\n",
       "      <td>67.29</td>\n",
       "      <td>1440.70</td>\n",
       "      <td>80.96</td>\n",
       "    </tr>\n",
       "    <tr>\n",
       "      <th>2007-11-26</th>\n",
       "      <td>32.41</td>\n",
       "      <td>172.54</td>\n",
       "      <td>31.21</td>\n",
       "      <td>95.19</td>\n",
       "      <td>59.60</td>\n",
       "      <td>30.41</td>\n",
       "      <td>66.56</td>\n",
       "      <td>1407.22</td>\n",
       "      <td>78.57</td>\n",
       "    </tr>\n",
       "    <tr>\n",
       "      <th>2007-11-27</th>\n",
       "      <td>32.56</td>\n",
       "      <td>174.81</td>\n",
       "      <td>31.82</td>\n",
       "      <td>96.92</td>\n",
       "      <td>59.92</td>\n",
       "      <td>30.49</td>\n",
       "      <td>67.65</td>\n",
       "      <td>1428.23</td>\n",
       "      <td>79.21</td>\n",
       "    </tr>\n",
       "    <tr>\n",
       "      <th>2007-11-28</th>\n",
       "      <td>33.65</td>\n",
       "      <td>180.22</td>\n",
       "      <td>32.68</td>\n",
       "      <td>100.23</td>\n",
       "      <td>60.46</td>\n",
       "      <td>31.08</td>\n",
       "      <td>68.76</td>\n",
       "      <td>1469.02</td>\n",
       "      <td>80.62</td>\n",
       "    </tr>\n",
       "    <tr>\n",
       "      <th>2007-11-29</th>\n",
       "      <td>33.97</td>\n",
       "      <td>184.29</td>\n",
       "      <td>32.40</td>\n",
       "      <td>100.35</td>\n",
       "      <td>60.51</td>\n",
       "      <td>30.98</td>\n",
       "      <td>68.20</td>\n",
       "      <td>1469.72</td>\n",
       "      <td>81.24</td>\n",
       "    </tr>\n",
       "    <tr>\n",
       "      <th>2007-11-30</th>\n",
       "      <td>33.80</td>\n",
       "      <td>182.22</td>\n",
       "      <td>32.53</td>\n",
       "      <td>98.18</td>\n",
       "      <td>59.93</td>\n",
       "      <td>30.99</td>\n",
       "      <td>68.78</td>\n",
       "      <td>1481.14</td>\n",
       "      <td>81.76</td>\n",
       "    </tr>\n",
       "    <tr>\n",
       "      <th>2007-12-03</th>\n",
       "      <td>32.98</td>\n",
       "      <td>178.86</td>\n",
       "      <td>31.38</td>\n",
       "      <td>98.79</td>\n",
       "      <td>59.90</td>\n",
       "      <td>30.36</td>\n",
       "      <td>68.24</td>\n",
       "      <td>1472.42</td>\n",
       "      <td>81.48</td>\n",
       "    </tr>\n",
       "    <tr>\n",
       "      <th>2007-12-04</th>\n",
       "      <td>32.76</td>\n",
       "      <td>179.81</td>\n",
       "      <td>30.80</td>\n",
       "      <td>99.54</td>\n",
       "      <td>60.10</td>\n",
       "      <td>30.23</td>\n",
       "      <td>68.30</td>\n",
       "      <td>1462.79</td>\n",
       "      <td>80.81</td>\n",
       "    </tr>\n",
       "    <tr>\n",
       "      <th>2007-12-05</th>\n",
       "      <td>33.09</td>\n",
       "      <td>185.50</td>\n",
       "      <td>31.19</td>\n",
       "      <td>100.97</td>\n",
       "      <td>60.34</td>\n",
       "      <td>31.50</td>\n",
       "      <td>68.30</td>\n",
       "      <td>1485.01</td>\n",
       "      <td>82.46</td>\n",
       "    </tr>\n",
       "    <tr>\n",
       "      <th>2007-12-06</th>\n",
       "      <td>33.32</td>\n",
       "      <td>189.95</td>\n",
       "      <td>31.66</td>\n",
       "      <td>102.40</td>\n",
       "      <td>60.42</td>\n",
       "      <td>31.87</td>\n",
       "      <td>68.98</td>\n",
       "      <td>1507.34</td>\n",
       "      <td>83.85</td>\n",
       "    </tr>\n",
       "    <tr>\n",
       "      <th>2007-12-07</th>\n",
       "      <td>34.30</td>\n",
       "      <td>194.30</td>\n",
       "      <td>31.63</td>\n",
       "      <td>101.62</td>\n",
       "      <td>59.87</td>\n",
       "      <td>31.85</td>\n",
       "      <td>68.95</td>\n",
       "      <td>1504.66</td>\n",
       "      <td>83.91</td>\n",
       "    </tr>\n",
       "    <tr>\n",
       "      <th>2007-12-10</th>\n",
       "      <td>35.17</td>\n",
       "      <td>194.21</td>\n",
       "      <td>31.78</td>\n",
       "      <td>102.11</td>\n",
       "      <td>59.97</td>\n",
       "      <td>32.06</td>\n",
       "      <td>69.20</td>\n",
       "      <td>1515.96</td>\n",
       "      <td>84.39</td>\n",
       "    </tr>\n",
       "    <tr>\n",
       "      <th>...</th>\n",
       "      <td>...</td>\n",
       "      <td>...</td>\n",
       "      <td>...</td>\n",
       "      <td>...</td>\n",
       "      <td>...</td>\n",
       "      <td>...</td>\n",
       "      <td>...</td>\n",
       "      <td>...</td>\n",
       "      <td>...</td>\n",
       "    </tr>\n",
       "    <tr>\n",
       "      <th>2011-09-02</th>\n",
       "      <td>12.04</td>\n",
       "      <td>374.05</td>\n",
       "      <td>15.61</td>\n",
       "      <td>166.98</td>\n",
       "      <td>64.07</td>\n",
       "      <td>25.80</td>\n",
       "      <td>63.30</td>\n",
       "      <td>1173.97</td>\n",
       "      <td>72.14</td>\n",
       "    </tr>\n",
       "    <tr>\n",
       "      <th>2011-09-06</th>\n",
       "      <td>11.77</td>\n",
       "      <td>379.74</td>\n",
       "      <td>15.11</td>\n",
       "      <td>165.11</td>\n",
       "      <td>64.64</td>\n",
       "      <td>25.51</td>\n",
       "      <td>62.45</td>\n",
       "      <td>1165.24</td>\n",
       "      <td>71.15</td>\n",
       "    </tr>\n",
       "    <tr>\n",
       "      <th>2011-09-07</th>\n",
       "      <td>12.25</td>\n",
       "      <td>383.93</td>\n",
       "      <td>15.65</td>\n",
       "      <td>167.31</td>\n",
       "      <td>65.43</td>\n",
       "      <td>26.00</td>\n",
       "      <td>61.62</td>\n",
       "      <td>1198.62</td>\n",
       "      <td>73.65</td>\n",
       "    </tr>\n",
       "    <tr>\n",
       "      <th>2011-09-08</th>\n",
       "      <td>12.03</td>\n",
       "      <td>384.14</td>\n",
       "      <td>15.44</td>\n",
       "      <td>165.25</td>\n",
       "      <td>64.95</td>\n",
       "      <td>26.22</td>\n",
       "      <td>61.34</td>\n",
       "      <td>1185.90</td>\n",
       "      <td>72.82</td>\n",
       "    </tr>\n",
       "    <tr>\n",
       "      <th>2011-09-09</th>\n",
       "      <td>11.58</td>\n",
       "      <td>377.48</td>\n",
       "      <td>14.95</td>\n",
       "      <td>161.37</td>\n",
       "      <td>63.64</td>\n",
       "      <td>25.74</td>\n",
       "      <td>59.99</td>\n",
       "      <td>1154.23</td>\n",
       "      <td>71.01</td>\n",
       "    </tr>\n",
       "    <tr>\n",
       "      <th>2011-09-12</th>\n",
       "      <td>11.55</td>\n",
       "      <td>379.94</td>\n",
       "      <td>14.87</td>\n",
       "      <td>162.42</td>\n",
       "      <td>63.59</td>\n",
       "      <td>25.89</td>\n",
       "      <td>60.14</td>\n",
       "      <td>1162.27</td>\n",
       "      <td>71.84</td>\n",
       "    </tr>\n",
       "    <tr>\n",
       "      <th>2011-09-13</th>\n",
       "      <td>11.63</td>\n",
       "      <td>384.62</td>\n",
       "      <td>15.26</td>\n",
       "      <td>163.43</td>\n",
       "      <td>63.61</td>\n",
       "      <td>26.04</td>\n",
       "      <td>60.54</td>\n",
       "      <td>1172.87</td>\n",
       "      <td>71.65</td>\n",
       "    </tr>\n",
       "    <tr>\n",
       "      <th>2011-09-14</th>\n",
       "      <td>11.73</td>\n",
       "      <td>389.30</td>\n",
       "      <td>15.64</td>\n",
       "      <td>167.24</td>\n",
       "      <td>63.73</td>\n",
       "      <td>26.50</td>\n",
       "      <td>61.58</td>\n",
       "      <td>1188.68</td>\n",
       "      <td>72.64</td>\n",
       "    </tr>\n",
       "    <tr>\n",
       "      <th>2011-09-15</th>\n",
       "      <td>11.98</td>\n",
       "      <td>392.96</td>\n",
       "      <td>16.08</td>\n",
       "      <td>170.09</td>\n",
       "      <td>64.40</td>\n",
       "      <td>26.99</td>\n",
       "      <td>63.22</td>\n",
       "      <td>1209.11</td>\n",
       "      <td>74.01</td>\n",
       "    </tr>\n",
       "    <tr>\n",
       "      <th>2011-09-16</th>\n",
       "      <td>11.97</td>\n",
       "      <td>400.50</td>\n",
       "      <td>16.33</td>\n",
       "      <td>172.99</td>\n",
       "      <td>64.59</td>\n",
       "      <td>27.12</td>\n",
       "      <td>62.05</td>\n",
       "      <td>1216.01</td>\n",
       "      <td>74.55</td>\n",
       "    </tr>\n",
       "    <tr>\n",
       "      <th>2011-09-19</th>\n",
       "      <td>11.58</td>\n",
       "      <td>411.63</td>\n",
       "      <td>16.18</td>\n",
       "      <td>173.13</td>\n",
       "      <td>64.14</td>\n",
       "      <td>27.21</td>\n",
       "      <td>60.56</td>\n",
       "      <td>1204.09</td>\n",
       "      <td>73.70</td>\n",
       "    </tr>\n",
       "    <tr>\n",
       "      <th>2011-09-20</th>\n",
       "      <td>11.25</td>\n",
       "      <td>413.45</td>\n",
       "      <td>16.04</td>\n",
       "      <td>174.72</td>\n",
       "      <td>64.22</td>\n",
       "      <td>26.98</td>\n",
       "      <td>60.39</td>\n",
       "      <td>1202.09</td>\n",
       "      <td>74.01</td>\n",
       "    </tr>\n",
       "    <tr>\n",
       "      <th>2011-09-21</th>\n",
       "      <td>10.84</td>\n",
       "      <td>412.14</td>\n",
       "      <td>15.38</td>\n",
       "      <td>173.02</td>\n",
       "      <td>63.13</td>\n",
       "      <td>25.99</td>\n",
       "      <td>60.79</td>\n",
       "      <td>1166.76</td>\n",
       "      <td>71.97</td>\n",
       "    </tr>\n",
       "    <tr>\n",
       "      <th>2011-09-22</th>\n",
       "      <td>10.11</td>\n",
       "      <td>401.82</td>\n",
       "      <td>15.04</td>\n",
       "      <td>168.62</td>\n",
       "      <td>61.92</td>\n",
       "      <td>25.06</td>\n",
       "      <td>60.92</td>\n",
       "      <td>1129.56</td>\n",
       "      <td>69.24</td>\n",
       "    </tr>\n",
       "    <tr>\n",
       "      <th>2011-09-23</th>\n",
       "      <td>10.07</td>\n",
       "      <td>404.30</td>\n",
       "      <td>15.21</td>\n",
       "      <td>169.34</td>\n",
       "      <td>61.59</td>\n",
       "      <td>25.06</td>\n",
       "      <td>60.34</td>\n",
       "      <td>1136.43</td>\n",
       "      <td>69.31</td>\n",
       "    </tr>\n",
       "    <tr>\n",
       "      <th>2011-09-26</th>\n",
       "      <td>10.45</td>\n",
       "      <td>403.17</td>\n",
       "      <td>15.57</td>\n",
       "      <td>174.51</td>\n",
       "      <td>62.69</td>\n",
       "      <td>25.44</td>\n",
       "      <td>61.89</td>\n",
       "      <td>1162.95</td>\n",
       "      <td>71.72</td>\n",
       "    </tr>\n",
       "    <tr>\n",
       "      <th>2011-09-27</th>\n",
       "      <td>10.48</td>\n",
       "      <td>399.26</td>\n",
       "      <td>15.76</td>\n",
       "      <td>177.71</td>\n",
       "      <td>63.82</td>\n",
       "      <td>25.67</td>\n",
       "      <td>62.43</td>\n",
       "      <td>1175.38</td>\n",
       "      <td>72.91</td>\n",
       "    </tr>\n",
       "    <tr>\n",
       "      <th>2011-09-28</th>\n",
       "      <td>9.97</td>\n",
       "      <td>397.01</td>\n",
       "      <td>15.45</td>\n",
       "      <td>177.55</td>\n",
       "      <td>63.25</td>\n",
       "      <td>25.58</td>\n",
       "      <td>61.97</td>\n",
       "      <td>1151.06</td>\n",
       "      <td>72.07</td>\n",
       "    </tr>\n",
       "    <tr>\n",
       "      <th>2011-09-29</th>\n",
       "      <td>10.06</td>\n",
       "      <td>390.57</td>\n",
       "      <td>15.86</td>\n",
       "      <td>179.17</td>\n",
       "      <td>63.90</td>\n",
       "      <td>25.45</td>\n",
       "      <td>62.58</td>\n",
       "      <td>1160.40</td>\n",
       "      <td>73.88</td>\n",
       "    </tr>\n",
       "    <tr>\n",
       "      <th>2011-09-30</th>\n",
       "      <td>9.57</td>\n",
       "      <td>381.32</td>\n",
       "      <td>15.22</td>\n",
       "      <td>174.87</td>\n",
       "      <td>63.69</td>\n",
       "      <td>24.89</td>\n",
       "      <td>61.90</td>\n",
       "      <td>1131.42</td>\n",
       "      <td>72.63</td>\n",
       "    </tr>\n",
       "    <tr>\n",
       "      <th>2011-10-03</th>\n",
       "      <td>8.90</td>\n",
       "      <td>374.60</td>\n",
       "      <td>14.69</td>\n",
       "      <td>173.29</td>\n",
       "      <td>62.08</td>\n",
       "      <td>24.53</td>\n",
       "      <td>60.29</td>\n",
       "      <td>1099.23</td>\n",
       "      <td>71.15</td>\n",
       "    </tr>\n",
       "    <tr>\n",
       "      <th>2011-10-04</th>\n",
       "      <td>9.12</td>\n",
       "      <td>372.50</td>\n",
       "      <td>14.86</td>\n",
       "      <td>174.74</td>\n",
       "      <td>62.17</td>\n",
       "      <td>25.34</td>\n",
       "      <td>60.45</td>\n",
       "      <td>1123.95</td>\n",
       "      <td>72.83</td>\n",
       "    </tr>\n",
       "    <tr>\n",
       "      <th>2011-10-05</th>\n",
       "      <td>9.37</td>\n",
       "      <td>378.25</td>\n",
       "      <td>15.27</td>\n",
       "      <td>176.85</td>\n",
       "      <td>62.35</td>\n",
       "      <td>25.89</td>\n",
       "      <td>60.29</td>\n",
       "      <td>1144.03</td>\n",
       "      <td>73.95</td>\n",
       "    </tr>\n",
       "    <tr>\n",
       "      <th>2011-10-06</th>\n",
       "      <td>9.88</td>\n",
       "      <td>377.37</td>\n",
       "      <td>15.53</td>\n",
       "      <td>181.69</td>\n",
       "      <td>62.81</td>\n",
       "      <td>26.34</td>\n",
       "      <td>60.57</td>\n",
       "      <td>1164.97</td>\n",
       "      <td>73.89</td>\n",
       "    </tr>\n",
       "    <tr>\n",
       "      <th>2011-10-07</th>\n",
       "      <td>9.71</td>\n",
       "      <td>369.80</td>\n",
       "      <td>15.50</td>\n",
       "      <td>182.39</td>\n",
       "      <td>63.13</td>\n",
       "      <td>26.25</td>\n",
       "      <td>61.02</td>\n",
       "      <td>1155.46</td>\n",
       "      <td>73.56</td>\n",
       "    </tr>\n",
       "    <tr>\n",
       "      <th>2011-10-10</th>\n",
       "      <td>10.09</td>\n",
       "      <td>388.81</td>\n",
       "      <td>16.14</td>\n",
       "      <td>186.62</td>\n",
       "      <td>64.43</td>\n",
       "      <td>26.94</td>\n",
       "      <td>61.87</td>\n",
       "      <td>1194.89</td>\n",
       "      <td>76.28</td>\n",
       "    </tr>\n",
       "    <tr>\n",
       "      <th>2011-10-11</th>\n",
       "      <td>10.30</td>\n",
       "      <td>400.29</td>\n",
       "      <td>16.14</td>\n",
       "      <td>185.00</td>\n",
       "      <td>63.96</td>\n",
       "      <td>27.00</td>\n",
       "      <td>60.95</td>\n",
       "      <td>1195.54</td>\n",
       "      <td>76.27</td>\n",
       "    </tr>\n",
       "    <tr>\n",
       "      <th>2011-10-12</th>\n",
       "      <td>10.05</td>\n",
       "      <td>402.19</td>\n",
       "      <td>16.40</td>\n",
       "      <td>186.12</td>\n",
       "      <td>64.33</td>\n",
       "      <td>26.96</td>\n",
       "      <td>62.70</td>\n",
       "      <td>1207.25</td>\n",
       "      <td>77.16</td>\n",
       "    </tr>\n",
       "    <tr>\n",
       "      <th>2011-10-13</th>\n",
       "      <td>10.10</td>\n",
       "      <td>408.43</td>\n",
       "      <td>16.22</td>\n",
       "      <td>186.82</td>\n",
       "      <td>64.23</td>\n",
       "      <td>27.18</td>\n",
       "      <td>62.36</td>\n",
       "      <td>1203.66</td>\n",
       "      <td>76.37</td>\n",
       "    </tr>\n",
       "    <tr>\n",
       "      <th>2011-10-14</th>\n",
       "      <td>10.26</td>\n",
       "      <td>422.00</td>\n",
       "      <td>16.60</td>\n",
       "      <td>190.53</td>\n",
       "      <td>64.72</td>\n",
       "      <td>27.27</td>\n",
       "      <td>62.24</td>\n",
       "      <td>1224.58</td>\n",
       "      <td>78.11</td>\n",
       "    </tr>\n",
       "  </tbody>\n",
       "</table>\n",
       "<p>1000 rows × 9 columns</p>\n",
       "</div>"
      ],
      "text/plain": [
       "               AA    AAPL     GE     IBM    JNJ   MSFT    PEP      SPX    XOM\n",
       "2007-10-29  37.41  185.09  34.46  106.78  57.13  31.78  65.67  1540.98  85.51\n",
       "2007-10-30  36.43  187.00  34.39  106.15  56.99  32.70  65.80  1531.02  83.25\n",
       "2007-10-31  36.79  189.95  34.97  108.01  57.30  33.84  65.69  1549.38  84.03\n",
       "2007-11-01  35.22  187.44  34.27  105.72  56.85  34.07  64.51  1508.44  80.84\n",
       "2007-11-02  35.83  187.87  34.27  106.59  56.95  34.07  65.03  1509.65  80.32\n",
       "2007-11-05  35.22  186.18  34.15  105.48  56.70  33.77  64.84  1502.17  80.07\n",
       "2007-11-06  35.84  191.79  34.14  105.27  56.80  33.47  65.49  1520.27  82.56\n",
       "2007-11-07  34.76  186.30  33.20  103.69  56.19  32.65  64.46  1475.62  79.96\n",
       "2007-11-08  35.00  175.47  33.15   99.05  56.79  31.94  65.50  1474.77  82.00\n",
       "2007-11-09  34.47  165.37  32.61   93.58  57.29  31.01  65.48  1453.70  79.64\n",
       "2007-11-12  33.33  153.76  32.50   94.70  58.30  30.69  64.67  1439.18  77.52\n",
       "2007-11-13  34.04  169.96  33.31   98.27  59.18  31.79  65.35  1481.05  79.67\n",
       "2007-11-14  34.25  166.11  33.14   96.56  58.81  31.30  65.99  1470.58  79.15\n",
       "2007-11-15  33.76  164.30  32.55   96.71  58.80  31.14  65.57  1451.15  77.48\n",
       "2007-11-16  33.74  166.39  32.84   97.82  59.56  31.44  66.08  1458.74  78.04\n",
       "2007-11-19  32.59  163.95  32.42   95.42  59.42  31.32  66.90  1433.27  77.13\n",
       "2007-11-20  32.88  168.85  32.32   96.54  59.47  31.90  66.69  1439.70  80.53\n",
       "2007-11-21  32.68  168.46  31.58   95.42  59.03  31.57  66.87  1416.77  79.82\n",
       "2007-11-23  32.66  171.54  32.01   97.13  59.16  31.46  67.29  1440.70  80.96\n",
       "2007-11-26  32.41  172.54  31.21   95.19  59.60  30.41  66.56  1407.22  78.57\n",
       "2007-11-27  32.56  174.81  31.82   96.92  59.92  30.49  67.65  1428.23  79.21\n",
       "2007-11-28  33.65  180.22  32.68  100.23  60.46  31.08  68.76  1469.02  80.62\n",
       "2007-11-29  33.97  184.29  32.40  100.35  60.51  30.98  68.20  1469.72  81.24\n",
       "2007-11-30  33.80  182.22  32.53   98.18  59.93  30.99  68.78  1481.14  81.76\n",
       "2007-12-03  32.98  178.86  31.38   98.79  59.90  30.36  68.24  1472.42  81.48\n",
       "2007-12-04  32.76  179.81  30.80   99.54  60.10  30.23  68.30  1462.79  80.81\n",
       "2007-12-05  33.09  185.50  31.19  100.97  60.34  31.50  68.30  1485.01  82.46\n",
       "2007-12-06  33.32  189.95  31.66  102.40  60.42  31.87  68.98  1507.34  83.85\n",
       "2007-12-07  34.30  194.30  31.63  101.62  59.87  31.85  68.95  1504.66  83.91\n",
       "2007-12-10  35.17  194.21  31.78  102.11  59.97  32.06  69.20  1515.96  84.39\n",
       "...           ...     ...    ...     ...    ...    ...    ...      ...    ...\n",
       "2011-09-02  12.04  374.05  15.61  166.98  64.07  25.80  63.30  1173.97  72.14\n",
       "2011-09-06  11.77  379.74  15.11  165.11  64.64  25.51  62.45  1165.24  71.15\n",
       "2011-09-07  12.25  383.93  15.65  167.31  65.43  26.00  61.62  1198.62  73.65\n",
       "2011-09-08  12.03  384.14  15.44  165.25  64.95  26.22  61.34  1185.90  72.82\n",
       "2011-09-09  11.58  377.48  14.95  161.37  63.64  25.74  59.99  1154.23  71.01\n",
       "2011-09-12  11.55  379.94  14.87  162.42  63.59  25.89  60.14  1162.27  71.84\n",
       "2011-09-13  11.63  384.62  15.26  163.43  63.61  26.04  60.54  1172.87  71.65\n",
       "2011-09-14  11.73  389.30  15.64  167.24  63.73  26.50  61.58  1188.68  72.64\n",
       "2011-09-15  11.98  392.96  16.08  170.09  64.40  26.99  63.22  1209.11  74.01\n",
       "2011-09-16  11.97  400.50  16.33  172.99  64.59  27.12  62.05  1216.01  74.55\n",
       "2011-09-19  11.58  411.63  16.18  173.13  64.14  27.21  60.56  1204.09  73.70\n",
       "2011-09-20  11.25  413.45  16.04  174.72  64.22  26.98  60.39  1202.09  74.01\n",
       "2011-09-21  10.84  412.14  15.38  173.02  63.13  25.99  60.79  1166.76  71.97\n",
       "2011-09-22  10.11  401.82  15.04  168.62  61.92  25.06  60.92  1129.56  69.24\n",
       "2011-09-23  10.07  404.30  15.21  169.34  61.59  25.06  60.34  1136.43  69.31\n",
       "2011-09-26  10.45  403.17  15.57  174.51  62.69  25.44  61.89  1162.95  71.72\n",
       "2011-09-27  10.48  399.26  15.76  177.71  63.82  25.67  62.43  1175.38  72.91\n",
       "2011-09-28   9.97  397.01  15.45  177.55  63.25  25.58  61.97  1151.06  72.07\n",
       "2011-09-29  10.06  390.57  15.86  179.17  63.90  25.45  62.58  1160.40  73.88\n",
       "2011-09-30   9.57  381.32  15.22  174.87  63.69  24.89  61.90  1131.42  72.63\n",
       "2011-10-03   8.90  374.60  14.69  173.29  62.08  24.53  60.29  1099.23  71.15\n",
       "2011-10-04   9.12  372.50  14.86  174.74  62.17  25.34  60.45  1123.95  72.83\n",
       "2011-10-05   9.37  378.25  15.27  176.85  62.35  25.89  60.29  1144.03  73.95\n",
       "2011-10-06   9.88  377.37  15.53  181.69  62.81  26.34  60.57  1164.97  73.89\n",
       "2011-10-07   9.71  369.80  15.50  182.39  63.13  26.25  61.02  1155.46  73.56\n",
       "2011-10-10  10.09  388.81  16.14  186.62  64.43  26.94  61.87  1194.89  76.28\n",
       "2011-10-11  10.30  400.29  16.14  185.00  63.96  27.00  60.95  1195.54  76.27\n",
       "2011-10-12  10.05  402.19  16.40  186.12  64.33  26.96  62.70  1207.25  77.16\n",
       "2011-10-13  10.10  408.43  16.22  186.82  64.23  27.18  62.36  1203.66  76.37\n",
       "2011-10-14  10.26  422.00  16.60  190.53  64.72  27.27  62.24  1224.58  78.11\n",
       "\n",
       "[1000 rows x 9 columns]"
      ]
     },
     "execution_count": 118,
     "metadata": {},
     "output_type": "execute_result"
    }
   ],
   "source": [
    "close_px"
   ]
  },
  {
   "cell_type": "code",
   "execution_count": 119,
   "metadata": {
    "collapsed": false
   },
   "outputs": [
    {
     "name": "stdout",
     "output_type": "stream",
     "text": [
      "2011-09-19    411.63          2011-09-12    379.94      \n",
      "2011-09-20    413.45          2011-09-13    384.62      \n",
      "2011-09-21    412.14          2011-09-14    389.30      \n",
      "2011-09-22    401.82          2011-09-15    392.96      \n",
      "2011-09-23    404.30          2011-09-16    400.50      \n",
      "2011-09-26    403.17          2011-09-19    411.63      \n",
      "2011-09-27    399.26          2011-09-20    413.45      \n",
      "2011-09-28    397.01          2011-09-21    412.14      \n",
      "2011-09-29    390.57          2011-09-22    401.82      \n",
      "2011-09-30    381.32          2011-09-23    404.30      \n",
      "2011-10-03    374.60          2011-09-26    403.17      \n",
      "2011-10-04    372.50          2011-09-27    399.26      \n",
      "2011-10-05    378.25          2011-09-28    397.01      \n",
      "2011-10-06    377.37          2011-09-29    390.57      \n",
      "2011-10-07    369.80          2011-09-30    381.32      \n",
      "2011-10-10    388.81          Name: AAPL, dtype: float64\n",
      "2011-10-11    400.29                                    \n",
      "2011-10-12    402.19                                    \n",
      "2011-10-13    408.43                                    \n",
      "2011-10-14    422.00                                    \n",
      "Name: AAPL, dtype: float64                              \n"
     ]
    }
   ],
   "source": [
    "s1 = close_px['AAPL'][-20:]      # the last 20 rows\n",
    "s2 = close_px['AAPL'][-25:-10]   # the last 25 - last 10 = 15 rows.\n",
    "side_by_side(s1, s2)"
   ]
  },
  {
   "cell_type": "code",
   "execution_count": 120,
   "metadata": {
    "collapsed": false
   },
   "outputs": [
    {
     "data": {
      "text/plain": [
       "2011-09-12       NaN\n",
       "2011-09-13       NaN\n",
       "2011-09-14       NaN\n",
       "2011-09-15       NaN\n",
       "2011-09-16       NaN\n",
       "2011-09-19    823.26\n",
       "2011-09-20    826.90\n",
       "2011-09-21    824.28\n",
       "2011-09-22    803.64\n",
       "2011-09-23    808.60\n",
       "2011-09-26    806.34\n",
       "2011-09-27    798.52\n",
       "2011-09-28    794.02\n",
       "2011-09-29    781.14\n",
       "2011-09-30    762.64\n",
       "2011-10-03       NaN\n",
       "2011-10-04       NaN\n",
       "2011-10-05       NaN\n",
       "2011-10-06       NaN\n",
       "2011-10-07       NaN\n",
       "2011-10-10       NaN\n",
       "2011-10-11       NaN\n",
       "2011-10-12       NaN\n",
       "2011-10-13       NaN\n",
       "2011-10-14       NaN\n",
       "Name: AAPL, dtype: float64"
      ]
     },
     "execution_count": 120,
     "metadata": {},
     "output_type": "execute_result"
    }
   ],
   "source": [
    "s1 + s2"
   ]
  },
  {
   "cell_type": "code",
   "execution_count": 121,
   "metadata": {
    "collapsed": false
   },
   "outputs": [
    {
     "data": {
      "text/plain": [
       "2011-09-12    379.94\n",
       "2011-09-13    384.62\n",
       "2011-09-14    389.30\n",
       "2011-09-15    392.96\n",
       "2011-09-16    400.50\n",
       "2011-09-19    823.26\n",
       "2011-09-20    826.90\n",
       "2011-09-21    824.28\n",
       "2011-09-22    803.64\n",
       "2011-09-23    808.60\n",
       "2011-09-26    806.34\n",
       "2011-09-27    798.52\n",
       "2011-09-28    794.02\n",
       "2011-09-29    781.14\n",
       "2011-09-30    762.64\n",
       "2011-10-03    374.60\n",
       "2011-10-04    372.50\n",
       "2011-10-05    378.25\n",
       "2011-10-06    377.37\n",
       "2011-10-07    369.80\n",
       "2011-10-10    388.81\n",
       "2011-10-11    400.29\n",
       "2011-10-12    402.19\n",
       "2011-10-13    408.43\n",
       "2011-10-14    422.00\n",
       "Name: AAPL, dtype: float64"
      ]
     },
     "execution_count": 121,
     "metadata": {},
     "output_type": "execute_result"
    }
   ],
   "source": [
    "s1.add(s2, fill_value=0)"
   ]
  },
  {
   "cell_type": "code",
   "execution_count": 122,
   "metadata": {
    "collapsed": false
   },
   "outputs": [
    {
     "data": {
      "text/plain": [
       "2011-09-19    823.26\n",
       "2011-09-20    826.90\n",
       "2011-09-21    824.28\n",
       "2011-09-22    803.64\n",
       "2011-09-23    808.60\n",
       "2011-09-26    806.34\n",
       "2011-09-27    798.52\n",
       "2011-09-28    794.02\n",
       "2011-09-29    781.14\n",
       "2011-09-30    762.64\n",
       "Name: AAPL, dtype: float64"
      ]
     },
     "execution_count": 122,
     "metadata": {},
     "output_type": "execute_result"
    }
   ],
   "source": [
    "(s1 + s2).dropna()"
   ]
  },
  {
   "cell_type": "code",
   "execution_count": 123,
   "metadata": {
    "collapsed": false
   },
   "outputs": [
    {
     "data": {
      "text/html": [
       "<div>\n",
       "<table border=\"1\" class=\"dataframe\">\n",
       "  <thead>\n",
       "    <tr style=\"text-align: right;\">\n",
       "      <th></th>\n",
       "      <th>AA</th>\n",
       "      <th>AAPL</th>\n",
       "      <th>GE</th>\n",
       "    </tr>\n",
       "  </thead>\n",
       "  <tbody>\n",
       "    <tr>\n",
       "      <th>2011-10-03</th>\n",
       "      <td>8.90</td>\n",
       "      <td>374.60</td>\n",
       "      <td>14.69</td>\n",
       "    </tr>\n",
       "    <tr>\n",
       "      <th>2011-10-04</th>\n",
       "      <td>9.12</td>\n",
       "      <td>372.50</td>\n",
       "      <td>14.86</td>\n",
       "    </tr>\n",
       "    <tr>\n",
       "      <th>2011-10-05</th>\n",
       "      <td>9.37</td>\n",
       "      <td>378.25</td>\n",
       "      <td>15.27</td>\n",
       "    </tr>\n",
       "    <tr>\n",
       "      <th>2011-10-06</th>\n",
       "      <td>9.88</td>\n",
       "      <td>377.37</td>\n",
       "      <td>15.53</td>\n",
       "    </tr>\n",
       "    <tr>\n",
       "      <th>2011-10-07</th>\n",
       "      <td>9.71</td>\n",
       "      <td>369.80</td>\n",
       "      <td>15.50</td>\n",
       "    </tr>\n",
       "    <tr>\n",
       "      <th>2011-10-10</th>\n",
       "      <td>10.09</td>\n",
       "      <td>388.81</td>\n",
       "      <td>16.14</td>\n",
       "    </tr>\n",
       "    <tr>\n",
       "      <th>2011-10-11</th>\n",
       "      <td>10.30</td>\n",
       "      <td>400.29</td>\n",
       "      <td>16.14</td>\n",
       "    </tr>\n",
       "    <tr>\n",
       "      <th>2011-10-12</th>\n",
       "      <td>10.05</td>\n",
       "      <td>402.19</td>\n",
       "      <td>16.40</td>\n",
       "    </tr>\n",
       "    <tr>\n",
       "      <th>2011-10-13</th>\n",
       "      <td>10.10</td>\n",
       "      <td>408.43</td>\n",
       "      <td>16.22</td>\n",
       "    </tr>\n",
       "    <tr>\n",
       "      <th>2011-10-14</th>\n",
       "      <td>10.26</td>\n",
       "      <td>422.00</td>\n",
       "      <td>16.60</td>\n",
       "    </tr>\n",
       "  </tbody>\n",
       "</table>\n",
       "</div>"
      ],
      "text/plain": [
       "               AA    AAPL     GE\n",
       "2011-10-03   8.90  374.60  14.69\n",
       "2011-10-04   9.12  372.50  14.86\n",
       "2011-10-05   9.37  378.25  15.27\n",
       "2011-10-06   9.88  377.37  15.53\n",
       "2011-10-07   9.71  369.80  15.50\n",
       "2011-10-10  10.09  388.81  16.14\n",
       "2011-10-11  10.30  400.29  16.14\n",
       "2011-10-12  10.05  402.19  16.40\n",
       "2011-10-13  10.10  408.43  16.22\n",
       "2011-10-14  10.26  422.00  16.60"
      ]
     },
     "execution_count": 123,
     "metadata": {},
     "output_type": "execute_result"
    }
   ],
   "source": [
    "df = close_px.ix[-10:, :3]\n",
    "df"
   ]
  },
  {
   "cell_type": "code",
   "execution_count": 124,
   "metadata": {
    "collapsed": false
   },
   "outputs": [
    {
     "name": "stdout",
     "output_type": "stream",
     "text": [
      "2011-09-12       NaN          2011-09-12    379.94      \n",
      "2011-09-13       NaN          2011-09-13    384.62      \n",
      "2011-09-14       NaN          2011-09-14    389.30      \n",
      "2011-09-15       NaN          2011-09-15    392.96      \n",
      "2011-09-16       NaN          2011-09-16    400.50      \n",
      "2011-09-19    411.63          2011-09-19    411.63      \n",
      "2011-09-20    413.45          2011-09-20    413.45      \n",
      "2011-09-21    412.14          2011-09-21    412.14      \n",
      "2011-09-22    401.82          2011-09-22    401.82      \n",
      "2011-09-23    404.30          2011-09-23    404.30      \n",
      "2011-09-26    403.17          2011-09-26    403.17      \n",
      "2011-09-27    399.26          2011-09-27    399.26      \n",
      "2011-09-28    397.01          2011-09-28    397.01      \n",
      "2011-09-29    390.57          2011-09-29    390.57      \n",
      "2011-09-30    381.32          2011-09-30    381.32      \n",
      "Name: AAPL, dtype: float64    Name: AAPL, dtype: float64\n"
     ]
    }
   ],
   "source": [
    "side_by_side(s1.reindex(s2.index), s2)   # align indexes of s1 and s2. Print 2 objects alongside each other."
   ]
  },
  {
   "cell_type": "code",
   "execution_count": 125,
   "metadata": {
    "collapsed": false
   },
   "outputs": [
    {
     "name": "stdout",
     "output_type": "stream",
     "text": [
      "2011-09-12       NaN          2011-09-12    379.94      \n",
      "2011-09-13       NaN          2011-09-13    384.62      \n",
      "2011-09-14       NaN          2011-09-14    389.30      \n",
      "2011-09-15       NaN          2011-09-15    392.96      \n",
      "2011-09-16       NaN          2011-09-16    400.50      \n",
      "2011-09-19    411.63          2011-09-19    411.63      \n",
      "2011-09-20    413.45          2011-09-20    413.45      \n",
      "2011-09-21    412.14          2011-09-21    412.14      \n",
      "2011-09-22    401.82          2011-09-22    401.82      \n",
      "2011-09-23    404.30          2011-09-23    404.30      \n",
      "2011-09-26    403.17          2011-09-26    403.17      \n",
      "2011-09-27    399.26          2011-09-27    399.26      \n",
      "2011-09-28    397.01          2011-09-28    397.01      \n",
      "2011-09-29    390.57          2011-09-29    390.57      \n",
      "2011-09-30    381.32          2011-09-30    381.32      \n",
      "Name: AAPL, dtype: float64    Name: AAPL, dtype: float64\n"
     ]
    }
   ],
   "source": [
    "side_by_side(s1.ix[s2.index], s2)   # same as above, supported in newer version of 0.12 ipython."
   ]
  },
  {
   "cell_type": "code",
   "execution_count": 126,
   "metadata": {
    "collapsed": false
   },
   "outputs": [
    {
     "name": "stdout",
     "output_type": "stream",
     "text": [
      "2011-09-19    411.63          2011-09-19    411.63      \n",
      "2011-09-20    413.45          2011-09-20    413.45      \n",
      "2011-09-21    412.14          2011-09-21    412.14      \n",
      "2011-09-22    401.82          2011-09-22    401.82      \n",
      "2011-09-23    404.30          2011-09-23    404.30      \n",
      "2011-09-26    403.17          2011-09-26    403.17      \n",
      "2011-09-27    399.26          2011-09-27    399.26      \n",
      "2011-09-28    397.01          2011-09-28    397.01      \n",
      "2011-09-29    390.57          2011-09-29    390.57      \n",
      "2011-09-30    381.32          2011-09-30    381.32      \n",
      "Name: AAPL, dtype: float64    Name: AAPL, dtype: float64\n"
     ]
    }
   ],
   "source": [
    "b, c  = s1.align(s2, join='inner')\n",
    "side_by_side(b, c)"
   ]
  },
  {
   "cell_type": "code",
   "execution_count": 127,
   "metadata": {
    "collapsed": false
   },
   "outputs": [
    {
     "name": "stdout",
     "output_type": "stream",
     "text": [
      "2011-09-12       NaN          2011-09-12    379.94      \n",
      "2011-09-13       NaN          2011-09-13    384.62      \n",
      "2011-09-14       NaN          2011-09-14    389.30      \n",
      "2011-09-15       NaN          2011-09-15    392.96      \n",
      "2011-09-16       NaN          2011-09-16    400.50      \n",
      "2011-09-19    411.63          2011-09-19    411.63      \n",
      "2011-09-20    413.45          2011-09-20    413.45      \n",
      "2011-09-21    412.14          2011-09-21    412.14      \n",
      "2011-09-22    401.82          2011-09-22    401.82      \n",
      "2011-09-23    404.30          2011-09-23    404.30      \n",
      "2011-09-26    403.17          2011-09-26    403.17      \n",
      "2011-09-27    399.26          2011-09-27    399.26      \n",
      "2011-09-28    397.01          2011-09-28    397.01      \n",
      "2011-09-29    390.57          2011-09-29    390.57      \n",
      "2011-09-30    381.32          2011-09-30    381.32      \n",
      "2011-10-03    374.60          2011-10-03       NaN      \n",
      "2011-10-04    372.50          2011-10-04       NaN      \n",
      "2011-10-05    378.25          2011-10-05       NaN      \n",
      "2011-10-06    377.37          2011-10-06       NaN      \n",
      "2011-10-07    369.80          2011-10-07       NaN      \n",
      "2011-10-10    388.81          2011-10-10       NaN      \n",
      "2011-10-11    400.29          2011-10-11       NaN      \n",
      "2011-10-12    402.19          2011-10-12       NaN      \n",
      "2011-10-13    408.43          2011-10-13       NaN      \n",
      "2011-10-14    422.00          2011-10-14       NaN      \n",
      "Name: AAPL, dtype: float64    Name: AAPL, dtype: float64\n"
     ]
    }
   ],
   "source": [
    "b, c  = s1.align(s2, join='outer')\n",
    "side_by_side(b, c)"
   ]
  },
  {
   "cell_type": "markdown",
   "metadata": {
    "collapsed": false
   },
   "source": [
    "b, c  = s1.align(s2, join='right')\n",
    "side_by_side(b, c)"
   ]
  },
  {
   "cell_type": "code",
   "execution_count": 128,
   "metadata": {
    "collapsed": false
   },
   "outputs": [
    {
     "data": {
      "text/html": [
       "<div>\n",
       "<table border=\"1\" class=\"dataframe\">\n",
       "  <thead>\n",
       "    <tr style=\"text-align: right;\">\n",
       "      <th></th>\n",
       "      <th>AAPL</th>\n",
       "      <th>IBM</th>\n",
       "      <th>MSFT</th>\n",
       "    </tr>\n",
       "  </thead>\n",
       "  <tbody>\n",
       "    <tr>\n",
       "      <th>2011-10-03</th>\n",
       "      <td>374.60</td>\n",
       "      <td>173.29</td>\n",
       "      <td>24.53</td>\n",
       "    </tr>\n",
       "    <tr>\n",
       "      <th>2011-10-04</th>\n",
       "      <td>372.50</td>\n",
       "      <td>174.74</td>\n",
       "      <td>25.34</td>\n",
       "    </tr>\n",
       "    <tr>\n",
       "      <th>2011-10-05</th>\n",
       "      <td>378.25</td>\n",
       "      <td>176.85</td>\n",
       "      <td>25.89</td>\n",
       "    </tr>\n",
       "    <tr>\n",
       "      <th>2011-10-06</th>\n",
       "      <td>377.37</td>\n",
       "      <td>181.69</td>\n",
       "      <td>26.34</td>\n",
       "    </tr>\n",
       "    <tr>\n",
       "      <th>2011-10-07</th>\n",
       "      <td>369.80</td>\n",
       "      <td>182.39</td>\n",
       "      <td>26.25</td>\n",
       "    </tr>\n",
       "    <tr>\n",
       "      <th>2011-10-10</th>\n",
       "      <td>388.81</td>\n",
       "      <td>186.62</td>\n",
       "      <td>26.94</td>\n",
       "    </tr>\n",
       "    <tr>\n",
       "      <th>2011-10-11</th>\n",
       "      <td>400.29</td>\n",
       "      <td>185.00</td>\n",
       "      <td>27.00</td>\n",
       "    </tr>\n",
       "    <tr>\n",
       "      <th>2011-10-12</th>\n",
       "      <td>402.19</td>\n",
       "      <td>186.12</td>\n",
       "      <td>26.96</td>\n",
       "    </tr>\n",
       "    <tr>\n",
       "      <th>2011-10-13</th>\n",
       "      <td>408.43</td>\n",
       "      <td>186.82</td>\n",
       "      <td>27.18</td>\n",
       "    </tr>\n",
       "    <tr>\n",
       "      <th>2011-10-14</th>\n",
       "      <td>422.00</td>\n",
       "      <td>190.53</td>\n",
       "      <td>27.27</td>\n",
       "    </tr>\n",
       "  </tbody>\n",
       "</table>\n",
       "</div>"
      ],
      "text/plain": [
       "              AAPL     IBM   MSFT\n",
       "2011-10-03  374.60  173.29  24.53\n",
       "2011-10-04  372.50  174.74  25.34\n",
       "2011-10-05  378.25  176.85  25.89\n",
       "2011-10-06  377.37  181.69  26.34\n",
       "2011-10-07  369.80  182.39  26.25\n",
       "2011-10-10  388.81  186.62  26.94\n",
       "2011-10-11  400.29  185.00  27.00\n",
       "2011-10-12  402.19  186.12  26.96\n",
       "2011-10-13  408.43  186.82  27.18\n",
       "2011-10-14  422.00  190.53  27.27"
      ]
     },
     "execution_count": 128,
     "metadata": {},
     "output_type": "execute_result"
    }
   ],
   "source": [
    "df = close_px.ix[-10:, ['AAPL', 'IBM', 'MSFT']]\n",
    "df"
   ]
  },
  {
   "cell_type": "code",
   "execution_count": 129,
   "metadata": {
    "collapsed": false
   },
   "outputs": [
    {
     "name": "stdout",
     "output_type": "stream",
     "text": [
      "              AAPL     IBM   MSFT                   IBM   MSFT\n",
      "2011-10-03  374.60  173.29  24.53    2011-10-03  173.29  24.53\n",
      "2011-10-04  372.50  174.74  25.34    2011-10-05  176.85  25.89\n",
      "2011-10-05  378.25  176.85  25.89    2011-10-07  182.39  26.25\n",
      "2011-10-06  377.37  181.69  26.34    2011-10-11  185.00  27.00\n",
      "2011-10-07  369.80  182.39  26.25    2011-10-13  186.82  27.18\n",
      "2011-10-10  388.81  186.62  26.94                             \n",
      "2011-10-11  400.29  185.00  27.00                             \n",
      "2011-10-12  402.19  186.12  26.96                             \n",
      "2011-10-13  408.43  186.82  27.18                             \n",
      "2011-10-14  422.00  190.53  27.27                             \n"
     ]
    }
   ],
   "source": [
    "df2 = df.ix[::2, ['IBM', 'MSFT']]\n",
    "side_by_side(df, df2)"
   ]
  },
  {
   "cell_type": "code",
   "execution_count": 130,
   "metadata": {
    "collapsed": false
   },
   "outputs": [
    {
     "data": {
      "text/html": [
       "<div>\n",
       "<table border=\"1\" class=\"dataframe\">\n",
       "  <thead>\n",
       "    <tr style=\"text-align: right;\">\n",
       "      <th></th>\n",
       "      <th>AAPL</th>\n",
       "      <th>IBM</th>\n",
       "      <th>MSFT</th>\n",
       "    </tr>\n",
       "  </thead>\n",
       "  <tbody>\n",
       "    <tr>\n",
       "      <th>2011-10-03</th>\n",
       "      <td>NaN</td>\n",
       "      <td>346.58</td>\n",
       "      <td>49.06</td>\n",
       "    </tr>\n",
       "    <tr>\n",
       "      <th>2011-10-04</th>\n",
       "      <td>NaN</td>\n",
       "      <td>NaN</td>\n",
       "      <td>NaN</td>\n",
       "    </tr>\n",
       "    <tr>\n",
       "      <th>2011-10-05</th>\n",
       "      <td>NaN</td>\n",
       "      <td>353.70</td>\n",
       "      <td>51.78</td>\n",
       "    </tr>\n",
       "    <tr>\n",
       "      <th>2011-10-06</th>\n",
       "      <td>NaN</td>\n",
       "      <td>NaN</td>\n",
       "      <td>NaN</td>\n",
       "    </tr>\n",
       "    <tr>\n",
       "      <th>2011-10-07</th>\n",
       "      <td>NaN</td>\n",
       "      <td>364.78</td>\n",
       "      <td>52.50</td>\n",
       "    </tr>\n",
       "    <tr>\n",
       "      <th>2011-10-10</th>\n",
       "      <td>NaN</td>\n",
       "      <td>NaN</td>\n",
       "      <td>NaN</td>\n",
       "    </tr>\n",
       "    <tr>\n",
       "      <th>2011-10-11</th>\n",
       "      <td>NaN</td>\n",
       "      <td>370.00</td>\n",
       "      <td>54.00</td>\n",
       "    </tr>\n",
       "    <tr>\n",
       "      <th>2011-10-12</th>\n",
       "      <td>NaN</td>\n",
       "      <td>NaN</td>\n",
       "      <td>NaN</td>\n",
       "    </tr>\n",
       "    <tr>\n",
       "      <th>2011-10-13</th>\n",
       "      <td>NaN</td>\n",
       "      <td>373.64</td>\n",
       "      <td>54.36</td>\n",
       "    </tr>\n",
       "    <tr>\n",
       "      <th>2011-10-14</th>\n",
       "      <td>NaN</td>\n",
       "      <td>NaN</td>\n",
       "      <td>NaN</td>\n",
       "    </tr>\n",
       "  </tbody>\n",
       "</table>\n",
       "</div>"
      ],
      "text/plain": [
       "            AAPL     IBM   MSFT\n",
       "2011-10-03   NaN  346.58  49.06\n",
       "2011-10-04   NaN     NaN    NaN\n",
       "2011-10-05   NaN  353.70  51.78\n",
       "2011-10-06   NaN     NaN    NaN\n",
       "2011-10-07   NaN  364.78  52.50\n",
       "2011-10-10   NaN     NaN    NaN\n",
       "2011-10-11   NaN  370.00  54.00\n",
       "2011-10-12   NaN     NaN    NaN\n",
       "2011-10-13   NaN  373.64  54.36\n",
       "2011-10-14   NaN     NaN    NaN"
      ]
     },
     "execution_count": 130,
     "metadata": {},
     "output_type": "execute_result"
    }
   ],
   "source": [
    "df + df2"
   ]
  },
  {
   "cell_type": "code",
   "execution_count": 131,
   "metadata": {
    "collapsed": false
   },
   "outputs": [
    {
     "name": "stdout",
     "output_type": "stream",
     "text": [
      "               IBM   MSFT                   IBM   MSFT\n",
      "2011-10-03  173.29  24.53    2011-10-03  173.29  24.53\n",
      "2011-10-05  176.85  25.89    2011-10-05  176.85  25.89\n",
      "2011-10-07  182.39  26.25    2011-10-07  182.39  26.25\n",
      "2011-10-11  185.00  27.00    2011-10-11  185.00  27.00\n",
      "2011-10-13  186.82  27.18    2011-10-13  186.82  27.18\n"
     ]
    }
   ],
   "source": [
    "b, c = df.align(df2, join='inner')\n",
    "side_by_side(b, c) "
   ]
  },
  {
   "cell_type": "markdown",
   "metadata": {},
   "source": [
    "Transposing: no copy if all columns are same type\n",
    "-------------------------------------------------"
   ]
  },
  {
   "cell_type": "code",
   "execution_count": 132,
   "metadata": {
    "collapsed": false
   },
   "outputs": [
    {
     "data": {
      "text/html": [
       "<div>\n",
       "<table border=\"1\" class=\"dataframe\">\n",
       "  <thead>\n",
       "    <tr style=\"text-align: right;\">\n",
       "      <th></th>\n",
       "      <th>2011-10-03 00:00:00</th>\n",
       "      <th>2011-10-04 00:00:00</th>\n",
       "      <th>2011-10-05 00:00:00</th>\n",
       "      <th>2011-10-06 00:00:00</th>\n",
       "      <th>2011-10-07 00:00:00</th>\n",
       "    </tr>\n",
       "  </thead>\n",
       "  <tbody>\n",
       "    <tr>\n",
       "      <th>AAPL</th>\n",
       "      <td>374.60</td>\n",
       "      <td>372.50</td>\n",
       "      <td>378.25</td>\n",
       "      <td>377.37</td>\n",
       "      <td>369.80</td>\n",
       "    </tr>\n",
       "    <tr>\n",
       "      <th>IBM</th>\n",
       "      <td>173.29</td>\n",
       "      <td>174.74</td>\n",
       "      <td>176.85</td>\n",
       "      <td>181.69</td>\n",
       "      <td>182.39</td>\n",
       "    </tr>\n",
       "    <tr>\n",
       "      <th>MSFT</th>\n",
       "      <td>24.53</td>\n",
       "      <td>25.34</td>\n",
       "      <td>25.89</td>\n",
       "      <td>26.34</td>\n",
       "      <td>26.25</td>\n",
       "    </tr>\n",
       "  </tbody>\n",
       "</table>\n",
       "</div>"
      ],
      "text/plain": [
       "      2011-10-03  2011-10-04  2011-10-05  2011-10-06  2011-10-07\n",
       "AAPL      374.60      372.50      378.25      377.37      369.80\n",
       "IBM       173.29      174.74      176.85      181.69      182.39\n",
       "MSFT       24.53       25.34       25.89       26.34       26.25"
      ]
     },
     "execution_count": 132,
     "metadata": {},
     "output_type": "execute_result"
    }
   ],
   "source": [
    "df[:5].T"
   ]
  },
  {
   "cell_type": "markdown",
   "metadata": {},
   "source": [
    "Columns can be any type\n",
    "-----------------------"
   ]
  },
  {
   "cell_type": "code",
   "execution_count": 133,
   "metadata": {
    "collapsed": false
   },
   "outputs": [
    {
     "data": {
      "text/html": [
       "<div>\n",
       "<table border=\"1\" class=\"dataframe\">\n",
       "  <thead>\n",
       "    <tr style=\"text-align: right;\">\n",
       "      <th></th>\n",
       "      <th>floats</th>\n",
       "      <th>ints</th>\n",
       "      <th>strings</th>\n",
       "      <th>bools</th>\n",
       "      <th>objects</th>\n",
       "    </tr>\n",
       "  </thead>\n",
       "  <tbody>\n",
       "    <tr>\n",
       "      <th>0</th>\n",
       "      <td>2.529748</td>\n",
       "      <td>0</td>\n",
       "      <td>foo</td>\n",
       "      <td>True</td>\n",
       "      <td>2000-01-01</td>\n",
       "    </tr>\n",
       "    <tr>\n",
       "      <th>1</th>\n",
       "      <td>-0.975089</td>\n",
       "      <td>1</td>\n",
       "      <td>bar</td>\n",
       "      <td>False</td>\n",
       "      <td>2000-01-02</td>\n",
       "    </tr>\n",
       "    <tr>\n",
       "      <th>2</th>\n",
       "      <td>-1.093029</td>\n",
       "      <td>2</td>\n",
       "      <td>foo</td>\n",
       "      <td>False</td>\n",
       "      <td>2000-01-03</td>\n",
       "    </tr>\n",
       "    <tr>\n",
       "      <th>3</th>\n",
       "      <td>-1.043257</td>\n",
       "      <td>3</td>\n",
       "      <td>bar</td>\n",
       "      <td>False</td>\n",
       "      <td>2000-01-04</td>\n",
       "    </tr>\n",
       "    <tr>\n",
       "      <th>4</th>\n",
       "      <td>1.203834</td>\n",
       "      <td>4</td>\n",
       "      <td>foo</td>\n",
       "      <td>True</td>\n",
       "      <td>2000-01-05</td>\n",
       "    </tr>\n",
       "    <tr>\n",
       "      <th>5</th>\n",
       "      <td>-0.974700</td>\n",
       "      <td>5</td>\n",
       "      <td>bar</td>\n",
       "      <td>False</td>\n",
       "      <td>2000-01-06</td>\n",
       "    </tr>\n",
       "    <tr>\n",
       "      <th>6</th>\n",
       "      <td>0.427725</td>\n",
       "      <td>6</td>\n",
       "      <td>foo</td>\n",
       "      <td>True</td>\n",
       "      <td>2000-01-07</td>\n",
       "    </tr>\n",
       "    <tr>\n",
       "      <th>7</th>\n",
       "      <td>0.995705</td>\n",
       "      <td>7</td>\n",
       "      <td>bar</td>\n",
       "      <td>True</td>\n",
       "      <td>2000-01-08</td>\n",
       "    </tr>\n",
       "    <tr>\n",
       "      <th>8</th>\n",
       "      <td>-0.550763</td>\n",
       "      <td>8</td>\n",
       "      <td>foo</td>\n",
       "      <td>False</td>\n",
       "      <td>2000-01-09</td>\n",
       "    </tr>\n",
       "    <tr>\n",
       "      <th>9</th>\n",
       "      <td>-1.495519</td>\n",
       "      <td>9</td>\n",
       "      <td>bar</td>\n",
       "      <td>False</td>\n",
       "      <td>2000-01-10</td>\n",
       "    </tr>\n",
       "  </tbody>\n",
       "</table>\n",
       "</div>"
      ],
      "text/plain": [
       "     floats  ints strings  bools    objects\n",
       "0  2.529748     0     foo   True 2000-01-01\n",
       "1 -0.975089     1     bar  False 2000-01-02\n",
       "2 -1.093029     2     foo  False 2000-01-03\n",
       "3 -1.043257     3     bar  False 2000-01-04\n",
       "4  1.203834     4     foo   True 2000-01-05\n",
       "5 -0.974700     5     bar  False 2000-01-06\n",
       "6  0.427725     6     foo   True 2000-01-07\n",
       "7  0.995705     7     bar   True 2000-01-08\n",
       "8 -0.550763     8     foo  False 2000-01-09\n",
       "9 -1.495519     9     bar  False 2000-01-10"
      ]
     },
     "execution_count": 133,
     "metadata": {},
     "output_type": "execute_result"
    }
   ],
   "source": [
    "n = 10\n",
    "foo = DataFrame(index=range(n))\n",
    "foo['floats'] = np.random.randn(n)\n",
    "foo['ints'] = np.arange(n)\n",
    "foo['strings'] = ['foo', 'bar'] * (n / 2)\n",
    "foo['bools'] = foo['floats'] > 0\n",
    "foo['objects'] = pandas.date_range('1/1/2000', periods=n)\n",
    "foo"
   ]
  },
  {
   "cell_type": "code",
   "execution_count": 134,
   "metadata": {
    "collapsed": false
   },
   "outputs": [
    {
     "data": {
      "text/plain": [
       "floats            float64\n",
       "ints                int32\n",
       "strings            object\n",
       "bools                bool\n",
       "objects    datetime64[ns]\n",
       "dtype: object"
      ]
     },
     "execution_count": 134,
     "metadata": {},
     "output_type": "execute_result"
    }
   ],
   "source": [
    "foo.dtypes"
   ]
  },
  {
   "cell_type": "markdown",
   "metadata": {},
   "source": [
    "N.B. transposing is not roundtrippable in this case (column-oriented data structure)"
   ]
  },
  {
   "cell_type": "code",
   "execution_count": 135,
   "metadata": {
    "collapsed": false
   },
   "outputs": [
    {
     "data": {
      "text/html": [
       "<div>\n",
       "<table border=\"1\" class=\"dataframe\">\n",
       "  <thead>\n",
       "    <tr style=\"text-align: right;\">\n",
       "      <th></th>\n",
       "      <th>floats</th>\n",
       "      <th>ints</th>\n",
       "      <th>strings</th>\n",
       "      <th>bools</th>\n",
       "      <th>objects</th>\n",
       "    </tr>\n",
       "  </thead>\n",
       "  <tbody>\n",
       "    <tr>\n",
       "      <th>0</th>\n",
       "      <td>2.52975</td>\n",
       "      <td>0</td>\n",
       "      <td>foo</td>\n",
       "      <td>True</td>\n",
       "      <td>2000-01-01 00:00:00</td>\n",
       "    </tr>\n",
       "    <tr>\n",
       "      <th>1</th>\n",
       "      <td>-0.975089</td>\n",
       "      <td>1</td>\n",
       "      <td>bar</td>\n",
       "      <td>False</td>\n",
       "      <td>2000-01-02 00:00:00</td>\n",
       "    </tr>\n",
       "    <tr>\n",
       "      <th>2</th>\n",
       "      <td>-1.09303</td>\n",
       "      <td>2</td>\n",
       "      <td>foo</td>\n",
       "      <td>False</td>\n",
       "      <td>2000-01-03 00:00:00</td>\n",
       "    </tr>\n",
       "    <tr>\n",
       "      <th>3</th>\n",
       "      <td>-1.04326</td>\n",
       "      <td>3</td>\n",
       "      <td>bar</td>\n",
       "      <td>False</td>\n",
       "      <td>2000-01-04 00:00:00</td>\n",
       "    </tr>\n",
       "    <tr>\n",
       "      <th>4</th>\n",
       "      <td>1.20383</td>\n",
       "      <td>4</td>\n",
       "      <td>foo</td>\n",
       "      <td>True</td>\n",
       "      <td>2000-01-05 00:00:00</td>\n",
       "    </tr>\n",
       "    <tr>\n",
       "      <th>5</th>\n",
       "      <td>-0.9747</td>\n",
       "      <td>5</td>\n",
       "      <td>bar</td>\n",
       "      <td>False</td>\n",
       "      <td>2000-01-06 00:00:00</td>\n",
       "    </tr>\n",
       "    <tr>\n",
       "      <th>6</th>\n",
       "      <td>0.427725</td>\n",
       "      <td>6</td>\n",
       "      <td>foo</td>\n",
       "      <td>True</td>\n",
       "      <td>2000-01-07 00:00:00</td>\n",
       "    </tr>\n",
       "    <tr>\n",
       "      <th>7</th>\n",
       "      <td>0.995705</td>\n",
       "      <td>7</td>\n",
       "      <td>bar</td>\n",
       "      <td>True</td>\n",
       "      <td>2000-01-08 00:00:00</td>\n",
       "    </tr>\n",
       "    <tr>\n",
       "      <th>8</th>\n",
       "      <td>-0.550763</td>\n",
       "      <td>8</td>\n",
       "      <td>foo</td>\n",
       "      <td>False</td>\n",
       "      <td>2000-01-09 00:00:00</td>\n",
       "    </tr>\n",
       "    <tr>\n",
       "      <th>9</th>\n",
       "      <td>-1.49552</td>\n",
       "      <td>9</td>\n",
       "      <td>bar</td>\n",
       "      <td>False</td>\n",
       "      <td>2000-01-10 00:00:00</td>\n",
       "    </tr>\n",
       "  </tbody>\n",
       "</table>\n",
       "</div>"
      ],
      "text/plain": [
       "     floats ints strings  bools              objects\n",
       "0   2.52975    0     foo   True  2000-01-01 00:00:00\n",
       "1 -0.975089    1     bar  False  2000-01-02 00:00:00\n",
       "2  -1.09303    2     foo  False  2000-01-03 00:00:00\n",
       "3  -1.04326    3     bar  False  2000-01-04 00:00:00\n",
       "4   1.20383    4     foo   True  2000-01-05 00:00:00\n",
       "5   -0.9747    5     bar  False  2000-01-06 00:00:00\n",
       "6  0.427725    6     foo   True  2000-01-07 00:00:00\n",
       "7  0.995705    7     bar   True  2000-01-08 00:00:00\n",
       "8 -0.550763    8     foo  False  2000-01-09 00:00:00\n",
       "9  -1.49552    9     bar  False  2000-01-10 00:00:00"
      ]
     },
     "execution_count": 135,
     "metadata": {},
     "output_type": "execute_result"
    }
   ],
   "source": [
    "foo.T.T"
   ]
  },
  {
   "cell_type": "code",
   "execution_count": 136,
   "metadata": {
    "collapsed": false
   },
   "outputs": [
    {
     "data": {
      "text/plain": [
       "floats     object\n",
       "ints       object\n",
       "strings    object\n",
       "bools      object\n",
       "objects    object\n",
       "dtype: object"
      ]
     },
     "execution_count": 136,
     "metadata": {},
     "output_type": "execute_result"
    }
   ],
   "source": [
    "foo.T.T.dtypes"
   ]
  },
  {
   "cell_type": "markdown",
   "metadata": {},
   "source": [
    "Function application\n",
    "====================\n",
    "\n",
    "You can apply arbitrary functions to the rows or columns of a DataFrame"
   ]
  },
  {
   "cell_type": "code",
   "execution_count": 137,
   "metadata": {
    "collapsed": false
   },
   "outputs": [
    {
     "data": {
      "text/html": [
       "<div>\n",
       "<table border=\"1\" class=\"dataframe\">\n",
       "  <thead>\n",
       "    <tr style=\"text-align: right;\">\n",
       "      <th></th>\n",
       "      <th>AAPL</th>\n",
       "      <th>IBM</th>\n",
       "      <th>MSFT</th>\n",
       "    </tr>\n",
       "  </thead>\n",
       "  <tbody>\n",
       "    <tr>\n",
       "      <th>2011-10-03</th>\n",
       "      <td>374.60</td>\n",
       "      <td>173.29</td>\n",
       "      <td>24.53</td>\n",
       "    </tr>\n",
       "    <tr>\n",
       "      <th>2011-10-04</th>\n",
       "      <td>372.50</td>\n",
       "      <td>174.74</td>\n",
       "      <td>25.34</td>\n",
       "    </tr>\n",
       "    <tr>\n",
       "      <th>2011-10-05</th>\n",
       "      <td>378.25</td>\n",
       "      <td>176.85</td>\n",
       "      <td>25.89</td>\n",
       "    </tr>\n",
       "    <tr>\n",
       "      <th>2011-10-06</th>\n",
       "      <td>377.37</td>\n",
       "      <td>181.69</td>\n",
       "      <td>26.34</td>\n",
       "    </tr>\n",
       "    <tr>\n",
       "      <th>2011-10-07</th>\n",
       "      <td>369.80</td>\n",
       "      <td>182.39</td>\n",
       "      <td>26.25</td>\n",
       "    </tr>\n",
       "    <tr>\n",
       "      <th>2011-10-10</th>\n",
       "      <td>388.81</td>\n",
       "      <td>186.62</td>\n",
       "      <td>26.94</td>\n",
       "    </tr>\n",
       "    <tr>\n",
       "      <th>2011-10-11</th>\n",
       "      <td>400.29</td>\n",
       "      <td>185.00</td>\n",
       "      <td>27.00</td>\n",
       "    </tr>\n",
       "    <tr>\n",
       "      <th>2011-10-12</th>\n",
       "      <td>402.19</td>\n",
       "      <td>186.12</td>\n",
       "      <td>26.96</td>\n",
       "    </tr>\n",
       "    <tr>\n",
       "      <th>2011-10-13</th>\n",
       "      <td>408.43</td>\n",
       "      <td>186.82</td>\n",
       "      <td>27.18</td>\n",
       "    </tr>\n",
       "    <tr>\n",
       "      <th>2011-10-14</th>\n",
       "      <td>422.00</td>\n",
       "      <td>190.53</td>\n",
       "      <td>27.27</td>\n",
       "    </tr>\n",
       "  </tbody>\n",
       "</table>\n",
       "</div>"
      ],
      "text/plain": [
       "              AAPL     IBM   MSFT\n",
       "2011-10-03  374.60  173.29  24.53\n",
       "2011-10-04  372.50  174.74  25.34\n",
       "2011-10-05  378.25  176.85  25.89\n",
       "2011-10-06  377.37  181.69  26.34\n",
       "2011-10-07  369.80  182.39  26.25\n",
       "2011-10-10  388.81  186.62  26.94\n",
       "2011-10-11  400.29  185.00  27.00\n",
       "2011-10-12  402.19  186.12  26.96\n",
       "2011-10-13  408.43  186.82  27.18\n",
       "2011-10-14  422.00  190.53  27.27"
      ]
     },
     "execution_count": 137,
     "metadata": {},
     "output_type": "execute_result"
    }
   ],
   "source": [
    "df"
   ]
  },
  {
   "cell_type": "code",
   "execution_count": 138,
   "metadata": {
    "collapsed": false
   },
   "outputs": [
    {
     "data": {
      "text/plain": [
       "AAPL    389.424\n",
       "IBM     182.405\n",
       "MSFT     26.370\n",
       "dtype: float64"
      ]
     },
     "execution_count": 138,
     "metadata": {},
     "output_type": "execute_result"
    }
   ],
   "source": [
    "df.apply(np.mean)"
   ]
  },
  {
   "cell_type": "code",
   "execution_count": 139,
   "metadata": {
    "collapsed": false
   },
   "outputs": [
    {
     "data": {
      "text/plain": [
       "AAPL    389.424\n",
       "IBM     182.405\n",
       "MSFT     26.370\n",
       "dtype: float64"
      ]
     },
     "execution_count": 139,
     "metadata": {},
     "output_type": "execute_result"
    }
   ],
   "source": [
    "df.mean()   # same as above.   df.mean? to look up the function usage."
   ]
  },
  {
   "cell_type": "code",
   "execution_count": 140,
   "metadata": {
    "collapsed": false
   },
   "outputs": [
    {
     "data": {
      "text/plain": [
       "2011-10-03    190.806667\n",
       "2011-10-04    190.860000\n",
       "2011-10-05    193.663333\n",
       "2011-10-06    195.133333\n",
       "2011-10-07    192.813333\n",
       "2011-10-10    200.790000\n",
       "2011-10-11    204.096667\n",
       "2011-10-12    205.090000\n",
       "2011-10-13    207.476667\n",
       "2011-10-14    213.266667\n",
       "dtype: float64"
      ]
     },
     "execution_count": 140,
     "metadata": {},
     "output_type": "execute_result"
    }
   ],
   "source": [
    "df.mean(1)   # get the mean of the rows based on a column. Also excludes missing data (NaN: not a number)."
   ]
  },
  {
   "cell_type": "code",
   "execution_count": 141,
   "metadata": {
    "collapsed": false
   },
   "outputs": [
    {
     "data": {
      "text/plain": [
       "2011-10-03    190.806667\n",
       "2011-10-04    190.860000\n",
       "2011-10-05    193.663333\n",
       "2011-10-06    195.133333\n",
       "2011-10-07    192.813333\n",
       "2011-10-10    200.790000\n",
       "2011-10-11    204.096667\n",
       "2011-10-12    205.090000\n",
       "2011-10-13    207.476667\n",
       "2011-10-14    213.266667\n",
       "dtype: float64"
      ]
     },
     "execution_count": 141,
     "metadata": {},
     "output_type": "execute_result"
    }
   ],
   "source": [
    "df.mean(1, skipna=False)   # flag skipna: to include NaN. In this data, no NaN."
   ]
  },
  {
   "cell_type": "code",
   "execution_count": 142,
   "metadata": {
    "collapsed": false
   },
   "outputs": [
    {
     "data": {
      "text/plain": [
       "2011-10-03    190.806667\n",
       "2011-10-04    190.860000\n",
       "2011-10-05    193.663333\n",
       "2011-10-06    195.133333\n",
       "2011-10-07    192.813333\n",
       "2011-10-10    200.790000\n",
       "2011-10-11    204.096667\n",
       "2011-10-12    205.090000\n",
       "2011-10-13    207.476667\n",
       "2011-10-14    213.266667\n",
       "dtype: float64"
      ]
     },
     "execution_count": 142,
     "metadata": {},
     "output_type": "execute_result"
    }
   ],
   "source": [
    "df.apply(np.mean, axis=1)   # same as above."
   ]
  },
  {
   "cell_type": "markdown",
   "metadata": {},
   "source": [
    "You can get as fancy as you want"
   ]
  },
  {
   "cell_type": "code",
   "execution_count": 143,
   "metadata": {
    "collapsed": false
   },
   "outputs": [
    {
     "data": {
      "text/html": [
       "<div>\n",
       "<table border=\"1\" class=\"dataframe\">\n",
       "  <thead>\n",
       "    <tr style=\"text-align: right;\">\n",
       "      <th></th>\n",
       "      <th>AA</th>\n",
       "      <th>AAPL</th>\n",
       "      <th>GE</th>\n",
       "      <th>IBM</th>\n",
       "      <th>JNJ</th>\n",
       "      <th>MSFT</th>\n",
       "      <th>PEP</th>\n",
       "      <th>SPX</th>\n",
       "      <th>XOM</th>\n",
       "    </tr>\n",
       "  </thead>\n",
       "  <tbody>\n",
       "    <tr>\n",
       "      <th>2007-10-29</th>\n",
       "      <td>37.41</td>\n",
       "      <td>185.09</td>\n",
       "      <td>34.46</td>\n",
       "      <td>106.78</td>\n",
       "      <td>57.13</td>\n",
       "      <td>31.78</td>\n",
       "      <td>65.67</td>\n",
       "      <td>1540.98</td>\n",
       "      <td>85.51</td>\n",
       "    </tr>\n",
       "    <tr>\n",
       "      <th>2007-10-30</th>\n",
       "      <td>36.43</td>\n",
       "      <td>187.00</td>\n",
       "      <td>34.39</td>\n",
       "      <td>106.15</td>\n",
       "      <td>56.99</td>\n",
       "      <td>32.70</td>\n",
       "      <td>65.80</td>\n",
       "      <td>1531.02</td>\n",
       "      <td>83.25</td>\n",
       "    </tr>\n",
       "    <tr>\n",
       "      <th>2007-10-31</th>\n",
       "      <td>36.79</td>\n",
       "      <td>189.95</td>\n",
       "      <td>34.97</td>\n",
       "      <td>108.01</td>\n",
       "      <td>57.30</td>\n",
       "      <td>33.84</td>\n",
       "      <td>65.69</td>\n",
       "      <td>1549.38</td>\n",
       "      <td>84.03</td>\n",
       "    </tr>\n",
       "    <tr>\n",
       "      <th>2007-11-01</th>\n",
       "      <td>35.22</td>\n",
       "      <td>187.44</td>\n",
       "      <td>34.27</td>\n",
       "      <td>105.72</td>\n",
       "      <td>56.85</td>\n",
       "      <td>34.07</td>\n",
       "      <td>64.51</td>\n",
       "      <td>1508.44</td>\n",
       "      <td>80.84</td>\n",
       "    </tr>\n",
       "    <tr>\n",
       "      <th>2007-11-02</th>\n",
       "      <td>35.83</td>\n",
       "      <td>187.87</td>\n",
       "      <td>34.27</td>\n",
       "      <td>106.59</td>\n",
       "      <td>56.95</td>\n",
       "      <td>34.07</td>\n",
       "      <td>65.03</td>\n",
       "      <td>1509.65</td>\n",
       "      <td>80.32</td>\n",
       "    </tr>\n",
       "    <tr>\n",
       "      <th>2007-11-05</th>\n",
       "      <td>35.22</td>\n",
       "      <td>186.18</td>\n",
       "      <td>34.15</td>\n",
       "      <td>105.48</td>\n",
       "      <td>56.70</td>\n",
       "      <td>33.77</td>\n",
       "      <td>64.84</td>\n",
       "      <td>1502.17</td>\n",
       "      <td>80.07</td>\n",
       "    </tr>\n",
       "    <tr>\n",
       "      <th>2007-11-06</th>\n",
       "      <td>35.84</td>\n",
       "      <td>191.79</td>\n",
       "      <td>34.14</td>\n",
       "      <td>105.27</td>\n",
       "      <td>56.80</td>\n",
       "      <td>33.47</td>\n",
       "      <td>65.49</td>\n",
       "      <td>1520.27</td>\n",
       "      <td>82.56</td>\n",
       "    </tr>\n",
       "    <tr>\n",
       "      <th>2007-11-07</th>\n",
       "      <td>34.76</td>\n",
       "      <td>186.30</td>\n",
       "      <td>33.20</td>\n",
       "      <td>103.69</td>\n",
       "      <td>56.19</td>\n",
       "      <td>32.65</td>\n",
       "      <td>64.46</td>\n",
       "      <td>1475.62</td>\n",
       "      <td>79.96</td>\n",
       "    </tr>\n",
       "    <tr>\n",
       "      <th>2007-11-08</th>\n",
       "      <td>35.00</td>\n",
       "      <td>175.47</td>\n",
       "      <td>33.15</td>\n",
       "      <td>99.05</td>\n",
       "      <td>56.79</td>\n",
       "      <td>31.94</td>\n",
       "      <td>65.50</td>\n",
       "      <td>1474.77</td>\n",
       "      <td>82.00</td>\n",
       "    </tr>\n",
       "    <tr>\n",
       "      <th>2007-11-09</th>\n",
       "      <td>34.47</td>\n",
       "      <td>165.37</td>\n",
       "      <td>32.61</td>\n",
       "      <td>93.58</td>\n",
       "      <td>57.29</td>\n",
       "      <td>31.01</td>\n",
       "      <td>65.48</td>\n",
       "      <td>1453.70</td>\n",
       "      <td>79.64</td>\n",
       "    </tr>\n",
       "    <tr>\n",
       "      <th>2007-11-12</th>\n",
       "      <td>33.33</td>\n",
       "      <td>153.76</td>\n",
       "      <td>32.50</td>\n",
       "      <td>94.70</td>\n",
       "      <td>58.30</td>\n",
       "      <td>30.69</td>\n",
       "      <td>64.67</td>\n",
       "      <td>1439.18</td>\n",
       "      <td>77.52</td>\n",
       "    </tr>\n",
       "    <tr>\n",
       "      <th>2007-11-13</th>\n",
       "      <td>34.04</td>\n",
       "      <td>169.96</td>\n",
       "      <td>33.31</td>\n",
       "      <td>98.27</td>\n",
       "      <td>59.18</td>\n",
       "      <td>31.79</td>\n",
       "      <td>65.35</td>\n",
       "      <td>1481.05</td>\n",
       "      <td>79.67</td>\n",
       "    </tr>\n",
       "    <tr>\n",
       "      <th>2007-11-14</th>\n",
       "      <td>34.25</td>\n",
       "      <td>166.11</td>\n",
       "      <td>33.14</td>\n",
       "      <td>96.56</td>\n",
       "      <td>58.81</td>\n",
       "      <td>31.30</td>\n",
       "      <td>65.99</td>\n",
       "      <td>1470.58</td>\n",
       "      <td>79.15</td>\n",
       "    </tr>\n",
       "    <tr>\n",
       "      <th>2007-11-15</th>\n",
       "      <td>33.76</td>\n",
       "      <td>164.30</td>\n",
       "      <td>32.55</td>\n",
       "      <td>96.71</td>\n",
       "      <td>58.80</td>\n",
       "      <td>31.14</td>\n",
       "      <td>65.57</td>\n",
       "      <td>1451.15</td>\n",
       "      <td>77.48</td>\n",
       "    </tr>\n",
       "    <tr>\n",
       "      <th>2007-11-16</th>\n",
       "      <td>33.74</td>\n",
       "      <td>166.39</td>\n",
       "      <td>32.84</td>\n",
       "      <td>97.82</td>\n",
       "      <td>59.56</td>\n",
       "      <td>31.44</td>\n",
       "      <td>66.08</td>\n",
       "      <td>1458.74</td>\n",
       "      <td>78.04</td>\n",
       "    </tr>\n",
       "    <tr>\n",
       "      <th>2007-11-19</th>\n",
       "      <td>32.59</td>\n",
       "      <td>163.95</td>\n",
       "      <td>32.42</td>\n",
       "      <td>95.42</td>\n",
       "      <td>59.42</td>\n",
       "      <td>31.32</td>\n",
       "      <td>66.90</td>\n",
       "      <td>1433.27</td>\n",
       "      <td>77.13</td>\n",
       "    </tr>\n",
       "    <tr>\n",
       "      <th>2007-11-20</th>\n",
       "      <td>32.88</td>\n",
       "      <td>168.85</td>\n",
       "      <td>32.32</td>\n",
       "      <td>96.54</td>\n",
       "      <td>59.47</td>\n",
       "      <td>31.90</td>\n",
       "      <td>66.69</td>\n",
       "      <td>1439.70</td>\n",
       "      <td>80.53</td>\n",
       "    </tr>\n",
       "    <tr>\n",
       "      <th>2007-11-21</th>\n",
       "      <td>32.68</td>\n",
       "      <td>168.46</td>\n",
       "      <td>31.58</td>\n",
       "      <td>95.42</td>\n",
       "      <td>59.03</td>\n",
       "      <td>31.57</td>\n",
       "      <td>66.87</td>\n",
       "      <td>1416.77</td>\n",
       "      <td>79.82</td>\n",
       "    </tr>\n",
       "    <tr>\n",
       "      <th>2007-11-23</th>\n",
       "      <td>32.66</td>\n",
       "      <td>171.54</td>\n",
       "      <td>32.01</td>\n",
       "      <td>97.13</td>\n",
       "      <td>59.16</td>\n",
       "      <td>31.46</td>\n",
       "      <td>67.29</td>\n",
       "      <td>1440.70</td>\n",
       "      <td>80.96</td>\n",
       "    </tr>\n",
       "    <tr>\n",
       "      <th>2007-11-26</th>\n",
       "      <td>32.41</td>\n",
       "      <td>172.54</td>\n",
       "      <td>31.21</td>\n",
       "      <td>95.19</td>\n",
       "      <td>59.60</td>\n",
       "      <td>30.41</td>\n",
       "      <td>66.56</td>\n",
       "      <td>1407.22</td>\n",
       "      <td>78.57</td>\n",
       "    </tr>\n",
       "    <tr>\n",
       "      <th>2007-11-27</th>\n",
       "      <td>32.56</td>\n",
       "      <td>174.81</td>\n",
       "      <td>31.82</td>\n",
       "      <td>96.92</td>\n",
       "      <td>59.92</td>\n",
       "      <td>30.49</td>\n",
       "      <td>67.65</td>\n",
       "      <td>1428.23</td>\n",
       "      <td>79.21</td>\n",
       "    </tr>\n",
       "    <tr>\n",
       "      <th>2007-11-28</th>\n",
       "      <td>33.65</td>\n",
       "      <td>180.22</td>\n",
       "      <td>32.68</td>\n",
       "      <td>100.23</td>\n",
       "      <td>60.46</td>\n",
       "      <td>31.08</td>\n",
       "      <td>68.76</td>\n",
       "      <td>1469.02</td>\n",
       "      <td>80.62</td>\n",
       "    </tr>\n",
       "    <tr>\n",
       "      <th>2007-11-29</th>\n",
       "      <td>33.97</td>\n",
       "      <td>184.29</td>\n",
       "      <td>32.40</td>\n",
       "      <td>100.35</td>\n",
       "      <td>60.51</td>\n",
       "      <td>30.98</td>\n",
       "      <td>68.20</td>\n",
       "      <td>1469.72</td>\n",
       "      <td>81.24</td>\n",
       "    </tr>\n",
       "    <tr>\n",
       "      <th>2007-11-30</th>\n",
       "      <td>33.80</td>\n",
       "      <td>182.22</td>\n",
       "      <td>32.53</td>\n",
       "      <td>98.18</td>\n",
       "      <td>59.93</td>\n",
       "      <td>30.99</td>\n",
       "      <td>68.78</td>\n",
       "      <td>1481.14</td>\n",
       "      <td>81.76</td>\n",
       "    </tr>\n",
       "    <tr>\n",
       "      <th>2007-12-03</th>\n",
       "      <td>32.98</td>\n",
       "      <td>178.86</td>\n",
       "      <td>31.38</td>\n",
       "      <td>98.79</td>\n",
       "      <td>59.90</td>\n",
       "      <td>30.36</td>\n",
       "      <td>68.24</td>\n",
       "      <td>1472.42</td>\n",
       "      <td>81.48</td>\n",
       "    </tr>\n",
       "    <tr>\n",
       "      <th>2007-12-04</th>\n",
       "      <td>32.76</td>\n",
       "      <td>179.81</td>\n",
       "      <td>30.80</td>\n",
       "      <td>99.54</td>\n",
       "      <td>60.10</td>\n",
       "      <td>30.23</td>\n",
       "      <td>68.30</td>\n",
       "      <td>1462.79</td>\n",
       "      <td>80.81</td>\n",
       "    </tr>\n",
       "    <tr>\n",
       "      <th>2007-12-05</th>\n",
       "      <td>33.09</td>\n",
       "      <td>185.50</td>\n",
       "      <td>31.19</td>\n",
       "      <td>100.97</td>\n",
       "      <td>60.34</td>\n",
       "      <td>31.50</td>\n",
       "      <td>68.30</td>\n",
       "      <td>1485.01</td>\n",
       "      <td>82.46</td>\n",
       "    </tr>\n",
       "    <tr>\n",
       "      <th>2007-12-06</th>\n",
       "      <td>33.32</td>\n",
       "      <td>189.95</td>\n",
       "      <td>31.66</td>\n",
       "      <td>102.40</td>\n",
       "      <td>60.42</td>\n",
       "      <td>31.87</td>\n",
       "      <td>68.98</td>\n",
       "      <td>1507.34</td>\n",
       "      <td>83.85</td>\n",
       "    </tr>\n",
       "    <tr>\n",
       "      <th>2007-12-07</th>\n",
       "      <td>34.30</td>\n",
       "      <td>194.30</td>\n",
       "      <td>31.63</td>\n",
       "      <td>101.62</td>\n",
       "      <td>59.87</td>\n",
       "      <td>31.85</td>\n",
       "      <td>68.95</td>\n",
       "      <td>1504.66</td>\n",
       "      <td>83.91</td>\n",
       "    </tr>\n",
       "    <tr>\n",
       "      <th>2007-12-10</th>\n",
       "      <td>35.17</td>\n",
       "      <td>194.21</td>\n",
       "      <td>31.78</td>\n",
       "      <td>102.11</td>\n",
       "      <td>59.97</td>\n",
       "      <td>32.06</td>\n",
       "      <td>69.20</td>\n",
       "      <td>1515.96</td>\n",
       "      <td>84.39</td>\n",
       "    </tr>\n",
       "    <tr>\n",
       "      <th>...</th>\n",
       "      <td>...</td>\n",
       "      <td>...</td>\n",
       "      <td>...</td>\n",
       "      <td>...</td>\n",
       "      <td>...</td>\n",
       "      <td>...</td>\n",
       "      <td>...</td>\n",
       "      <td>...</td>\n",
       "      <td>...</td>\n",
       "    </tr>\n",
       "    <tr>\n",
       "      <th>2011-09-02</th>\n",
       "      <td>12.04</td>\n",
       "      <td>374.05</td>\n",
       "      <td>15.61</td>\n",
       "      <td>166.98</td>\n",
       "      <td>64.07</td>\n",
       "      <td>25.80</td>\n",
       "      <td>63.30</td>\n",
       "      <td>1173.97</td>\n",
       "      <td>72.14</td>\n",
       "    </tr>\n",
       "    <tr>\n",
       "      <th>2011-09-06</th>\n",
       "      <td>11.77</td>\n",
       "      <td>379.74</td>\n",
       "      <td>15.11</td>\n",
       "      <td>165.11</td>\n",
       "      <td>64.64</td>\n",
       "      <td>25.51</td>\n",
       "      <td>62.45</td>\n",
       "      <td>1165.24</td>\n",
       "      <td>71.15</td>\n",
       "    </tr>\n",
       "    <tr>\n",
       "      <th>2011-09-07</th>\n",
       "      <td>12.25</td>\n",
       "      <td>383.93</td>\n",
       "      <td>15.65</td>\n",
       "      <td>167.31</td>\n",
       "      <td>65.43</td>\n",
       "      <td>26.00</td>\n",
       "      <td>61.62</td>\n",
       "      <td>1198.62</td>\n",
       "      <td>73.65</td>\n",
       "    </tr>\n",
       "    <tr>\n",
       "      <th>2011-09-08</th>\n",
       "      <td>12.03</td>\n",
       "      <td>384.14</td>\n",
       "      <td>15.44</td>\n",
       "      <td>165.25</td>\n",
       "      <td>64.95</td>\n",
       "      <td>26.22</td>\n",
       "      <td>61.34</td>\n",
       "      <td>1185.90</td>\n",
       "      <td>72.82</td>\n",
       "    </tr>\n",
       "    <tr>\n",
       "      <th>2011-09-09</th>\n",
       "      <td>11.58</td>\n",
       "      <td>377.48</td>\n",
       "      <td>14.95</td>\n",
       "      <td>161.37</td>\n",
       "      <td>63.64</td>\n",
       "      <td>25.74</td>\n",
       "      <td>59.99</td>\n",
       "      <td>1154.23</td>\n",
       "      <td>71.01</td>\n",
       "    </tr>\n",
       "    <tr>\n",
       "      <th>2011-09-12</th>\n",
       "      <td>11.55</td>\n",
       "      <td>379.94</td>\n",
       "      <td>14.87</td>\n",
       "      <td>162.42</td>\n",
       "      <td>63.59</td>\n",
       "      <td>25.89</td>\n",
       "      <td>60.14</td>\n",
       "      <td>1162.27</td>\n",
       "      <td>71.84</td>\n",
       "    </tr>\n",
       "    <tr>\n",
       "      <th>2011-09-13</th>\n",
       "      <td>11.63</td>\n",
       "      <td>384.62</td>\n",
       "      <td>15.26</td>\n",
       "      <td>163.43</td>\n",
       "      <td>63.61</td>\n",
       "      <td>26.04</td>\n",
       "      <td>60.54</td>\n",
       "      <td>1172.87</td>\n",
       "      <td>71.65</td>\n",
       "    </tr>\n",
       "    <tr>\n",
       "      <th>2011-09-14</th>\n",
       "      <td>11.73</td>\n",
       "      <td>389.30</td>\n",
       "      <td>15.64</td>\n",
       "      <td>167.24</td>\n",
       "      <td>63.73</td>\n",
       "      <td>26.50</td>\n",
       "      <td>61.58</td>\n",
       "      <td>1188.68</td>\n",
       "      <td>72.64</td>\n",
       "    </tr>\n",
       "    <tr>\n",
       "      <th>2011-09-15</th>\n",
       "      <td>11.98</td>\n",
       "      <td>392.96</td>\n",
       "      <td>16.08</td>\n",
       "      <td>170.09</td>\n",
       "      <td>64.40</td>\n",
       "      <td>26.99</td>\n",
       "      <td>63.22</td>\n",
       "      <td>1209.11</td>\n",
       "      <td>74.01</td>\n",
       "    </tr>\n",
       "    <tr>\n",
       "      <th>2011-09-16</th>\n",
       "      <td>11.97</td>\n",
       "      <td>400.50</td>\n",
       "      <td>16.33</td>\n",
       "      <td>172.99</td>\n",
       "      <td>64.59</td>\n",
       "      <td>27.12</td>\n",
       "      <td>62.05</td>\n",
       "      <td>1216.01</td>\n",
       "      <td>74.55</td>\n",
       "    </tr>\n",
       "    <tr>\n",
       "      <th>2011-09-19</th>\n",
       "      <td>11.58</td>\n",
       "      <td>411.63</td>\n",
       "      <td>16.18</td>\n",
       "      <td>173.13</td>\n",
       "      <td>64.14</td>\n",
       "      <td>27.21</td>\n",
       "      <td>60.56</td>\n",
       "      <td>1204.09</td>\n",
       "      <td>73.70</td>\n",
       "    </tr>\n",
       "    <tr>\n",
       "      <th>2011-09-20</th>\n",
       "      <td>11.25</td>\n",
       "      <td>413.45</td>\n",
       "      <td>16.04</td>\n",
       "      <td>174.72</td>\n",
       "      <td>64.22</td>\n",
       "      <td>26.98</td>\n",
       "      <td>60.39</td>\n",
       "      <td>1202.09</td>\n",
       "      <td>74.01</td>\n",
       "    </tr>\n",
       "    <tr>\n",
       "      <th>2011-09-21</th>\n",
       "      <td>10.84</td>\n",
       "      <td>412.14</td>\n",
       "      <td>15.38</td>\n",
       "      <td>173.02</td>\n",
       "      <td>63.13</td>\n",
       "      <td>25.99</td>\n",
       "      <td>60.79</td>\n",
       "      <td>1166.76</td>\n",
       "      <td>71.97</td>\n",
       "    </tr>\n",
       "    <tr>\n",
       "      <th>2011-09-22</th>\n",
       "      <td>10.11</td>\n",
       "      <td>401.82</td>\n",
       "      <td>15.04</td>\n",
       "      <td>168.62</td>\n",
       "      <td>61.92</td>\n",
       "      <td>25.06</td>\n",
       "      <td>60.92</td>\n",
       "      <td>1129.56</td>\n",
       "      <td>69.24</td>\n",
       "    </tr>\n",
       "    <tr>\n",
       "      <th>2011-09-23</th>\n",
       "      <td>10.07</td>\n",
       "      <td>404.30</td>\n",
       "      <td>15.21</td>\n",
       "      <td>169.34</td>\n",
       "      <td>61.59</td>\n",
       "      <td>25.06</td>\n",
       "      <td>60.34</td>\n",
       "      <td>1136.43</td>\n",
       "      <td>69.31</td>\n",
       "    </tr>\n",
       "    <tr>\n",
       "      <th>2011-09-26</th>\n",
       "      <td>10.45</td>\n",
       "      <td>403.17</td>\n",
       "      <td>15.57</td>\n",
       "      <td>174.51</td>\n",
       "      <td>62.69</td>\n",
       "      <td>25.44</td>\n",
       "      <td>61.89</td>\n",
       "      <td>1162.95</td>\n",
       "      <td>71.72</td>\n",
       "    </tr>\n",
       "    <tr>\n",
       "      <th>2011-09-27</th>\n",
       "      <td>10.48</td>\n",
       "      <td>399.26</td>\n",
       "      <td>15.76</td>\n",
       "      <td>177.71</td>\n",
       "      <td>63.82</td>\n",
       "      <td>25.67</td>\n",
       "      <td>62.43</td>\n",
       "      <td>1175.38</td>\n",
       "      <td>72.91</td>\n",
       "    </tr>\n",
       "    <tr>\n",
       "      <th>2011-09-28</th>\n",
       "      <td>9.97</td>\n",
       "      <td>397.01</td>\n",
       "      <td>15.45</td>\n",
       "      <td>177.55</td>\n",
       "      <td>63.25</td>\n",
       "      <td>25.58</td>\n",
       "      <td>61.97</td>\n",
       "      <td>1151.06</td>\n",
       "      <td>72.07</td>\n",
       "    </tr>\n",
       "    <tr>\n",
       "      <th>2011-09-29</th>\n",
       "      <td>10.06</td>\n",
       "      <td>390.57</td>\n",
       "      <td>15.86</td>\n",
       "      <td>179.17</td>\n",
       "      <td>63.90</td>\n",
       "      <td>25.45</td>\n",
       "      <td>62.58</td>\n",
       "      <td>1160.40</td>\n",
       "      <td>73.88</td>\n",
       "    </tr>\n",
       "    <tr>\n",
       "      <th>2011-09-30</th>\n",
       "      <td>9.57</td>\n",
       "      <td>381.32</td>\n",
       "      <td>15.22</td>\n",
       "      <td>174.87</td>\n",
       "      <td>63.69</td>\n",
       "      <td>24.89</td>\n",
       "      <td>61.90</td>\n",
       "      <td>1131.42</td>\n",
       "      <td>72.63</td>\n",
       "    </tr>\n",
       "    <tr>\n",
       "      <th>2011-10-03</th>\n",
       "      <td>8.90</td>\n",
       "      <td>374.60</td>\n",
       "      <td>14.69</td>\n",
       "      <td>173.29</td>\n",
       "      <td>62.08</td>\n",
       "      <td>24.53</td>\n",
       "      <td>60.29</td>\n",
       "      <td>1099.23</td>\n",
       "      <td>71.15</td>\n",
       "    </tr>\n",
       "    <tr>\n",
       "      <th>2011-10-04</th>\n",
       "      <td>9.12</td>\n",
       "      <td>372.50</td>\n",
       "      <td>14.86</td>\n",
       "      <td>174.74</td>\n",
       "      <td>62.17</td>\n",
       "      <td>25.34</td>\n",
       "      <td>60.45</td>\n",
       "      <td>1123.95</td>\n",
       "      <td>72.83</td>\n",
       "    </tr>\n",
       "    <tr>\n",
       "      <th>2011-10-05</th>\n",
       "      <td>9.37</td>\n",
       "      <td>378.25</td>\n",
       "      <td>15.27</td>\n",
       "      <td>176.85</td>\n",
       "      <td>62.35</td>\n",
       "      <td>25.89</td>\n",
       "      <td>60.29</td>\n",
       "      <td>1144.03</td>\n",
       "      <td>73.95</td>\n",
       "    </tr>\n",
       "    <tr>\n",
       "      <th>2011-10-06</th>\n",
       "      <td>9.88</td>\n",
       "      <td>377.37</td>\n",
       "      <td>15.53</td>\n",
       "      <td>181.69</td>\n",
       "      <td>62.81</td>\n",
       "      <td>26.34</td>\n",
       "      <td>60.57</td>\n",
       "      <td>1164.97</td>\n",
       "      <td>73.89</td>\n",
       "    </tr>\n",
       "    <tr>\n",
       "      <th>2011-10-07</th>\n",
       "      <td>9.71</td>\n",
       "      <td>369.80</td>\n",
       "      <td>15.50</td>\n",
       "      <td>182.39</td>\n",
       "      <td>63.13</td>\n",
       "      <td>26.25</td>\n",
       "      <td>61.02</td>\n",
       "      <td>1155.46</td>\n",
       "      <td>73.56</td>\n",
       "    </tr>\n",
       "    <tr>\n",
       "      <th>2011-10-10</th>\n",
       "      <td>10.09</td>\n",
       "      <td>388.81</td>\n",
       "      <td>16.14</td>\n",
       "      <td>186.62</td>\n",
       "      <td>64.43</td>\n",
       "      <td>26.94</td>\n",
       "      <td>61.87</td>\n",
       "      <td>1194.89</td>\n",
       "      <td>76.28</td>\n",
       "    </tr>\n",
       "    <tr>\n",
       "      <th>2011-10-11</th>\n",
       "      <td>10.30</td>\n",
       "      <td>400.29</td>\n",
       "      <td>16.14</td>\n",
       "      <td>185.00</td>\n",
       "      <td>63.96</td>\n",
       "      <td>27.00</td>\n",
       "      <td>60.95</td>\n",
       "      <td>1195.54</td>\n",
       "      <td>76.27</td>\n",
       "    </tr>\n",
       "    <tr>\n",
       "      <th>2011-10-12</th>\n",
       "      <td>10.05</td>\n",
       "      <td>402.19</td>\n",
       "      <td>16.40</td>\n",
       "      <td>186.12</td>\n",
       "      <td>64.33</td>\n",
       "      <td>26.96</td>\n",
       "      <td>62.70</td>\n",
       "      <td>1207.25</td>\n",
       "      <td>77.16</td>\n",
       "    </tr>\n",
       "    <tr>\n",
       "      <th>2011-10-13</th>\n",
       "      <td>10.10</td>\n",
       "      <td>408.43</td>\n",
       "      <td>16.22</td>\n",
       "      <td>186.82</td>\n",
       "      <td>64.23</td>\n",
       "      <td>27.18</td>\n",
       "      <td>62.36</td>\n",
       "      <td>1203.66</td>\n",
       "      <td>76.37</td>\n",
       "    </tr>\n",
       "    <tr>\n",
       "      <th>2011-10-14</th>\n",
       "      <td>10.26</td>\n",
       "      <td>422.00</td>\n",
       "      <td>16.60</td>\n",
       "      <td>190.53</td>\n",
       "      <td>64.72</td>\n",
       "      <td>27.27</td>\n",
       "      <td>62.24</td>\n",
       "      <td>1224.58</td>\n",
       "      <td>78.11</td>\n",
       "    </tr>\n",
       "  </tbody>\n",
       "</table>\n",
       "<p>1000 rows × 9 columns</p>\n",
       "</div>"
      ],
      "text/plain": [
       "               AA    AAPL     GE     IBM    JNJ   MSFT    PEP      SPX    XOM\n",
       "2007-10-29  37.41  185.09  34.46  106.78  57.13  31.78  65.67  1540.98  85.51\n",
       "2007-10-30  36.43  187.00  34.39  106.15  56.99  32.70  65.80  1531.02  83.25\n",
       "2007-10-31  36.79  189.95  34.97  108.01  57.30  33.84  65.69  1549.38  84.03\n",
       "2007-11-01  35.22  187.44  34.27  105.72  56.85  34.07  64.51  1508.44  80.84\n",
       "2007-11-02  35.83  187.87  34.27  106.59  56.95  34.07  65.03  1509.65  80.32\n",
       "2007-11-05  35.22  186.18  34.15  105.48  56.70  33.77  64.84  1502.17  80.07\n",
       "2007-11-06  35.84  191.79  34.14  105.27  56.80  33.47  65.49  1520.27  82.56\n",
       "2007-11-07  34.76  186.30  33.20  103.69  56.19  32.65  64.46  1475.62  79.96\n",
       "2007-11-08  35.00  175.47  33.15   99.05  56.79  31.94  65.50  1474.77  82.00\n",
       "2007-11-09  34.47  165.37  32.61   93.58  57.29  31.01  65.48  1453.70  79.64\n",
       "2007-11-12  33.33  153.76  32.50   94.70  58.30  30.69  64.67  1439.18  77.52\n",
       "2007-11-13  34.04  169.96  33.31   98.27  59.18  31.79  65.35  1481.05  79.67\n",
       "2007-11-14  34.25  166.11  33.14   96.56  58.81  31.30  65.99  1470.58  79.15\n",
       "2007-11-15  33.76  164.30  32.55   96.71  58.80  31.14  65.57  1451.15  77.48\n",
       "2007-11-16  33.74  166.39  32.84   97.82  59.56  31.44  66.08  1458.74  78.04\n",
       "2007-11-19  32.59  163.95  32.42   95.42  59.42  31.32  66.90  1433.27  77.13\n",
       "2007-11-20  32.88  168.85  32.32   96.54  59.47  31.90  66.69  1439.70  80.53\n",
       "2007-11-21  32.68  168.46  31.58   95.42  59.03  31.57  66.87  1416.77  79.82\n",
       "2007-11-23  32.66  171.54  32.01   97.13  59.16  31.46  67.29  1440.70  80.96\n",
       "2007-11-26  32.41  172.54  31.21   95.19  59.60  30.41  66.56  1407.22  78.57\n",
       "2007-11-27  32.56  174.81  31.82   96.92  59.92  30.49  67.65  1428.23  79.21\n",
       "2007-11-28  33.65  180.22  32.68  100.23  60.46  31.08  68.76  1469.02  80.62\n",
       "2007-11-29  33.97  184.29  32.40  100.35  60.51  30.98  68.20  1469.72  81.24\n",
       "2007-11-30  33.80  182.22  32.53   98.18  59.93  30.99  68.78  1481.14  81.76\n",
       "2007-12-03  32.98  178.86  31.38   98.79  59.90  30.36  68.24  1472.42  81.48\n",
       "2007-12-04  32.76  179.81  30.80   99.54  60.10  30.23  68.30  1462.79  80.81\n",
       "2007-12-05  33.09  185.50  31.19  100.97  60.34  31.50  68.30  1485.01  82.46\n",
       "2007-12-06  33.32  189.95  31.66  102.40  60.42  31.87  68.98  1507.34  83.85\n",
       "2007-12-07  34.30  194.30  31.63  101.62  59.87  31.85  68.95  1504.66  83.91\n",
       "2007-12-10  35.17  194.21  31.78  102.11  59.97  32.06  69.20  1515.96  84.39\n",
       "...           ...     ...    ...     ...    ...    ...    ...      ...    ...\n",
       "2011-09-02  12.04  374.05  15.61  166.98  64.07  25.80  63.30  1173.97  72.14\n",
       "2011-09-06  11.77  379.74  15.11  165.11  64.64  25.51  62.45  1165.24  71.15\n",
       "2011-09-07  12.25  383.93  15.65  167.31  65.43  26.00  61.62  1198.62  73.65\n",
       "2011-09-08  12.03  384.14  15.44  165.25  64.95  26.22  61.34  1185.90  72.82\n",
       "2011-09-09  11.58  377.48  14.95  161.37  63.64  25.74  59.99  1154.23  71.01\n",
       "2011-09-12  11.55  379.94  14.87  162.42  63.59  25.89  60.14  1162.27  71.84\n",
       "2011-09-13  11.63  384.62  15.26  163.43  63.61  26.04  60.54  1172.87  71.65\n",
       "2011-09-14  11.73  389.30  15.64  167.24  63.73  26.50  61.58  1188.68  72.64\n",
       "2011-09-15  11.98  392.96  16.08  170.09  64.40  26.99  63.22  1209.11  74.01\n",
       "2011-09-16  11.97  400.50  16.33  172.99  64.59  27.12  62.05  1216.01  74.55\n",
       "2011-09-19  11.58  411.63  16.18  173.13  64.14  27.21  60.56  1204.09  73.70\n",
       "2011-09-20  11.25  413.45  16.04  174.72  64.22  26.98  60.39  1202.09  74.01\n",
       "2011-09-21  10.84  412.14  15.38  173.02  63.13  25.99  60.79  1166.76  71.97\n",
       "2011-09-22  10.11  401.82  15.04  168.62  61.92  25.06  60.92  1129.56  69.24\n",
       "2011-09-23  10.07  404.30  15.21  169.34  61.59  25.06  60.34  1136.43  69.31\n",
       "2011-09-26  10.45  403.17  15.57  174.51  62.69  25.44  61.89  1162.95  71.72\n",
       "2011-09-27  10.48  399.26  15.76  177.71  63.82  25.67  62.43  1175.38  72.91\n",
       "2011-09-28   9.97  397.01  15.45  177.55  63.25  25.58  61.97  1151.06  72.07\n",
       "2011-09-29  10.06  390.57  15.86  179.17  63.90  25.45  62.58  1160.40  73.88\n",
       "2011-09-30   9.57  381.32  15.22  174.87  63.69  24.89  61.90  1131.42  72.63\n",
       "2011-10-03   8.90  374.60  14.69  173.29  62.08  24.53  60.29  1099.23  71.15\n",
       "2011-10-04   9.12  372.50  14.86  174.74  62.17  25.34  60.45  1123.95  72.83\n",
       "2011-10-05   9.37  378.25  15.27  176.85  62.35  25.89  60.29  1144.03  73.95\n",
       "2011-10-06   9.88  377.37  15.53  181.69  62.81  26.34  60.57  1164.97  73.89\n",
       "2011-10-07   9.71  369.80  15.50  182.39  63.13  26.25  61.02  1155.46  73.56\n",
       "2011-10-10  10.09  388.81  16.14  186.62  64.43  26.94  61.87  1194.89  76.28\n",
       "2011-10-11  10.30  400.29  16.14  185.00  63.96  27.00  60.95  1195.54  76.27\n",
       "2011-10-12  10.05  402.19  16.40  186.12  64.33  26.96  62.70  1207.25  77.16\n",
       "2011-10-13  10.10  408.43  16.22  186.82  64.23  27.18  62.36  1203.66  76.37\n",
       "2011-10-14  10.26  422.00  16.60  190.53  64.72  27.27  62.24  1224.58  78.11\n",
       "\n",
       "[1000 rows x 9 columns]"
      ]
     },
     "execution_count": 143,
     "metadata": {},
     "output_type": "execute_result"
    }
   ],
   "source": [
    "close_px    # Output: 1000 rows."
   ]
  },
  {
   "cell_type": "code",
   "execution_count": 144,
   "metadata": {
    "collapsed": false,
    "scrolled": true
   },
   "outputs": [
    {
     "data": {
      "text/plain": [
       "2007-10-29    185.09\n",
       "2007-10-30    187.00\n",
       "2007-10-31    189.95\n",
       "2007-11-01    187.44\n",
       "2007-11-02    187.87\n",
       "2007-11-05    186.18\n",
       "2007-11-06    191.79\n",
       "2007-11-07    186.30\n",
       "2007-11-08    175.47\n",
       "2007-11-09    165.37\n",
       "2007-11-12    153.76\n",
       "2007-11-13    169.96\n",
       "2007-11-14    166.11\n",
       "2007-11-15    164.30\n",
       "2007-11-16    166.39\n",
       "2007-11-19    163.95\n",
       "2007-11-20    168.85\n",
       "2007-11-21    168.46\n",
       "2007-11-23    171.54\n",
       "2007-11-26    172.54\n",
       "2007-11-27    174.81\n",
       "2007-11-28    180.22\n",
       "2007-11-29    184.29\n",
       "2007-11-30    182.22\n",
       "2007-12-03    178.86\n",
       "2007-12-04    179.81\n",
       "2007-12-05    185.50\n",
       "2007-12-06    189.95\n",
       "2007-12-07    194.30\n",
       "2007-12-10    194.21\n",
       "               ...  \n",
       "2011-09-02    374.05\n",
       "2011-09-06    379.74\n",
       "2011-09-07    383.93\n",
       "2011-09-08    384.14\n",
       "2011-09-09    377.48\n",
       "2011-09-12    379.94\n",
       "2011-09-13    384.62\n",
       "2011-09-14    389.30\n",
       "2011-09-15    392.96\n",
       "2011-09-16    400.50\n",
       "2011-09-19    411.63\n",
       "2011-09-20    413.45\n",
       "2011-09-21    412.14\n",
       "2011-09-22    401.82\n",
       "2011-09-23    404.30\n",
       "2011-09-26    403.17\n",
       "2011-09-27    399.26\n",
       "2011-09-28    397.01\n",
       "2011-09-29    390.57\n",
       "2011-09-30    381.32\n",
       "2011-10-03    374.60\n",
       "2011-10-04    372.50\n",
       "2011-10-05    378.25\n",
       "2011-10-06    377.37\n",
       "2011-10-07    369.80\n",
       "2011-10-10    388.81\n",
       "2011-10-11    400.29\n",
       "2011-10-12    402.19\n",
       "2011-10-13    408.43\n",
       "2011-10-14    422.00\n",
       "Name: AAPL, dtype: float64"
      ]
     },
     "execution_count": 144,
     "metadata": {},
     "output_type": "execute_result"
    }
   ],
   "source": [
    "close_px.AAPL   # For easier typing, after dot ., use tab to select the name of the stock."
   ]
  },
  {
   "cell_type": "code",
   "execution_count": 145,
   "metadata": {
    "collapsed": false
   },
   "outputs": [
    {
     "data": {
      "text/plain": [
       "Timestamp('2011-10-14 00:00:00')"
      ]
     },
     "execution_count": 145,
     "metadata": {},
     "output_type": "execute_result"
    }
   ],
   "source": [
    "close_px.AAPL.idxmax() # gives index of its maximum value."
   ]
  },
  {
   "cell_type": "code",
   "execution_count": 146,
   "metadata": {
    "collapsed": false
   },
   "outputs": [
    {
     "data": {
      "text/plain": [
       "Timestamp('2007-10-30 00:00:00')"
      ]
     },
     "execution_count": 146,
     "metadata": {},
     "output_type": "execute_result"
    }
   ],
   "source": [
    "close_px.AAPL.index[1]"
   ]
  },
  {
   "cell_type": "code",
   "execution_count": 180,
   "metadata": {
    "collapsed": false
   },
   "outputs": [
    {
     "data": {
      "text/plain": [
       "Timestamp('2009-07-02 00:00:00')"
      ]
     },
     "execution_count": 180,
     "metadata": {},
     "output_type": "execute_result"
    }
   ],
   "source": [
    "close_px.AAPL.index[close_px.AAPL.max()]  # If you are numpy aficionado, does the same thing."
   ]
  },
  {
   "cell_type": "code",
   "execution_count": 148,
   "metadata": {
    "collapsed": false
   },
   "outputs": [],
   "source": [
    "close_px.AA.idxmax()\n",
    "\n",
    "def peak_date(series):\n",
    "    return series.idxmax()"
   ]
  },
  {
   "cell_type": "code",
   "execution_count": 149,
   "metadata": {
    "collapsed": false,
    "scrolled": true
   },
   "outputs": [
    {
     "data": {
      "text/plain": [
       "AA     2008-05-19\n",
       "AAPL   2011-10-14\n",
       "GE     2007-10-31\n",
       "IBM    2011-10-14\n",
       "JNJ    2011-07-07\n",
       "MSFT   2007-11-01\n",
       "PEP    2008-01-10\n",
       "SPX    2007-10-31\n",
       "XOM    2008-05-20\n",
       "dtype: datetime64[ns]"
      ]
     },
     "execution_count": 149,
     "metadata": {},
     "output_type": "execute_result"
    }
   ],
   "source": [
    "close_px.apply(peak_date)"
   ]
  },
  {
   "cell_type": "code",
   "execution_count": 150,
   "metadata": {
    "collapsed": false
   },
   "outputs": [
    {
     "name": "stdout",
     "output_type": "stream",
     "text": [
      "41.86\n",
      "422.0\n",
      "34.97\n",
      "190.53\n",
      "67.32\n",
      "34.07\n",
      "71.25\n",
      "1549.38\n",
      "87.48\n"
     ]
    }
   ],
   "source": [
    "for column in close_px:\n",
    "    print close_px[column].max()"
   ]
  },
  {
   "cell_type": "code",
   "execution_count": 151,
   "metadata": {
    "collapsed": false,
    "scrolled": true
   },
   "outputs": [
    {
     "data": {
      "text/plain": [
       "AA     2008-05-19\n",
       "AAPL   2011-10-14\n",
       "GE     2007-10-31\n",
       "IBM    2011-10-14\n",
       "JNJ    2011-07-07\n",
       "MSFT   2007-11-01\n",
       "PEP    2008-01-10\n",
       "SPX    2007-10-31\n",
       "XOM    2008-05-20\n",
       "dtype: datetime64[ns]"
      ]
     },
     "execution_count": 151,
     "metadata": {},
     "output_type": "execute_result"
    }
   ],
   "source": [
    "def peak_date(series):\n",
    "    return series.idxmax()    # new method: series.idxmax()\n",
    "close_px.apply(peak_date, axis=0)"
   ]
  },
  {
   "cell_type": "code",
   "execution_count": 152,
   "metadata": {
    "collapsed": false
   },
   "outputs": [
    {
     "data": {
      "text/plain": [
       "AAPL    422.00\n",
       "IBM     190.53\n",
       "MSFT     27.27\n",
       "dtype: float64"
      ]
     },
     "execution_count": 152,
     "metadata": {},
     "output_type": "execute_result"
    }
   ],
   "source": [
    "df.apply(lambda x: x.max())"
   ]
  },
  {
   "cell_type": "code",
   "execution_count": 153,
   "metadata": {
    "collapsed": false
   },
   "outputs": [
    {
     "data": {
      "text/plain": [
       "AAPL    52.20\n",
       "IBM     17.24\n",
       "MSFT     2.74\n",
       "dtype: float64"
      ]
     },
     "execution_count": 153,
     "metadata": {},
     "output_type": "execute_result"
    }
   ],
   "source": [
    "df.apply(lambda x: x.max() - x.min()) # np.ptp"
   ]
  },
  {
   "cell_type": "code",
   "execution_count": 154,
   "metadata": {
    "collapsed": false,
    "scrolled": true
   },
   "outputs": [
    {
     "data": {
      "text/html": [
       "<div>\n",
       "<table border=\"1\" class=\"dataframe\">\n",
       "  <thead>\n",
       "    <tr style=\"text-align: right;\">\n",
       "      <th></th>\n",
       "      <th>AA</th>\n",
       "      <th>AAPL</th>\n",
       "      <th>GE</th>\n",
       "      <th>IBM</th>\n",
       "      <th>JNJ</th>\n",
       "      <th>MSFT</th>\n",
       "      <th>PEP</th>\n",
       "      <th>SPX</th>\n",
       "      <th>XOM</th>\n",
       "    </tr>\n",
       "  </thead>\n",
       "  <tbody>\n",
       "    <tr>\n",
       "      <th>2007-10-29</th>\n",
       "      <td>3.621938</td>\n",
       "      <td>5.220842</td>\n",
       "      <td>3.539799</td>\n",
       "      <td>4.670771</td>\n",
       "      <td>4.045329</td>\n",
       "      <td>3.458837</td>\n",
       "      <td>4.184642</td>\n",
       "      <td>7.340174</td>\n",
       "      <td>4.448633</td>\n",
       "    </tr>\n",
       "    <tr>\n",
       "      <th>2007-10-30</th>\n",
       "      <td>3.595393</td>\n",
       "      <td>5.231109</td>\n",
       "      <td>3.537766</td>\n",
       "      <td>4.664853</td>\n",
       "      <td>4.042876</td>\n",
       "      <td>3.487375</td>\n",
       "      <td>4.186620</td>\n",
       "      <td>7.333689</td>\n",
       "      <td>4.421848</td>\n",
       "    </tr>\n",
       "    <tr>\n",
       "      <th>2007-10-31</th>\n",
       "      <td>3.605226</td>\n",
       "      <td>5.246761</td>\n",
       "      <td>3.554491</td>\n",
       "      <td>4.682224</td>\n",
       "      <td>4.048301</td>\n",
       "      <td>3.521644</td>\n",
       "      <td>4.184947</td>\n",
       "      <td>7.345610</td>\n",
       "      <td>4.431174</td>\n",
       "    </tr>\n",
       "    <tr>\n",
       "      <th>2007-11-01</th>\n",
       "      <td>3.561614</td>\n",
       "      <td>5.233459</td>\n",
       "      <td>3.534270</td>\n",
       "      <td>4.660794</td>\n",
       "      <td>4.040416</td>\n",
       "      <td>3.528417</td>\n",
       "      <td>4.166820</td>\n",
       "      <td>7.318831</td>\n",
       "      <td>4.392472</td>\n",
       "    </tr>\n",
       "    <tr>\n",
       "      <th>2007-11-02</th>\n",
       "      <td>3.578786</td>\n",
       "      <td>5.235750</td>\n",
       "      <td>3.534270</td>\n",
       "      <td>4.668990</td>\n",
       "      <td>4.042174</td>\n",
       "      <td>3.528417</td>\n",
       "      <td>4.174849</td>\n",
       "      <td>7.319633</td>\n",
       "      <td>4.386019</td>\n",
       "    </tr>\n",
       "    <tr>\n",
       "      <th>2007-11-05</th>\n",
       "      <td>3.561614</td>\n",
       "      <td>5.226714</td>\n",
       "      <td>3.530763</td>\n",
       "      <td>4.658521</td>\n",
       "      <td>4.037774</td>\n",
       "      <td>3.519573</td>\n",
       "      <td>4.171923</td>\n",
       "      <td>7.314666</td>\n",
       "      <td>4.382901</td>\n",
       "    </tr>\n",
       "    <tr>\n",
       "      <th>2007-11-06</th>\n",
       "      <td>3.579065</td>\n",
       "      <td>5.256401</td>\n",
       "      <td>3.530470</td>\n",
       "      <td>4.656528</td>\n",
       "      <td>4.039536</td>\n",
       "      <td>3.510650</td>\n",
       "      <td>4.181897</td>\n",
       "      <td>7.326643</td>\n",
       "      <td>4.413525</td>\n",
       "    </tr>\n",
       "    <tr>\n",
       "      <th>2007-11-07</th>\n",
       "      <td>3.548467</td>\n",
       "      <td>5.227358</td>\n",
       "      <td>3.502550</td>\n",
       "      <td>4.641406</td>\n",
       "      <td>4.028739</td>\n",
       "      <td>3.485845</td>\n",
       "      <td>4.166045</td>\n",
       "      <td>7.296834</td>\n",
       "      <td>4.381527</td>\n",
       "    </tr>\n",
       "    <tr>\n",
       "      <th>2007-11-08</th>\n",
       "      <td>3.555348</td>\n",
       "      <td>5.167468</td>\n",
       "      <td>3.501043</td>\n",
       "      <td>4.595625</td>\n",
       "      <td>4.039360</td>\n",
       "      <td>3.463859</td>\n",
       "      <td>4.182050</td>\n",
       "      <td>7.296257</td>\n",
       "      <td>4.406719</td>\n",
       "    </tr>\n",
       "    <tr>\n",
       "      <th>2007-11-09</th>\n",
       "      <td>3.540089</td>\n",
       "      <td>5.108185</td>\n",
       "      <td>3.484619</td>\n",
       "      <td>4.538817</td>\n",
       "      <td>4.048126</td>\n",
       "      <td>3.434310</td>\n",
       "      <td>4.181745</td>\n",
       "      <td>7.281867</td>\n",
       "      <td>4.377516</td>\n",
       "    </tr>\n",
       "    <tr>\n",
       "      <th>2007-11-12</th>\n",
       "      <td>3.506458</td>\n",
       "      <td>5.035393</td>\n",
       "      <td>3.481240</td>\n",
       "      <td>4.550714</td>\n",
       "      <td>4.065602</td>\n",
       "      <td>3.423937</td>\n",
       "      <td>4.169297</td>\n",
       "      <td>7.271829</td>\n",
       "      <td>4.350536</td>\n",
       "    </tr>\n",
       "    <tr>\n",
       "      <th>2007-11-13</th>\n",
       "      <td>3.527536</td>\n",
       "      <td>5.135563</td>\n",
       "      <td>3.505858</td>\n",
       "      <td>4.587719</td>\n",
       "      <td>4.080584</td>\n",
       "      <td>3.459152</td>\n",
       "      <td>4.179757</td>\n",
       "      <td>7.300507</td>\n",
       "      <td>4.377893</td>\n",
       "    </tr>\n",
       "    <tr>\n",
       "      <th>2007-11-14</th>\n",
       "      <td>3.533687</td>\n",
       "      <td>5.112650</td>\n",
       "      <td>3.500741</td>\n",
       "      <td>4.570165</td>\n",
       "      <td>4.074312</td>\n",
       "      <td>3.443618</td>\n",
       "      <td>4.189503</td>\n",
       "      <td>7.293412</td>\n",
       "      <td>4.371345</td>\n",
       "    </tr>\n",
       "    <tr>\n",
       "      <th>2007-11-15</th>\n",
       "      <td>3.519277</td>\n",
       "      <td>5.101694</td>\n",
       "      <td>3.482777</td>\n",
       "      <td>4.571717</td>\n",
       "      <td>4.074142</td>\n",
       "      <td>3.438493</td>\n",
       "      <td>4.183118</td>\n",
       "      <td>7.280112</td>\n",
       "      <td>4.350020</td>\n",
       "    </tr>\n",
       "    <tr>\n",
       "      <th>2007-11-16</th>\n",
       "      <td>3.518684</td>\n",
       "      <td>5.114334</td>\n",
       "      <td>3.491647</td>\n",
       "      <td>4.583129</td>\n",
       "      <td>4.086984</td>\n",
       "      <td>3.448081</td>\n",
       "      <td>4.190866</td>\n",
       "      <td>7.285328</td>\n",
       "      <td>4.357222</td>\n",
       "    </tr>\n",
       "    <tr>\n",
       "      <th>2007-11-19</th>\n",
       "      <td>3.484005</td>\n",
       "      <td>5.099562</td>\n",
       "      <td>3.478776</td>\n",
       "      <td>4.558288</td>\n",
       "      <td>4.084631</td>\n",
       "      <td>3.444257</td>\n",
       "      <td>4.203199</td>\n",
       "      <td>7.267714</td>\n",
       "      <td>4.345492</td>\n",
       "    </tr>\n",
       "    <tr>\n",
       "      <th>2007-11-20</th>\n",
       "      <td>3.492865</td>\n",
       "      <td>5.129011</td>\n",
       "      <td>3.475686</td>\n",
       "      <td>4.569957</td>\n",
       "      <td>4.085472</td>\n",
       "      <td>3.462606</td>\n",
       "      <td>4.200055</td>\n",
       "      <td>7.272190</td>\n",
       "      <td>4.388630</td>\n",
       "    </tr>\n",
       "    <tr>\n",
       "      <th>2007-11-21</th>\n",
       "      <td>3.486763</td>\n",
       "      <td>5.126698</td>\n",
       "      <td>3.452524</td>\n",
       "      <td>4.558288</td>\n",
       "      <td>4.078046</td>\n",
       "      <td>3.452207</td>\n",
       "      <td>4.202750</td>\n",
       "      <td>7.256135</td>\n",
       "      <td>4.379774</td>\n",
       "    </tr>\n",
       "    <tr>\n",
       "      <th>2007-11-23</th>\n",
       "      <td>3.486151</td>\n",
       "      <td>5.144816</td>\n",
       "      <td>3.466048</td>\n",
       "      <td>4.576050</td>\n",
       "      <td>4.080246</td>\n",
       "      <td>3.448717</td>\n",
       "      <td>4.209012</td>\n",
       "      <td>7.272884</td>\n",
       "      <td>4.393955</td>\n",
       "    </tr>\n",
       "    <tr>\n",
       "      <th>2007-11-26</th>\n",
       "      <td>3.478467</td>\n",
       "      <td>5.150629</td>\n",
       "      <td>3.440739</td>\n",
       "      <td>4.555875</td>\n",
       "      <td>4.087656</td>\n",
       "      <td>3.414772</td>\n",
       "      <td>4.198104</td>\n",
       "      <td>7.249371</td>\n",
       "      <td>4.363990</td>\n",
       "    </tr>\n",
       "    <tr>\n",
       "      <th>2007-11-27</th>\n",
       "      <td>3.483085</td>\n",
       "      <td>5.163700</td>\n",
       "      <td>3.460095</td>\n",
       "      <td>4.573886</td>\n",
       "      <td>4.093010</td>\n",
       "      <td>3.417399</td>\n",
       "      <td>4.214347</td>\n",
       "      <td>7.264191</td>\n",
       "      <td>4.372103</td>\n",
       "    </tr>\n",
       "    <tr>\n",
       "      <th>2007-11-28</th>\n",
       "      <td>3.516013</td>\n",
       "      <td>5.194178</td>\n",
       "      <td>3.486763</td>\n",
       "      <td>4.607468</td>\n",
       "      <td>4.101982</td>\n",
       "      <td>3.436565</td>\n",
       "      <td>4.230622</td>\n",
       "      <td>7.292351</td>\n",
       "      <td>4.389747</td>\n",
       "    </tr>\n",
       "    <tr>\n",
       "      <th>2007-11-29</th>\n",
       "      <td>3.525478</td>\n",
       "      <td>5.216511</td>\n",
       "      <td>3.478158</td>\n",
       "      <td>4.608664</td>\n",
       "      <td>4.102809</td>\n",
       "      <td>3.433342</td>\n",
       "      <td>4.222445</td>\n",
       "      <td>7.292827</td>\n",
       "      <td>4.397408</td>\n",
       "    </tr>\n",
       "    <tr>\n",
       "      <th>2007-11-30</th>\n",
       "      <td>3.520461</td>\n",
       "      <td>5.205215</td>\n",
       "      <td>3.482163</td>\n",
       "      <td>4.586803</td>\n",
       "      <td>4.093177</td>\n",
       "      <td>3.433665</td>\n",
       "      <td>4.230913</td>\n",
       "      <td>7.300567</td>\n",
       "      <td>4.403788</td>\n",
       "    </tr>\n",
       "    <tr>\n",
       "      <th>2007-12-03</th>\n",
       "      <td>3.495901</td>\n",
       "      <td>5.186603</td>\n",
       "      <td>3.446171</td>\n",
       "      <td>4.592996</td>\n",
       "      <td>4.092677</td>\n",
       "      <td>3.413126</td>\n",
       "      <td>4.223031</td>\n",
       "      <td>7.294663</td>\n",
       "      <td>4.400358</td>\n",
       "    </tr>\n",
       "    <tr>\n",
       "      <th>2007-12-04</th>\n",
       "      <td>3.489208</td>\n",
       "      <td>5.191901</td>\n",
       "      <td>3.427515</td>\n",
       "      <td>4.600560</td>\n",
       "      <td>4.096010</td>\n",
       "      <td>3.408835</td>\n",
       "      <td>4.223910</td>\n",
       "      <td>7.288101</td>\n",
       "      <td>4.392101</td>\n",
       "    </tr>\n",
       "    <tr>\n",
       "      <th>2007-12-05</th>\n",
       "      <td>3.499231</td>\n",
       "      <td>5.223055</td>\n",
       "      <td>3.440098</td>\n",
       "      <td>4.614823</td>\n",
       "      <td>4.099995</td>\n",
       "      <td>3.449988</td>\n",
       "      <td>4.223910</td>\n",
       "      <td>7.303177</td>\n",
       "      <td>4.412313</td>\n",
       "    </tr>\n",
       "    <tr>\n",
       "      <th>2007-12-06</th>\n",
       "      <td>3.506158</td>\n",
       "      <td>5.246761</td>\n",
       "      <td>3.455054</td>\n",
       "      <td>4.628887</td>\n",
       "      <td>4.101320</td>\n",
       "      <td>3.461665</td>\n",
       "      <td>4.233817</td>\n",
       "      <td>7.318102</td>\n",
       "      <td>4.429029</td>\n",
       "    </tr>\n",
       "    <tr>\n",
       "      <th>2007-12-07</th>\n",
       "      <td>3.535145</td>\n",
       "      <td>5.269403</td>\n",
       "      <td>3.454106</td>\n",
       "      <td>4.621240</td>\n",
       "      <td>4.092176</td>\n",
       "      <td>3.461037</td>\n",
       "      <td>4.233382</td>\n",
       "      <td>7.316322</td>\n",
       "      <td>4.429745</td>\n",
       "    </tr>\n",
       "    <tr>\n",
       "      <th>2007-12-10</th>\n",
       "      <td>3.560193</td>\n",
       "      <td>5.268940</td>\n",
       "      <td>3.458837</td>\n",
       "      <td>4.626051</td>\n",
       "      <td>4.093844</td>\n",
       "      <td>3.467609</td>\n",
       "      <td>4.237001</td>\n",
       "      <td>7.323804</td>\n",
       "      <td>4.435449</td>\n",
       "    </tr>\n",
       "    <tr>\n",
       "      <th>...</th>\n",
       "      <td>...</td>\n",
       "      <td>...</td>\n",
       "      <td>...</td>\n",
       "      <td>...</td>\n",
       "      <td>...</td>\n",
       "      <td>...</td>\n",
       "      <td>...</td>\n",
       "      <td>...</td>\n",
       "      <td>...</td>\n",
       "    </tr>\n",
       "    <tr>\n",
       "      <th>2011-09-02</th>\n",
       "      <td>2.488234</td>\n",
       "      <td>5.924389</td>\n",
       "      <td>2.747912</td>\n",
       "      <td>5.117874</td>\n",
       "      <td>4.159976</td>\n",
       "      <td>3.250374</td>\n",
       "      <td>4.147885</td>\n",
       "      <td>7.068146</td>\n",
       "      <td>4.278609</td>\n",
       "    </tr>\n",
       "    <tr>\n",
       "      <th>2011-09-06</th>\n",
       "      <td>2.465554</td>\n",
       "      <td>5.939487</td>\n",
       "      <td>2.715357</td>\n",
       "      <td>5.106612</td>\n",
       "      <td>4.168833</td>\n",
       "      <td>3.239071</td>\n",
       "      <td>4.134366</td>\n",
       "      <td>7.060682</td>\n",
       "      <td>4.264790</td>\n",
       "    </tr>\n",
       "    <tr>\n",
       "      <th>2011-09-07</th>\n",
       "      <td>2.505526</td>\n",
       "      <td>5.950460</td>\n",
       "      <td>2.750471</td>\n",
       "      <td>5.119848</td>\n",
       "      <td>4.180981</td>\n",
       "      <td>3.258097</td>\n",
       "      <td>4.120986</td>\n",
       "      <td>7.088926</td>\n",
       "      <td>4.299324</td>\n",
       "    </tr>\n",
       "    <tr>\n",
       "      <th>2011-09-08</th>\n",
       "      <td>2.487404</td>\n",
       "      <td>5.951007</td>\n",
       "      <td>2.736962</td>\n",
       "      <td>5.107459</td>\n",
       "      <td>4.173618</td>\n",
       "      <td>3.266522</td>\n",
       "      <td>4.116432</td>\n",
       "      <td>7.078257</td>\n",
       "      <td>4.287991</td>\n",
       "    </tr>\n",
       "    <tr>\n",
       "      <th>2011-09-09</th>\n",
       "      <td>2.449279</td>\n",
       "      <td>5.933518</td>\n",
       "      <td>2.704711</td>\n",
       "      <td>5.083700</td>\n",
       "      <td>4.153242</td>\n",
       "      <td>3.248046</td>\n",
       "      <td>4.094178</td>\n",
       "      <td>7.051189</td>\n",
       "      <td>4.262821</td>\n",
       "    </tr>\n",
       "    <tr>\n",
       "      <th>2011-09-12</th>\n",
       "      <td>2.446685</td>\n",
       "      <td>5.940013</td>\n",
       "      <td>2.699346</td>\n",
       "      <td>5.090186</td>\n",
       "      <td>4.152456</td>\n",
       "      <td>3.253857</td>\n",
       "      <td>4.096675</td>\n",
       "      <td>7.058130</td>\n",
       "      <td>4.274441</td>\n",
       "    </tr>\n",
       "    <tr>\n",
       "      <th>2011-09-13</th>\n",
       "      <td>2.453588</td>\n",
       "      <td>5.952256</td>\n",
       "      <td>2.725235</td>\n",
       "      <td>5.096385</td>\n",
       "      <td>4.152771</td>\n",
       "      <td>3.259634</td>\n",
       "      <td>4.103304</td>\n",
       "      <td>7.067209</td>\n",
       "      <td>4.271793</td>\n",
       "    </tr>\n",
       "    <tr>\n",
       "      <th>2011-09-14</th>\n",
       "      <td>2.462150</td>\n",
       "      <td>5.964350</td>\n",
       "      <td>2.749832</td>\n",
       "      <td>5.119430</td>\n",
       "      <td>4.154655</td>\n",
       "      <td>3.277145</td>\n",
       "      <td>4.120337</td>\n",
       "      <td>7.080599</td>\n",
       "      <td>4.285516</td>\n",
       "    </tr>\n",
       "    <tr>\n",
       "      <th>2011-09-15</th>\n",
       "      <td>2.483239</td>\n",
       "      <td>5.973708</td>\n",
       "      <td>2.777576</td>\n",
       "      <td>5.136328</td>\n",
       "      <td>4.165114</td>\n",
       "      <td>3.295466</td>\n",
       "      <td>4.146621</td>\n",
       "      <td>7.097640</td>\n",
       "      <td>4.304200</td>\n",
       "    </tr>\n",
       "    <tr>\n",
       "      <th>2011-09-16</th>\n",
       "      <td>2.482404</td>\n",
       "      <td>5.992714</td>\n",
       "      <td>2.793004</td>\n",
       "      <td>5.153234</td>\n",
       "      <td>4.168060</td>\n",
       "      <td>3.300271</td>\n",
       "      <td>4.127941</td>\n",
       "      <td>7.103330</td>\n",
       "      <td>4.311470</td>\n",
       "    </tr>\n",
       "    <tr>\n",
       "      <th>2011-09-19</th>\n",
       "      <td>2.449279</td>\n",
       "      <td>6.020125</td>\n",
       "      <td>2.783776</td>\n",
       "      <td>5.154043</td>\n",
       "      <td>4.161068</td>\n",
       "      <td>3.303585</td>\n",
       "      <td>4.103635</td>\n",
       "      <td>7.093479</td>\n",
       "      <td>4.300003</td>\n",
       "    </tr>\n",
       "    <tr>\n",
       "      <th>2011-09-20</th>\n",
       "      <td>2.420368</td>\n",
       "      <td>6.024537</td>\n",
       "      <td>2.775086</td>\n",
       "      <td>5.163185</td>\n",
       "      <td>4.162315</td>\n",
       "      <td>3.295096</td>\n",
       "      <td>4.100824</td>\n",
       "      <td>7.091817</td>\n",
       "      <td>4.304200</td>\n",
       "    </tr>\n",
       "    <tr>\n",
       "      <th>2011-09-21</th>\n",
       "      <td>2.383243</td>\n",
       "      <td>6.021363</td>\n",
       "      <td>2.733068</td>\n",
       "      <td>5.153407</td>\n",
       "      <td>4.145196</td>\n",
       "      <td>3.257712</td>\n",
       "      <td>4.107425</td>\n",
       "      <td>7.061986</td>\n",
       "      <td>4.276249</td>\n",
       "    </tr>\n",
       "    <tr>\n",
       "      <th>2011-09-22</th>\n",
       "      <td>2.313525</td>\n",
       "      <td>5.996004</td>\n",
       "      <td>2.710713</td>\n",
       "      <td>5.127648</td>\n",
       "      <td>4.125843</td>\n",
       "      <td>3.221273</td>\n",
       "      <td>4.109562</td>\n",
       "      <td>7.029583</td>\n",
       "      <td>4.237579</td>\n",
       "    </tr>\n",
       "    <tr>\n",
       "      <th>2011-09-23</th>\n",
       "      <td>2.309561</td>\n",
       "      <td>6.002157</td>\n",
       "      <td>2.721953</td>\n",
       "      <td>5.131909</td>\n",
       "      <td>4.120500</td>\n",
       "      <td>3.221273</td>\n",
       "      <td>4.099995</td>\n",
       "      <td>7.035647</td>\n",
       "      <td>4.238589</td>\n",
       "    </tr>\n",
       "    <tr>\n",
       "      <th>2011-09-26</th>\n",
       "      <td>2.346602</td>\n",
       "      <td>5.999358</td>\n",
       "      <td>2.745346</td>\n",
       "      <td>5.161982</td>\n",
       "      <td>4.138202</td>\n",
       "      <td>3.236323</td>\n",
       "      <td>4.125359</td>\n",
       "      <td>7.058715</td>\n",
       "      <td>4.272770</td>\n",
       "    </tr>\n",
       "    <tr>\n",
       "      <th>2011-09-27</th>\n",
       "      <td>2.349469</td>\n",
       "      <td>5.989613</td>\n",
       "      <td>2.757475</td>\n",
       "      <td>5.180153</td>\n",
       "      <td>4.156067</td>\n",
       "      <td>3.245323</td>\n",
       "      <td>4.134046</td>\n",
       "      <td>7.069347</td>\n",
       "      <td>4.289226</td>\n",
       "    </tr>\n",
       "    <tr>\n",
       "      <th>2011-09-28</th>\n",
       "      <td>2.299581</td>\n",
       "      <td>5.983961</td>\n",
       "      <td>2.737609</td>\n",
       "      <td>5.179252</td>\n",
       "      <td>4.147095</td>\n",
       "      <td>3.241811</td>\n",
       "      <td>4.126650</td>\n",
       "      <td>7.048439</td>\n",
       "      <td>4.277638</td>\n",
       "    </tr>\n",
       "    <tr>\n",
       "      <th>2011-09-29</th>\n",
       "      <td>2.308567</td>\n",
       "      <td>5.967607</td>\n",
       "      <td>2.763800</td>\n",
       "      <td>5.188335</td>\n",
       "      <td>4.157319</td>\n",
       "      <td>3.236716</td>\n",
       "      <td>4.136446</td>\n",
       "      <td>7.056520</td>\n",
       "      <td>4.302442</td>\n",
       "    </tr>\n",
       "    <tr>\n",
       "      <th>2011-09-30</th>\n",
       "      <td>2.258633</td>\n",
       "      <td>5.943639</td>\n",
       "      <td>2.722610</td>\n",
       "      <td>5.164043</td>\n",
       "      <td>4.154028</td>\n",
       "      <td>3.214466</td>\n",
       "      <td>4.125520</td>\n",
       "      <td>7.031229</td>\n",
       "      <td>4.285378</td>\n",
       "    </tr>\n",
       "    <tr>\n",
       "      <th>2011-10-03</th>\n",
       "      <td>2.186051</td>\n",
       "      <td>5.925859</td>\n",
       "      <td>2.687167</td>\n",
       "      <td>5.154966</td>\n",
       "      <td>4.128424</td>\n",
       "      <td>3.199897</td>\n",
       "      <td>4.099166</td>\n",
       "      <td>7.002365</td>\n",
       "      <td>4.264790</td>\n",
       "    </tr>\n",
       "    <tr>\n",
       "      <th>2011-10-04</th>\n",
       "      <td>2.210470</td>\n",
       "      <td>5.920237</td>\n",
       "      <td>2.698673</td>\n",
       "      <td>5.163299</td>\n",
       "      <td>4.129873</td>\n",
       "      <td>3.232384</td>\n",
       "      <td>4.101817</td>\n",
       "      <td>7.024605</td>\n",
       "      <td>4.288128</td>\n",
       "    </tr>\n",
       "    <tr>\n",
       "      <th>2011-10-05</th>\n",
       "      <td>2.237513</td>\n",
       "      <td>5.935555</td>\n",
       "      <td>2.725890</td>\n",
       "      <td>5.175302</td>\n",
       "      <td>4.132764</td>\n",
       "      <td>3.253857</td>\n",
       "      <td>4.099166</td>\n",
       "      <td>7.042312</td>\n",
       "      <td>4.303389</td>\n",
       "    </tr>\n",
       "    <tr>\n",
       "      <th>2011-10-06</th>\n",
       "      <td>2.290513</td>\n",
       "      <td>5.933226</td>\n",
       "      <td>2.742774</td>\n",
       "      <td>5.202302</td>\n",
       "      <td>4.140114</td>\n",
       "      <td>3.271089</td>\n",
       "      <td>4.103800</td>\n",
       "      <td>7.060451</td>\n",
       "      <td>4.302578</td>\n",
       "    </tr>\n",
       "    <tr>\n",
       "      <th>2011-10-07</th>\n",
       "      <td>2.273156</td>\n",
       "      <td>5.912962</td>\n",
       "      <td>2.740840</td>\n",
       "      <td>5.206147</td>\n",
       "      <td>4.145196</td>\n",
       "      <td>3.267666</td>\n",
       "      <td>4.111202</td>\n",
       "      <td>7.052254</td>\n",
       "      <td>4.298101</td>\n",
       "    </tr>\n",
       "    <tr>\n",
       "      <th>2011-10-10</th>\n",
       "      <td>2.311545</td>\n",
       "      <td>5.963091</td>\n",
       "      <td>2.781301</td>\n",
       "      <td>5.229074</td>\n",
       "      <td>4.165579</td>\n",
       "      <td>3.293612</td>\n",
       "      <td>4.125035</td>\n",
       "      <td>7.085809</td>\n",
       "      <td>4.334411</td>\n",
       "    </tr>\n",
       "    <tr>\n",
       "      <th>2011-10-11</th>\n",
       "      <td>2.332144</td>\n",
       "      <td>5.992189</td>\n",
       "      <td>2.781301</td>\n",
       "      <td>5.220356</td>\n",
       "      <td>4.158258</td>\n",
       "      <td>3.295837</td>\n",
       "      <td>4.110054</td>\n",
       "      <td>7.086353</td>\n",
       "      <td>4.334280</td>\n",
       "    </tr>\n",
       "    <tr>\n",
       "      <th>2011-10-12</th>\n",
       "      <td>2.307573</td>\n",
       "      <td>5.996925</td>\n",
       "      <td>2.797281</td>\n",
       "      <td>5.226392</td>\n",
       "      <td>4.164026</td>\n",
       "      <td>3.294354</td>\n",
       "      <td>4.138361</td>\n",
       "      <td>7.096100</td>\n",
       "      <td>4.345881</td>\n",
       "    </tr>\n",
       "    <tr>\n",
       "      <th>2011-10-13</th>\n",
       "      <td>2.312535</td>\n",
       "      <td>6.012321</td>\n",
       "      <td>2.786245</td>\n",
       "      <td>5.230146</td>\n",
       "      <td>4.162470</td>\n",
       "      <td>3.302481</td>\n",
       "      <td>4.132924</td>\n",
       "      <td>7.093122</td>\n",
       "      <td>4.335590</td>\n",
       "    </tr>\n",
       "    <tr>\n",
       "      <th>2011-10-14</th>\n",
       "      <td>2.328253</td>\n",
       "      <td>6.045005</td>\n",
       "      <td>2.809403</td>\n",
       "      <td>5.249810</td>\n",
       "      <td>4.170070</td>\n",
       "      <td>3.305787</td>\n",
       "      <td>4.130998</td>\n",
       "      <td>7.110353</td>\n",
       "      <td>4.358118</td>\n",
       "    </tr>\n",
       "  </tbody>\n",
       "</table>\n",
       "<p>1000 rows × 9 columns</p>\n",
       "</div>"
      ],
      "text/plain": [
       "                  AA      AAPL        GE       IBM       JNJ      MSFT  \\\n",
       "2007-10-29  3.621938  5.220842  3.539799  4.670771  4.045329  3.458837   \n",
       "2007-10-30  3.595393  5.231109  3.537766  4.664853  4.042876  3.487375   \n",
       "2007-10-31  3.605226  5.246761  3.554491  4.682224  4.048301  3.521644   \n",
       "2007-11-01  3.561614  5.233459  3.534270  4.660794  4.040416  3.528417   \n",
       "2007-11-02  3.578786  5.235750  3.534270  4.668990  4.042174  3.528417   \n",
       "2007-11-05  3.561614  5.226714  3.530763  4.658521  4.037774  3.519573   \n",
       "2007-11-06  3.579065  5.256401  3.530470  4.656528  4.039536  3.510650   \n",
       "2007-11-07  3.548467  5.227358  3.502550  4.641406  4.028739  3.485845   \n",
       "2007-11-08  3.555348  5.167468  3.501043  4.595625  4.039360  3.463859   \n",
       "2007-11-09  3.540089  5.108185  3.484619  4.538817  4.048126  3.434310   \n",
       "2007-11-12  3.506458  5.035393  3.481240  4.550714  4.065602  3.423937   \n",
       "2007-11-13  3.527536  5.135563  3.505858  4.587719  4.080584  3.459152   \n",
       "2007-11-14  3.533687  5.112650  3.500741  4.570165  4.074312  3.443618   \n",
       "2007-11-15  3.519277  5.101694  3.482777  4.571717  4.074142  3.438493   \n",
       "2007-11-16  3.518684  5.114334  3.491647  4.583129  4.086984  3.448081   \n",
       "2007-11-19  3.484005  5.099562  3.478776  4.558288  4.084631  3.444257   \n",
       "2007-11-20  3.492865  5.129011  3.475686  4.569957  4.085472  3.462606   \n",
       "2007-11-21  3.486763  5.126698  3.452524  4.558288  4.078046  3.452207   \n",
       "2007-11-23  3.486151  5.144816  3.466048  4.576050  4.080246  3.448717   \n",
       "2007-11-26  3.478467  5.150629  3.440739  4.555875  4.087656  3.414772   \n",
       "2007-11-27  3.483085  5.163700  3.460095  4.573886  4.093010  3.417399   \n",
       "2007-11-28  3.516013  5.194178  3.486763  4.607468  4.101982  3.436565   \n",
       "2007-11-29  3.525478  5.216511  3.478158  4.608664  4.102809  3.433342   \n",
       "2007-11-30  3.520461  5.205215  3.482163  4.586803  4.093177  3.433665   \n",
       "2007-12-03  3.495901  5.186603  3.446171  4.592996  4.092677  3.413126   \n",
       "2007-12-04  3.489208  5.191901  3.427515  4.600560  4.096010  3.408835   \n",
       "2007-12-05  3.499231  5.223055  3.440098  4.614823  4.099995  3.449988   \n",
       "2007-12-06  3.506158  5.246761  3.455054  4.628887  4.101320  3.461665   \n",
       "2007-12-07  3.535145  5.269403  3.454106  4.621240  4.092176  3.461037   \n",
       "2007-12-10  3.560193  5.268940  3.458837  4.626051  4.093844  3.467609   \n",
       "...              ...       ...       ...       ...       ...       ...   \n",
       "2011-09-02  2.488234  5.924389  2.747912  5.117874  4.159976  3.250374   \n",
       "2011-09-06  2.465554  5.939487  2.715357  5.106612  4.168833  3.239071   \n",
       "2011-09-07  2.505526  5.950460  2.750471  5.119848  4.180981  3.258097   \n",
       "2011-09-08  2.487404  5.951007  2.736962  5.107459  4.173618  3.266522   \n",
       "2011-09-09  2.449279  5.933518  2.704711  5.083700  4.153242  3.248046   \n",
       "2011-09-12  2.446685  5.940013  2.699346  5.090186  4.152456  3.253857   \n",
       "2011-09-13  2.453588  5.952256  2.725235  5.096385  4.152771  3.259634   \n",
       "2011-09-14  2.462150  5.964350  2.749832  5.119430  4.154655  3.277145   \n",
       "2011-09-15  2.483239  5.973708  2.777576  5.136328  4.165114  3.295466   \n",
       "2011-09-16  2.482404  5.992714  2.793004  5.153234  4.168060  3.300271   \n",
       "2011-09-19  2.449279  6.020125  2.783776  5.154043  4.161068  3.303585   \n",
       "2011-09-20  2.420368  6.024537  2.775086  5.163185  4.162315  3.295096   \n",
       "2011-09-21  2.383243  6.021363  2.733068  5.153407  4.145196  3.257712   \n",
       "2011-09-22  2.313525  5.996004  2.710713  5.127648  4.125843  3.221273   \n",
       "2011-09-23  2.309561  6.002157  2.721953  5.131909  4.120500  3.221273   \n",
       "2011-09-26  2.346602  5.999358  2.745346  5.161982  4.138202  3.236323   \n",
       "2011-09-27  2.349469  5.989613  2.757475  5.180153  4.156067  3.245323   \n",
       "2011-09-28  2.299581  5.983961  2.737609  5.179252  4.147095  3.241811   \n",
       "2011-09-29  2.308567  5.967607  2.763800  5.188335  4.157319  3.236716   \n",
       "2011-09-30  2.258633  5.943639  2.722610  5.164043  4.154028  3.214466   \n",
       "2011-10-03  2.186051  5.925859  2.687167  5.154966  4.128424  3.199897   \n",
       "2011-10-04  2.210470  5.920237  2.698673  5.163299  4.129873  3.232384   \n",
       "2011-10-05  2.237513  5.935555  2.725890  5.175302  4.132764  3.253857   \n",
       "2011-10-06  2.290513  5.933226  2.742774  5.202302  4.140114  3.271089   \n",
       "2011-10-07  2.273156  5.912962  2.740840  5.206147  4.145196  3.267666   \n",
       "2011-10-10  2.311545  5.963091  2.781301  5.229074  4.165579  3.293612   \n",
       "2011-10-11  2.332144  5.992189  2.781301  5.220356  4.158258  3.295837   \n",
       "2011-10-12  2.307573  5.996925  2.797281  5.226392  4.164026  3.294354   \n",
       "2011-10-13  2.312535  6.012321  2.786245  5.230146  4.162470  3.302481   \n",
       "2011-10-14  2.328253  6.045005  2.809403  5.249810  4.170070  3.305787   \n",
       "\n",
       "                 PEP       SPX       XOM  \n",
       "2007-10-29  4.184642  7.340174  4.448633  \n",
       "2007-10-30  4.186620  7.333689  4.421848  \n",
       "2007-10-31  4.184947  7.345610  4.431174  \n",
       "2007-11-01  4.166820  7.318831  4.392472  \n",
       "2007-11-02  4.174849  7.319633  4.386019  \n",
       "2007-11-05  4.171923  7.314666  4.382901  \n",
       "2007-11-06  4.181897  7.326643  4.413525  \n",
       "2007-11-07  4.166045  7.296834  4.381527  \n",
       "2007-11-08  4.182050  7.296257  4.406719  \n",
       "2007-11-09  4.181745  7.281867  4.377516  \n",
       "2007-11-12  4.169297  7.271829  4.350536  \n",
       "2007-11-13  4.179757  7.300507  4.377893  \n",
       "2007-11-14  4.189503  7.293412  4.371345  \n",
       "2007-11-15  4.183118  7.280112  4.350020  \n",
       "2007-11-16  4.190866  7.285328  4.357222  \n",
       "2007-11-19  4.203199  7.267714  4.345492  \n",
       "2007-11-20  4.200055  7.272190  4.388630  \n",
       "2007-11-21  4.202750  7.256135  4.379774  \n",
       "2007-11-23  4.209012  7.272884  4.393955  \n",
       "2007-11-26  4.198104  7.249371  4.363990  \n",
       "2007-11-27  4.214347  7.264191  4.372103  \n",
       "2007-11-28  4.230622  7.292351  4.389747  \n",
       "2007-11-29  4.222445  7.292827  4.397408  \n",
       "2007-11-30  4.230913  7.300567  4.403788  \n",
       "2007-12-03  4.223031  7.294663  4.400358  \n",
       "2007-12-04  4.223910  7.288101  4.392101  \n",
       "2007-12-05  4.223910  7.303177  4.412313  \n",
       "2007-12-06  4.233817  7.318102  4.429029  \n",
       "2007-12-07  4.233382  7.316322  4.429745  \n",
       "2007-12-10  4.237001  7.323804  4.435449  \n",
       "...              ...       ...       ...  \n",
       "2011-09-02  4.147885  7.068146  4.278609  \n",
       "2011-09-06  4.134366  7.060682  4.264790  \n",
       "2011-09-07  4.120986  7.088926  4.299324  \n",
       "2011-09-08  4.116432  7.078257  4.287991  \n",
       "2011-09-09  4.094178  7.051189  4.262821  \n",
       "2011-09-12  4.096675  7.058130  4.274441  \n",
       "2011-09-13  4.103304  7.067209  4.271793  \n",
       "2011-09-14  4.120337  7.080599  4.285516  \n",
       "2011-09-15  4.146621  7.097640  4.304200  \n",
       "2011-09-16  4.127941  7.103330  4.311470  \n",
       "2011-09-19  4.103635  7.093479  4.300003  \n",
       "2011-09-20  4.100824  7.091817  4.304200  \n",
       "2011-09-21  4.107425  7.061986  4.276249  \n",
       "2011-09-22  4.109562  7.029583  4.237579  \n",
       "2011-09-23  4.099995  7.035647  4.238589  \n",
       "2011-09-26  4.125359  7.058715  4.272770  \n",
       "2011-09-27  4.134046  7.069347  4.289226  \n",
       "2011-09-28  4.126650  7.048439  4.277638  \n",
       "2011-09-29  4.136446  7.056520  4.302442  \n",
       "2011-09-30  4.125520  7.031229  4.285378  \n",
       "2011-10-03  4.099166  7.002365  4.264790  \n",
       "2011-10-04  4.101817  7.024605  4.288128  \n",
       "2011-10-05  4.099166  7.042312  4.303389  \n",
       "2011-10-06  4.103800  7.060451  4.302578  \n",
       "2011-10-07  4.111202  7.052254  4.298101  \n",
       "2011-10-10  4.125035  7.085809  4.334411  \n",
       "2011-10-11  4.110054  7.086353  4.334280  \n",
       "2011-10-12  4.138361  7.096100  4.345881  \n",
       "2011-10-13  4.132924  7.093122  4.335590  \n",
       "2011-10-14  4.130998  7.110353  4.358118  \n",
       "\n",
       "[1000 rows x 9 columns]"
      ]
     },
     "execution_count": 154,
     "metadata": {},
     "output_type": "execute_result"
    }
   ],
   "source": [
    "np.log(close_px)"
   ]
  },
  {
   "cell_type": "markdown",
   "metadata": {},
   "source": [
    "Hierarchical indexing\n",
    "------------------------"
   ]
  },
  {
   "cell_type": "code",
   "execution_count": 155,
   "metadata": {
    "collapsed": false
   },
   "outputs": [
    {
     "data": {
      "text/html": [
       "<div>\n",
       "<table border=\"1\" class=\"dataframe\">\n",
       "  <thead>\n",
       "    <tr style=\"text-align: right;\">\n",
       "      <th></th>\n",
       "      <th></th>\n",
       "      <th>A</th>\n",
       "      <th>B</th>\n",
       "      <th>C</th>\n",
       "    </tr>\n",
       "  </thead>\n",
       "  <tbody>\n",
       "    <tr>\n",
       "      <th rowspan=\"3\" valign=\"top\">foo</th>\n",
       "      <th>one</th>\n",
       "      <td>0.623840</td>\n",
       "      <td>-2.410687</td>\n",
       "      <td>-0.801873</td>\n",
       "    </tr>\n",
       "    <tr>\n",
       "      <th>two</th>\n",
       "      <td>0.508569</td>\n",
       "      <td>0.768385</td>\n",
       "      <td>-0.567528</td>\n",
       "    </tr>\n",
       "    <tr>\n",
       "      <th>three</th>\n",
       "      <td>-0.237210</td>\n",
       "      <td>-0.184590</td>\n",
       "      <td>2.709648</td>\n",
       "    </tr>\n",
       "    <tr>\n",
       "      <th rowspan=\"2\" valign=\"top\">bar</th>\n",
       "      <th>one</th>\n",
       "      <td>0.246020</td>\n",
       "      <td>0.636503</td>\n",
       "      <td>1.029029</td>\n",
       "    </tr>\n",
       "    <tr>\n",
       "      <th>two</th>\n",
       "      <td>-0.406674</td>\n",
       "      <td>-0.057052</td>\n",
       "      <td>-1.458452</td>\n",
       "    </tr>\n",
       "    <tr>\n",
       "      <th rowspan=\"2\" valign=\"top\">baz</th>\n",
       "      <th>two</th>\n",
       "      <td>-0.921052</td>\n",
       "      <td>0.874554</td>\n",
       "      <td>-1.078501</td>\n",
       "    </tr>\n",
       "    <tr>\n",
       "      <th>three</th>\n",
       "      <td>-0.282513</td>\n",
       "      <td>0.773144</td>\n",
       "      <td>-0.665951</td>\n",
       "    </tr>\n",
       "    <tr>\n",
       "      <th rowspan=\"3\" valign=\"top\">qux</th>\n",
       "      <th>one</th>\n",
       "      <td>-0.080384</td>\n",
       "      <td>-0.563710</td>\n",
       "      <td>0.251808</td>\n",
       "    </tr>\n",
       "    <tr>\n",
       "      <th>two</th>\n",
       "      <td>-1.333727</td>\n",
       "      <td>-0.078392</td>\n",
       "      <td>0.529107</td>\n",
       "    </tr>\n",
       "    <tr>\n",
       "      <th>three</th>\n",
       "      <td>-0.517454</td>\n",
       "      <td>1.104363</td>\n",
       "      <td>-1.954480</td>\n",
       "    </tr>\n",
       "  </tbody>\n",
       "</table>\n",
       "</div>"
      ],
      "text/plain": [
       "                  A         B         C\n",
       "foo one    0.623840 -2.410687 -0.801873\n",
       "    two    0.508569  0.768385 -0.567528\n",
       "    three -0.237210 -0.184590  2.709648\n",
       "bar one    0.246020  0.636503  1.029029\n",
       "    two   -0.406674 -0.057052 -1.458452\n",
       "baz two   -0.921052  0.874554 -1.078501\n",
       "    three -0.282513  0.773144 -0.665951\n",
       "qux one   -0.080384 -0.563710  0.251808\n",
       "    two   -1.333727 -0.078392  0.529107\n",
       "    three -0.517454  1.104363 -1.954480"
      ]
     },
     "execution_count": 155,
     "metadata": {},
     "output_type": "execute_result"
    }
   ],
   "source": [
    "index = MultiIndex(levels=[['foo', 'bar', 'baz', 'qux'],\n",
    "                                   ['one', 'two', 'three']],\n",
    "                           labels=[[0, 0, 0, 1, 1, 2, 2, 3, 3, 3],\n",
    "                                   [0, 1, 2, 0, 1, 1, 2, 0, 1, 2]])\n",
    "hdf = DataFrame(np.random.randn(10, 3), index=index,\n",
    "                columns=['A', 'B', 'C'])\n",
    "hdf"
   ]
  },
  {
   "cell_type": "code",
   "execution_count": 156,
   "metadata": {
    "collapsed": false
   },
   "outputs": [
    {
     "data": {
      "text/html": [
       "<div>\n",
       "<table border=\"1\" class=\"dataframe\">\n",
       "  <thead>\n",
       "    <tr style=\"text-align: right;\">\n",
       "      <th></th>\n",
       "      <th>A</th>\n",
       "      <th>B</th>\n",
       "      <th>C</th>\n",
       "    </tr>\n",
       "  </thead>\n",
       "  <tbody>\n",
       "    <tr>\n",
       "      <th>one</th>\n",
       "      <td>0.623840</td>\n",
       "      <td>-2.410687</td>\n",
       "      <td>-0.801873</td>\n",
       "    </tr>\n",
       "    <tr>\n",
       "      <th>two</th>\n",
       "      <td>0.508569</td>\n",
       "      <td>0.768385</td>\n",
       "      <td>-0.567528</td>\n",
       "    </tr>\n",
       "    <tr>\n",
       "      <th>three</th>\n",
       "      <td>-0.237210</td>\n",
       "      <td>-0.184590</td>\n",
       "      <td>2.709648</td>\n",
       "    </tr>\n",
       "  </tbody>\n",
       "</table>\n",
       "</div>"
      ],
      "text/plain": [
       "              A         B         C\n",
       "one    0.623840 -2.410687 -0.801873\n",
       "two    0.508569  0.768385 -0.567528\n",
       "three -0.237210 -0.184590  2.709648"
      ]
     },
     "execution_count": 156,
     "metadata": {},
     "output_type": "execute_result"
    }
   ],
   "source": [
    "hdf.ix['foo']"
   ]
  },
  {
   "cell_type": "code",
   "execution_count": 157,
   "metadata": {
    "collapsed": false
   },
   "outputs": [
    {
     "data": {
      "text/html": [
       "<div>\n",
       "<table border=\"1\" class=\"dataframe\">\n",
       "  <thead>\n",
       "    <tr style=\"text-align: right;\">\n",
       "      <th></th>\n",
       "      <th></th>\n",
       "      <th>A</th>\n",
       "      <th>B</th>\n",
       "      <th>C</th>\n",
       "    </tr>\n",
       "  </thead>\n",
       "  <tbody>\n",
       "    <tr>\n",
       "      <th rowspan=\"3\" valign=\"top\">foo</th>\n",
       "      <th>one</th>\n",
       "      <td>0.000000</td>\n",
       "      <td>0.000000</td>\n",
       "      <td>0.000000</td>\n",
       "    </tr>\n",
       "    <tr>\n",
       "      <th>two</th>\n",
       "      <td>0.000000</td>\n",
       "      <td>0.000000</td>\n",
       "      <td>0.000000</td>\n",
       "    </tr>\n",
       "    <tr>\n",
       "      <th>three</th>\n",
       "      <td>0.000000</td>\n",
       "      <td>0.000000</td>\n",
       "      <td>0.000000</td>\n",
       "    </tr>\n",
       "    <tr>\n",
       "      <th rowspan=\"2\" valign=\"top\">bar</th>\n",
       "      <th>one</th>\n",
       "      <td>0.246020</td>\n",
       "      <td>0.636503</td>\n",
       "      <td>1.029029</td>\n",
       "    </tr>\n",
       "    <tr>\n",
       "      <th>two</th>\n",
       "      <td>-0.406674</td>\n",
       "      <td>-0.057052</td>\n",
       "      <td>-1.458452</td>\n",
       "    </tr>\n",
       "    <tr>\n",
       "      <th rowspan=\"2\" valign=\"top\">baz</th>\n",
       "      <th>two</th>\n",
       "      <td>-0.921052</td>\n",
       "      <td>0.874554</td>\n",
       "      <td>-1.078501</td>\n",
       "    </tr>\n",
       "    <tr>\n",
       "      <th>three</th>\n",
       "      <td>-0.282513</td>\n",
       "      <td>0.773144</td>\n",
       "      <td>-0.665951</td>\n",
       "    </tr>\n",
       "    <tr>\n",
       "      <th rowspan=\"3\" valign=\"top\">qux</th>\n",
       "      <th>one</th>\n",
       "      <td>-0.080384</td>\n",
       "      <td>-0.563710</td>\n",
       "      <td>0.251808</td>\n",
       "    </tr>\n",
       "    <tr>\n",
       "      <th>two</th>\n",
       "      <td>-1.333727</td>\n",
       "      <td>-0.078392</td>\n",
       "      <td>0.529107</td>\n",
       "    </tr>\n",
       "    <tr>\n",
       "      <th>three</th>\n",
       "      <td>-0.517454</td>\n",
       "      <td>1.104363</td>\n",
       "      <td>-1.954480</td>\n",
       "    </tr>\n",
       "  </tbody>\n",
       "</table>\n",
       "</div>"
      ],
      "text/plain": [
       "                  A         B         C\n",
       "foo one    0.000000  0.000000  0.000000\n",
       "    two    0.000000  0.000000  0.000000\n",
       "    three  0.000000  0.000000  0.000000\n",
       "bar one    0.246020  0.636503  1.029029\n",
       "    two   -0.406674 -0.057052 -1.458452\n",
       "baz two   -0.921052  0.874554 -1.078501\n",
       "    three -0.282513  0.773144 -0.665951\n",
       "qux one   -0.080384 -0.563710  0.251808\n",
       "    two   -1.333727 -0.078392  0.529107\n",
       "    three -0.517454  1.104363 -1.954480"
      ]
     },
     "execution_count": 157,
     "metadata": {},
     "output_type": "execute_result"
    }
   ],
   "source": [
    "hdf.ix['foo'] = 0\n",
    "hdf"
   ]
  },
  {
   "cell_type": "code",
   "execution_count": 158,
   "metadata": {
    "collapsed": false
   },
   "outputs": [
    {
     "data": {
      "text/plain": [
       "0.24601987202663883"
      ]
     },
     "execution_count": 158,
     "metadata": {},
     "output_type": "execute_result"
    }
   ],
   "source": [
    "hdf.ix['bar','one']['A']"
   ]
  },
  {
   "cell_type": "markdown",
   "metadata": {},
   "source": [
    "Stacking and unstacking\n",
    "-----------------------"
   ]
  },
  {
   "cell_type": "code",
   "execution_count": 159,
   "metadata": {
    "collapsed": false
   },
   "outputs": [
    {
     "data": {
      "text/html": [
       "<div>\n",
       "<table border=\"1\" class=\"dataframe\">\n",
       "  <thead>\n",
       "    <tr>\n",
       "      <th></th>\n",
       "      <th></th>\n",
       "      <th>A</th>\n",
       "      <th colspan=\"2\" halign=\"left\">B</th>\n",
       "      <th>A</th>\n",
       "    </tr>\n",
       "    <tr>\n",
       "      <th></th>\n",
       "      <th></th>\n",
       "      <th>cat</th>\n",
       "      <th>dog</th>\n",
       "      <th>cat</th>\n",
       "      <th>dog</th>\n",
       "    </tr>\n",
       "  </thead>\n",
       "  <tbody>\n",
       "    <tr>\n",
       "      <th rowspan=\"2\" valign=\"top\">bar</th>\n",
       "      <th>one</th>\n",
       "      <td>-2.631352</td>\n",
       "      <td>-0.513803</td>\n",
       "      <td>-1.037200</td>\n",
       "      <td>-1.468317</td>\n",
       "    </tr>\n",
       "    <tr>\n",
       "      <th>two</th>\n",
       "      <td>0.099119</td>\n",
       "      <td>-1.894265</td>\n",
       "      <td>-0.658288</td>\n",
       "      <td>-0.704874</td>\n",
       "    </tr>\n",
       "    <tr>\n",
       "      <th rowspan=\"2\" valign=\"top\">baz</th>\n",
       "      <th>one</th>\n",
       "      <td>-0.072433</td>\n",
       "      <td>-0.843239</td>\n",
       "      <td>-0.907227</td>\n",
       "      <td>2.576575</td>\n",
       "    </tr>\n",
       "    <tr>\n",
       "      <th>two</th>\n",
       "      <td>0.743173</td>\n",
       "      <td>-0.151601</td>\n",
       "      <td>-0.561562</td>\n",
       "      <td>-0.343702</td>\n",
       "    </tr>\n",
       "    <tr>\n",
       "      <th rowspan=\"2\" valign=\"top\">foo</th>\n",
       "      <th>one</th>\n",
       "      <td>-1.114722</td>\n",
       "      <td>-0.368340</td>\n",
       "      <td>-0.715684</td>\n",
       "      <td>0.608736</td>\n",
       "    </tr>\n",
       "    <tr>\n",
       "      <th>two</th>\n",
       "      <td>1.048899</td>\n",
       "      <td>-0.887805</td>\n",
       "      <td>-1.184470</td>\n",
       "      <td>0.858906</td>\n",
       "    </tr>\n",
       "    <tr>\n",
       "      <th rowspan=\"2\" valign=\"top\">qux</th>\n",
       "      <th>one</th>\n",
       "      <td>-0.426258</td>\n",
       "      <td>0.870646</td>\n",
       "      <td>0.660788</td>\n",
       "      <td>-0.582021</td>\n",
       "    </tr>\n",
       "    <tr>\n",
       "      <th>two</th>\n",
       "      <td>-0.071411</td>\n",
       "      <td>1.484308</td>\n",
       "      <td>0.086960</td>\n",
       "      <td>0.155612</td>\n",
       "    </tr>\n",
       "  </tbody>\n",
       "</table>\n",
       "</div>"
      ],
      "text/plain": [
       "                A         B                   A\n",
       "              cat       dog       cat       dog\n",
       "bar one -2.631352 -0.513803 -1.037200 -1.468317\n",
       "    two  0.099119 -1.894265 -0.658288 -0.704874\n",
       "baz one -0.072433 -0.843239 -0.907227  2.576575\n",
       "    two  0.743173 -0.151601 -0.561562 -0.343702\n",
       "foo one -1.114722 -0.368340 -0.715684  0.608736\n",
       "    two  1.048899 -0.887805 -1.184470  0.858906\n",
       "qux one -0.426258  0.870646  0.660788 -0.582021\n",
       "    two -0.071411  1.484308  0.086960  0.155612"
      ]
     },
     "execution_count": 159,
     "metadata": {},
     "output_type": "execute_result"
    }
   ],
   "source": [
    "tuples = zip(*[['bar', 'bar', 'baz', 'baz',\n",
    "                'foo', 'foo', 'qux', 'qux'],\n",
    "               ['one', 'two', 'one', 'two',\n",
    "                'one', 'two', 'one', 'two']])\n",
    "index = MultiIndex.from_tuples(tuples)\n",
    "columns = MultiIndex.from_tuples([('A', 'cat'), ('B', 'dog'),\n",
    "                                  ('B', 'cat'), ('A', 'dog')])\n",
    "df = DataFrame(np.random.randn(8, 4), index=index, columns=columns)\n",
    "df"
   ]
  },
  {
   "cell_type": "code",
   "execution_count": 160,
   "metadata": {
    "collapsed": false
   },
   "outputs": [
    {
     "data": {
      "text/html": [
       "<div>\n",
       "<table border=\"1\" class=\"dataframe\">\n",
       "  <thead>\n",
       "    <tr>\n",
       "      <th></th>\n",
       "      <th></th>\n",
       "      <th>A</th>\n",
       "      <th colspan=\"2\" halign=\"left\">B</th>\n",
       "      <th>A</th>\n",
       "    </tr>\n",
       "    <tr>\n",
       "      <th></th>\n",
       "      <th></th>\n",
       "      <th>cat</th>\n",
       "      <th>dog</th>\n",
       "      <th>cat</th>\n",
       "      <th>dog</th>\n",
       "    </tr>\n",
       "  </thead>\n",
       "  <tbody>\n",
       "    <tr>\n",
       "      <th rowspan=\"2\" valign=\"top\">bar</th>\n",
       "      <th>one</th>\n",
       "      <td>-2.631352</td>\n",
       "      <td>-0.513803</td>\n",
       "      <td>-1.037200</td>\n",
       "      <td>-1.468317</td>\n",
       "    </tr>\n",
       "    <tr>\n",
       "      <th>two</th>\n",
       "      <td>0.099119</td>\n",
       "      <td>-1.894265</td>\n",
       "      <td>-0.658288</td>\n",
       "      <td>-0.704874</td>\n",
       "    </tr>\n",
       "    <tr>\n",
       "      <th>baz</th>\n",
       "      <th>one</th>\n",
       "      <td>-0.072433</td>\n",
       "      <td>-0.843239</td>\n",
       "      <td>-0.907227</td>\n",
       "      <td>2.576575</td>\n",
       "    </tr>\n",
       "    <tr>\n",
       "      <th rowspan=\"2\" valign=\"top\">foo</th>\n",
       "      <th>one</th>\n",
       "      <td>-1.114722</td>\n",
       "      <td>-0.368340</td>\n",
       "      <td>-0.715684</td>\n",
       "      <td>0.608736</td>\n",
       "    </tr>\n",
       "    <tr>\n",
       "      <th>two</th>\n",
       "      <td>1.048899</td>\n",
       "      <td>-0.887805</td>\n",
       "      <td>-1.184470</td>\n",
       "      <td>0.858906</td>\n",
       "    </tr>\n",
       "    <tr>\n",
       "      <th>qux</th>\n",
       "      <th>two</th>\n",
       "      <td>-0.071411</td>\n",
       "      <td>1.484308</td>\n",
       "      <td>0.086960</td>\n",
       "      <td>0.155612</td>\n",
       "    </tr>\n",
       "  </tbody>\n",
       "</table>\n",
       "</div>"
      ],
      "text/plain": [
       "                A         B                   A\n",
       "              cat       dog       cat       dog\n",
       "bar one -2.631352 -0.513803 -1.037200 -1.468317\n",
       "    two  0.099119 -1.894265 -0.658288 -0.704874\n",
       "baz one -0.072433 -0.843239 -0.907227  2.576575\n",
       "foo one -1.114722 -0.368340 -0.715684  0.608736\n",
       "    two  1.048899 -0.887805 -1.184470  0.858906\n",
       "qux two -0.071411  1.484308  0.086960  0.155612"
      ]
     },
     "execution_count": 160,
     "metadata": {},
     "output_type": "execute_result"
    }
   ],
   "source": [
    "df2 = df.ix[[0, 1, 2, 4, 5, 7]]\n",
    "df2"
   ]
  },
  {
   "cell_type": "code",
   "execution_count": 161,
   "metadata": {
    "collapsed": false
   },
   "outputs": [
    {
     "data": {
      "text/html": [
       "<div>\n",
       "<table border=\"1\" class=\"dataframe\">\n",
       "  <thead>\n",
       "    <tr>\n",
       "      <th></th>\n",
       "      <th colspan=\"2\" halign=\"left\">dog</th>\n",
       "      <th colspan=\"2\" halign=\"left\">cat</th>\n",
       "    </tr>\n",
       "    <tr>\n",
       "      <th></th>\n",
       "      <th>one</th>\n",
       "      <th>two</th>\n",
       "      <th>one</th>\n",
       "      <th>two</th>\n",
       "    </tr>\n",
       "  </thead>\n",
       "  <tbody>\n",
       "    <tr>\n",
       "      <th>bar</th>\n",
       "      <td>-0.513803</td>\n",
       "      <td>-1.894265</td>\n",
       "      <td>-1.037200</td>\n",
       "      <td>-0.658288</td>\n",
       "    </tr>\n",
       "    <tr>\n",
       "      <th>baz</th>\n",
       "      <td>-0.843239</td>\n",
       "      <td>-0.151601</td>\n",
       "      <td>-0.907227</td>\n",
       "      <td>-0.561562</td>\n",
       "    </tr>\n",
       "    <tr>\n",
       "      <th>foo</th>\n",
       "      <td>-0.368340</td>\n",
       "      <td>-0.887805</td>\n",
       "      <td>-0.715684</td>\n",
       "      <td>-1.184470</td>\n",
       "    </tr>\n",
       "    <tr>\n",
       "      <th>qux</th>\n",
       "      <td>0.870646</td>\n",
       "      <td>1.484308</td>\n",
       "      <td>0.660788</td>\n",
       "      <td>0.086960</td>\n",
       "    </tr>\n",
       "  </tbody>\n",
       "</table>\n",
       "</div>"
      ],
      "text/plain": [
       "          dog                 cat          \n",
       "          one       two       one       two\n",
       "bar -0.513803 -1.894265 -1.037200 -0.658288\n",
       "baz -0.843239 -0.151601 -0.907227 -0.561562\n",
       "foo -0.368340 -0.887805 -0.715684 -1.184470\n",
       "qux  0.870646  1.484308  0.660788  0.086960"
      ]
     },
     "execution_count": 161,
     "metadata": {},
     "output_type": "execute_result"
    }
   ],
   "source": [
    "df.unstack()['B']"
   ]
  },
  {
   "cell_type": "markdown",
   "metadata": {},
   "source": [
    "GroupBy\n",
    "======="
   ]
  },
  {
   "cell_type": "code",
   "execution_count": 162,
   "metadata": {
    "collapsed": false
   },
   "outputs": [
    {
     "data": {
      "text/html": [
       "<div>\n",
       "<table border=\"1\" class=\"dataframe\">\n",
       "  <thead>\n",
       "    <tr style=\"text-align: right;\">\n",
       "      <th></th>\n",
       "      <th>A</th>\n",
       "      <th>B</th>\n",
       "      <th>C</th>\n",
       "      <th>D</th>\n",
       "    </tr>\n",
       "  </thead>\n",
       "  <tbody>\n",
       "    <tr>\n",
       "      <th>0</th>\n",
       "      <td>foo</td>\n",
       "      <td>one</td>\n",
       "      <td>-0.121817</td>\n",
       "      <td>-0.837150</td>\n",
       "    </tr>\n",
       "    <tr>\n",
       "      <th>1</th>\n",
       "      <td>bar</td>\n",
       "      <td>one</td>\n",
       "      <td>0.078895</td>\n",
       "      <td>-1.937235</td>\n",
       "    </tr>\n",
       "    <tr>\n",
       "      <th>2</th>\n",
       "      <td>foo</td>\n",
       "      <td>two</td>\n",
       "      <td>-0.968802</td>\n",
       "      <td>0.194740</td>\n",
       "    </tr>\n",
       "    <tr>\n",
       "      <th>3</th>\n",
       "      <td>bar</td>\n",
       "      <td>three</td>\n",
       "      <td>-0.214375</td>\n",
       "      <td>-0.367901</td>\n",
       "    </tr>\n",
       "    <tr>\n",
       "      <th>4</th>\n",
       "      <td>foo</td>\n",
       "      <td>two</td>\n",
       "      <td>0.573654</td>\n",
       "      <td>0.919633</td>\n",
       "    </tr>\n",
       "    <tr>\n",
       "      <th>5</th>\n",
       "      <td>bar</td>\n",
       "      <td>two</td>\n",
       "      <td>-0.087236</td>\n",
       "      <td>-0.830693</td>\n",
       "    </tr>\n",
       "    <tr>\n",
       "      <th>6</th>\n",
       "      <td>foo</td>\n",
       "      <td>one</td>\n",
       "      <td>-0.578651</td>\n",
       "      <td>-1.405809</td>\n",
       "    </tr>\n",
       "    <tr>\n",
       "      <th>7</th>\n",
       "      <td>foo</td>\n",
       "      <td>three</td>\n",
       "      <td>0.928010</td>\n",
       "      <td>-0.037234</td>\n",
       "    </tr>\n",
       "  </tbody>\n",
       "</table>\n",
       "</div>"
      ],
      "text/plain": [
       "     A      B         C         D\n",
       "0  foo    one -0.121817 -0.837150\n",
       "1  bar    one  0.078895 -1.937235\n",
       "2  foo    two -0.968802  0.194740\n",
       "3  bar  three -0.214375 -0.367901\n",
       "4  foo    two  0.573654  0.919633\n",
       "5  bar    two -0.087236 -0.830693\n",
       "6  foo    one -0.578651 -1.405809\n",
       "7  foo  three  0.928010 -0.037234"
      ]
     },
     "execution_count": 162,
     "metadata": {},
     "output_type": "execute_result"
    }
   ],
   "source": [
    "df = DataFrame({'A' : ['foo', 'bar', 'foo', 'bar',\n",
    "                       'foo', 'bar', 'foo', 'foo'],\n",
    "                'B' : ['one', 'one', 'two', 'three',\n",
    "                       'two', 'two', 'one', 'three'],\n",
    "                'C' : np.random.randn(8),\n",
    "                'D' : np.random.randn(8)})\n",
    "df"
   ]
  },
  {
   "cell_type": "code",
   "execution_count": 163,
   "metadata": {
    "collapsed": false
   },
   "outputs": [
    {
     "name": "stdout",
     "output_type": "stream",
     "text": [
      "bar\n",
      "     A      B         C         D\n",
      "1  bar    one  0.078895 -1.937235\n",
      "3  bar  three -0.214375 -0.367901\n",
      "5  bar    two -0.087236 -0.830693\n",
      "foo\n",
      "     A      B         C         D\n",
      "0  foo    one -0.121817 -0.837150\n",
      "2  foo    two -0.968802  0.194740\n",
      "4  foo    two  0.573654  0.919633\n",
      "6  foo    one -0.578651 -1.405809\n",
      "7  foo  three  0.928010 -0.037234\n"
     ]
    }
   ],
   "source": [
    "for key, group in df.groupby('A'):\n",
    "    print key\n",
    "    print group"
   ]
  },
  {
   "cell_type": "code",
   "execution_count": 164,
   "metadata": {
    "collapsed": false
   },
   "outputs": [
    {
     "data": {
      "text/plain": [
       "A         \n",
       "bar  count    3.000000\n",
       "     mean    -0.074238\n",
       "     std      0.147067\n",
       "     min     -0.214375\n",
       "     25%     -0.150805\n",
       "     50%     -0.087236\n",
       "     75%     -0.004170\n",
       "     max      0.078895\n",
       "foo  count    5.000000\n",
       "     mean    -0.033521\n",
       "     std      0.786275\n",
       "     min     -0.968802\n",
       "     25%     -0.578651\n",
       "     50%     -0.121817\n",
       "     75%      0.573654\n",
       "     max      0.928010\n",
       "Name: C, dtype: float64"
      ]
     },
     "execution_count": 164,
     "metadata": {},
     "output_type": "execute_result"
    }
   ],
   "source": [
    "df.groupby('A')['C'].describe().T"
   ]
  },
  {
   "cell_type": "code",
   "execution_count": 165,
   "metadata": {
    "collapsed": false
   },
   "outputs": [
    {
     "data": {
      "text/html": [
       "<div>\n",
       "<table border=\"1\" class=\"dataframe\">\n",
       "  <thead>\n",
       "    <tr style=\"text-align: right;\">\n",
       "      <th></th>\n",
       "      <th>C</th>\n",
       "      <th>D</th>\n",
       "    </tr>\n",
       "    <tr>\n",
       "      <th>A</th>\n",
       "      <th></th>\n",
       "      <th></th>\n",
       "    </tr>\n",
       "  </thead>\n",
       "  <tbody>\n",
       "    <tr>\n",
       "      <th>bar</th>\n",
       "      <td>-0.074238</td>\n",
       "      <td>-1.045276</td>\n",
       "    </tr>\n",
       "    <tr>\n",
       "      <th>foo</th>\n",
       "      <td>-0.033521</td>\n",
       "      <td>-0.233164</td>\n",
       "    </tr>\n",
       "  </tbody>\n",
       "</table>\n",
       "</div>"
      ],
      "text/plain": [
       "            C         D\n",
       "A                      \n",
       "bar -0.074238 -1.045276\n",
       "foo -0.033521 -0.233164"
      ]
     },
     "execution_count": 165,
     "metadata": {},
     "output_type": "execute_result"
    }
   ],
   "source": [
    "df.groupby('A').mean()"
   ]
  },
  {
   "cell_type": "code",
   "execution_count": 166,
   "metadata": {
    "collapsed": false
   },
   "outputs": [
    {
     "name": "stdout",
     "output_type": "stream",
     "text": [
      "bar\n",
      "     A      B         C         D\n",
      "1  bar    one  0.078895 -1.937235\n",
      "3  bar  three -0.214375 -0.367901\n",
      "5  bar    two -0.087236 -0.830693\n",
      "foo\n",
      "     A      B         C         D\n",
      "0  foo    one -0.121817 -0.837150\n",
      "2  foo    two -0.968802  0.194740\n",
      "4  foo    two  0.573654  0.919633\n",
      "6  foo    one -0.578651 -1.405809\n",
      "7  foo  three  0.928010 -0.037234\n"
     ]
    }
   ],
   "source": [
    "for key, group in df.groupby('A'):\n",
    "    print key\n",
    "    print group"
   ]
  },
  {
   "cell_type": "code",
   "execution_count": 167,
   "metadata": {
    "collapsed": false
   },
   "outputs": [
    {
     "data": {
      "text/html": [
       "<div>\n",
       "<table border=\"1\" class=\"dataframe\">\n",
       "  <thead>\n",
       "    <tr style=\"text-align: right;\">\n",
       "      <th></th>\n",
       "      <th></th>\n",
       "      <th>C</th>\n",
       "      <th>D</th>\n",
       "    </tr>\n",
       "    <tr>\n",
       "      <th>A</th>\n",
       "      <th>B</th>\n",
       "      <th></th>\n",
       "      <th></th>\n",
       "    </tr>\n",
       "  </thead>\n",
       "  <tbody>\n",
       "    <tr>\n",
       "      <th rowspan=\"3\" valign=\"top\">bar</th>\n",
       "      <th>one</th>\n",
       "      <td>0.078895</td>\n",
       "      <td>-1.937235</td>\n",
       "    </tr>\n",
       "    <tr>\n",
       "      <th>three</th>\n",
       "      <td>-0.214375</td>\n",
       "      <td>-0.367901</td>\n",
       "    </tr>\n",
       "    <tr>\n",
       "      <th>two</th>\n",
       "      <td>-0.087236</td>\n",
       "      <td>-0.830693</td>\n",
       "    </tr>\n",
       "    <tr>\n",
       "      <th rowspan=\"3\" valign=\"top\">foo</th>\n",
       "      <th>one</th>\n",
       "      <td>-0.350234</td>\n",
       "      <td>-1.121479</td>\n",
       "    </tr>\n",
       "    <tr>\n",
       "      <th>three</th>\n",
       "      <td>0.928010</td>\n",
       "      <td>-0.037234</td>\n",
       "    </tr>\n",
       "    <tr>\n",
       "      <th>two</th>\n",
       "      <td>-0.197574</td>\n",
       "      <td>0.557186</td>\n",
       "    </tr>\n",
       "  </tbody>\n",
       "</table>\n",
       "</div>"
      ],
      "text/plain": [
       "                  C         D\n",
       "A   B                        \n",
       "bar one    0.078895 -1.937235\n",
       "    three -0.214375 -0.367901\n",
       "    two   -0.087236 -0.830693\n",
       "foo one   -0.350234 -1.121479\n",
       "    three  0.928010 -0.037234\n",
       "    two   -0.197574  0.557186"
      ]
     },
     "execution_count": 167,
     "metadata": {},
     "output_type": "execute_result"
    }
   ],
   "source": [
    "df.groupby(['A', 'B']).mean()"
   ]
  },
  {
   "cell_type": "code",
   "execution_count": 168,
   "metadata": {
    "collapsed": false
   },
   "outputs": [],
   "source": [
    "#df.groupby(['A', 'B'], as_index=False).mean()"
   ]
  },
  {
   "cell_type": "code",
   "execution_count": 169,
   "metadata": {
    "collapsed": false
   },
   "outputs": [
    {
     "data": {
      "text/plain": [
       "0  A          foo\n",
       "   B          one\n",
       "   C    -0.121817\n",
       "   D     -0.83715\n",
       "1  A          bar\n",
       "   B          one\n",
       "   C    0.0788954\n",
       "   D     -1.93724\n",
       "2  A          foo\n",
       "   B          two\n",
       "   C    -0.968802\n",
       "   D      0.19474\n",
       "3  A          bar\n",
       "   B        three\n",
       "   C    -0.214375\n",
       "   D    -0.367901\n",
       "4  A          foo\n",
       "   B          two\n",
       "   C     0.573654\n",
       "   D     0.919633\n",
       "5  A          bar\n",
       "   B          two\n",
       "   C   -0.0872356\n",
       "   D    -0.830693\n",
       "6  A          foo\n",
       "   B          one\n",
       "   C    -0.578651\n",
       "   D     -1.40581\n",
       "7  A          foo\n",
       "   B        three\n",
       "   C      0.92801\n",
       "   D   -0.0372343\n",
       "dtype: object"
      ]
     },
     "execution_count": 169,
     "metadata": {},
     "output_type": "execute_result"
    }
   ],
   "source": [
    "df.stack()"
   ]
  },
  {
   "cell_type": "code",
   "execution_count": 170,
   "metadata": {
    "collapsed": false
   },
   "outputs": [],
   "source": [
    "#df.stack().mean(1).unstack()"
   ]
  },
  {
   "cell_type": "code",
   "execution_count": 171,
   "metadata": {
    "collapsed": false
   },
   "outputs": [],
   "source": [
    "#df.groupby(level=1, axis=1).mean()"
   ]
  },
  {
   "cell_type": "markdown",
   "metadata": {
    "collapsed": true
   },
   "source": [
    "## Crosstabs"
   ]
  },
  {
   "cell_type": "code",
   "execution_count": 185,
   "metadata": {
    "collapsed": false
   },
   "outputs": [
    {
     "data": {
      "text/plain": [
       "Index([u'color', u'director_name', u'num_critic_for_reviews', u'duration',\n",
       "       u'director_facebook_likes', u'actor_3_facebook_likes', u'actor_2_name',\n",
       "       u'actor_1_facebook_likes', u'gross', u'genres', u'actor_1_name',\n",
       "       u'movie_title', u'num_voted_users', u'cast_total_facebook_likes',\n",
       "       u'actor_3_name', u'facenumber_in_poster', u'plot_keywords',\n",
       "       u'movie_imdb_link', u'num_user_for_reviews', u'language', u'country',\n",
       "       u'content_rating', u'budget', u'title_year', u'actor_2_facebook_likes',\n",
       "       u'imdb_score', u'aspect_ratio', u'movie_facebook_likes'],\n",
       "      dtype='object')"
      ]
     },
     "execution_count": 185,
     "metadata": {},
     "output_type": "execute_result"
    }
   ],
   "source": [
    "movs = pd.read_csv('movie_metadata.csv')\n",
    "movs.columns"
   ]
  },
  {
   "cell_type": "code",
   "execution_count": 238,
   "metadata": {
    "collapsed": false
   },
   "outputs": [
    {
     "data": {
      "text/html": [
       "<div>\n",
       "<table border=\"1\" class=\"dataframe\">\n",
       "  <thead>\n",
       "    <tr style=\"text-align: right;\">\n",
       "      <th>country</th>\n",
       "      <th>UK</th>\n",
       "      <th>USA</th>\n",
       "    </tr>\n",
       "    <tr>\n",
       "      <th>title_year</th>\n",
       "      <th></th>\n",
       "      <th></th>\n",
       "    </tr>\n",
       "  </thead>\n",
       "  <tbody>\n",
       "    <tr>\n",
       "      <th>2000.0</th>\n",
       "      <td>16</td>\n",
       "      <td>136</td>\n",
       "    </tr>\n",
       "    <tr>\n",
       "      <th>2001.0</th>\n",
       "      <td>12</td>\n",
       "      <td>149</td>\n",
       "    </tr>\n",
       "    <tr>\n",
       "      <th>2002.0</th>\n",
       "      <td>22</td>\n",
       "      <td>157</td>\n",
       "    </tr>\n",
       "    <tr>\n",
       "      <th>2003.0</th>\n",
       "      <td>6</td>\n",
       "      <td>135</td>\n",
       "    </tr>\n",
       "    <tr>\n",
       "      <th>2004.0</th>\n",
       "      <td>21</td>\n",
       "      <td>156</td>\n",
       "    </tr>\n",
       "    <tr>\n",
       "      <th>2005.0</th>\n",
       "      <td>23</td>\n",
       "      <td>154</td>\n",
       "    </tr>\n",
       "    <tr>\n",
       "      <th>2006.0</th>\n",
       "      <td>19</td>\n",
       "      <td>165</td>\n",
       "    </tr>\n",
       "    <tr>\n",
       "      <th>2007.0</th>\n",
       "      <td>19</td>\n",
       "      <td>151</td>\n",
       "    </tr>\n",
       "    <tr>\n",
       "      <th>2008.0</th>\n",
       "      <td>23</td>\n",
       "      <td>163</td>\n",
       "    </tr>\n",
       "    <tr>\n",
       "      <th>2009.0</th>\n",
       "      <td>21</td>\n",
       "      <td>184</td>\n",
       "    </tr>\n",
       "    <tr>\n",
       "      <th>2010.0</th>\n",
       "      <td>21</td>\n",
       "      <td>167</td>\n",
       "    </tr>\n",
       "    <tr>\n",
       "      <th>2011.0</th>\n",
       "      <td>20</td>\n",
       "      <td>164</td>\n",
       "    </tr>\n",
       "    <tr>\n",
       "      <th>2012.0</th>\n",
       "      <td>18</td>\n",
       "      <td>173</td>\n",
       "    </tr>\n",
       "    <tr>\n",
       "      <th>2013.0</th>\n",
       "      <td>16</td>\n",
       "      <td>171</td>\n",
       "    </tr>\n",
       "    <tr>\n",
       "      <th>2014.0</th>\n",
       "      <td>17</td>\n",
       "      <td>187</td>\n",
       "    </tr>\n",
       "    <tr>\n",
       "      <th>2015.0</th>\n",
       "      <td>17</td>\n",
       "      <td>171</td>\n",
       "    </tr>\n",
       "    <tr>\n",
       "      <th>2016.0</th>\n",
       "      <td>13</td>\n",
       "      <td>77</td>\n",
       "    </tr>\n",
       "  </tbody>\n",
       "</table>\n",
       "</div>"
      ],
      "text/plain": [
       "country     UK  USA\n",
       "title_year         \n",
       "2000.0      16  136\n",
       "2001.0      12  149\n",
       "2002.0      22  157\n",
       "2003.0       6  135\n",
       "2004.0      21  156\n",
       "2005.0      23  154\n",
       "2006.0      19  165\n",
       "2007.0      19  151\n",
       "2008.0      23  163\n",
       "2009.0      21  184\n",
       "2010.0      21  167\n",
       "2011.0      20  164\n",
       "2012.0      18  173\n",
       "2013.0      16  171\n",
       "2014.0      17  187\n",
       "2015.0      17  171\n",
       "2016.0      13   77"
      ]
     },
     "execution_count": 238,
     "metadata": {},
     "output_type": "execute_result"
    }
   ],
   "source": [
    "_movs = movs[movs.title_year.ge(2000) & movs.country.isin(['USA', 'UK'])]\n",
    "_df = pd.crosstab(_movs.title_year, _movs.country)\n",
    "_df\n",
    "#_df = pd.crosstab(_movs.title_year, _movs.country, values=_movs.actor_1_facebook_likes, aggfunc=[sum, mean, median])\n",
    "#_df\n",
    "#pd.crosstab(_movs.title_year, _movs.country).apply(lambda r: (r/r.sum())*100, axis=1)"
   ]
  },
  {
   "cell_type": "code",
   "execution_count": 231,
   "metadata": {
    "collapsed": false
   },
   "outputs": [
    {
     "data": {
      "text/plain": [
       "array([[<matplotlib.axes._subplots.AxesSubplot object at 0x0C834730>]], dtype=object)"
      ]
     },
     "execution_count": 231,
     "metadata": {},
     "output_type": "execute_result"
    },
    {
     "data": {
      "image/png": "[encoded data removed]",
      "text/plain": [
       "<matplotlib.figure.Figure at 0xc8342f0>"
      ]
     },
     "metadata": {},
     "output_type": "display_data"
    }
   ],
   "source": [
    "movs[['imdb_score']].hist()"
   ]
  },
  {
   "cell_type": "code",
   "execution_count": 241,
   "metadata": {
    "collapsed": false
   },
   "outputs": [
    {
     "name": "stdout",
     "output_type": "stream",
     "text": [
      "b\t c\t close_px\t df\t df2\t foo\t group\t hdf\t movies\t \n",
      "movs\t \n"
     ]
    }
   ],
   "source": [
    "### IPython Gyan!\n",
    "\n",
    "%who DataFrame"
   ]
  },
  {
   "cell_type": "code",
   "execution_count": 240,
   "metadata": {
    "collapsed": false
   },
   "outputs": [
    {
     "name": "stdout",
     "output_type": "stream",
     "text": [
      "Variable   Type         Data/Info\n",
      "---------------------------------\n",
      "b          DataFrame                   IBM   MSFT<...>2011-10-13  186.82  27.18\n",
      "c          DataFrame                   IBM   MSFT<...>2011-10-13  186.82  27.18\n",
      "close_px   DataFrame                   AA    AAPL<...>\\n[1000 rows x 9 columns]\n",
      "df         DataFrame         A      B         C  <...>three  0.928010 -0.037234\n",
      "df2        DataFrame                    A        <...>84308  0.086960  0.155612\n",
      "foo        DataFrame         floats  ints strings<...>    bar  False 2000-01-10\n",
      "group      DataFrame         A      B         C  <...>three  0.928010 -0.037234\n",
      "hdf        DataFrame                      A      <...>17454  1.104363 -1.954480\n",
      "movies     DataFrame                     color   <...>n[5043 rows x 28 columns]\n",
      "movs       DataFrame                     color   <...>n[5043 rows x 28 columns]\n"
     ]
    }
   ],
   "source": [
    "%whos DataFrame"
   ]
  },
  {
   "cell_type": "code",
   "execution_count": 239,
   "metadata": {
    "collapsed": false
   },
   "outputs": [
    {
     "data": {
      "text/plain": [
       "['b', 'c', 'close_px', 'df', 'df2', 'foo', 'group', 'hdf', 'movies', 'movs']"
      ]
     },
     "execution_count": 239,
     "metadata": {},
     "output_type": "execute_result"
    }
   ],
   "source": [
    "%who_ls DataFrame"
   ]
  },
  {
   "cell_type": "code",
   "execution_count": 247,
   "metadata": {
    "collapsed": false
   },
   "outputs": [],
   "source": [
    "sal = pd.read_csv(r'Salaries.csv')"
   ]
  },
  {
   "cell_type": "code",
   "execution_count": 311,
   "metadata": {
    "collapsed": false
   },
   "outputs": [
    {
     "data": {
      "text/html": [
       "<div>\n",
       "<table border=\"1\" class=\"dataframe\">\n",
       "  <thead>\n",
       "    <tr>\n",
       "      <th></th>\n",
       "      <th colspan=\"4\" halign=\"left\">median</th>\n",
       "      <th colspan=\"4\" halign=\"left\">mean</th>\n",
       "    </tr>\n",
       "    <tr>\n",
       "      <th></th>\n",
       "      <th colspan=\"4\" halign=\"left\">TotalPay</th>\n",
       "      <th colspan=\"4\" halign=\"left\">TotalPay</th>\n",
       "    </tr>\n",
       "    <tr>\n",
       "      <th>Year</th>\n",
       "      <th>2011</th>\n",
       "      <th>2012</th>\n",
       "      <th>2013</th>\n",
       "      <th>2014</th>\n",
       "      <th>2011</th>\n",
       "      <th>2012</th>\n",
       "      <th>2013</th>\n",
       "      <th>2014</th>\n",
       "    </tr>\n",
       "    <tr>\n",
       "      <th>EmpFirstLetter</th>\n",
       "      <th></th>\n",
       "      <th></th>\n",
       "      <th></th>\n",
       "      <th></th>\n",
       "      <th></th>\n",
       "      <th></th>\n",
       "      <th></th>\n",
       "      <th></th>\n",
       "    </tr>\n",
       "  </thead>\n",
       "  <tbody>\n",
       "    <tr>\n",
       "      <th>A</th>\n",
       "      <td>65162.425</td>\n",
       "      <td>67560.735</td>\n",
       "      <td>71035.865</td>\n",
       "      <td>69012.000</td>\n",
       "      <td>67678.940063</td>\n",
       "      <td>69174.704277</td>\n",
       "      <td>73246.724899</td>\n",
       "      <td>72014.376458</td>\n",
       "    </tr>\n",
       "    <tr>\n",
       "      <th>B</th>\n",
       "      <td>71707.690</td>\n",
       "      <td>74225.175</td>\n",
       "      <td>78092.545</td>\n",
       "      <td>75498.910</td>\n",
       "      <td>74543.945176</td>\n",
       "      <td>77715.068752</td>\n",
       "      <td>79856.911802</td>\n",
       "      <td>77502.710600</td>\n",
       "    </tr>\n",
       "    <tr>\n",
       "      <th>C</th>\n",
       "      <td>66977.485</td>\n",
       "      <td>69727.000</td>\n",
       "      <td>72340.750</td>\n",
       "      <td>70165.095</td>\n",
       "      <td>68925.002466</td>\n",
       "      <td>71722.499686</td>\n",
       "      <td>74397.533451</td>\n",
       "      <td>73114.425919</td>\n",
       "    </tr>\n",
       "    <tr>\n",
       "      <th>D</th>\n",
       "      <td>73204.060</td>\n",
       "      <td>74934.190</td>\n",
       "      <td>80679.630</td>\n",
       "      <td>78325.550</td>\n",
       "      <td>75766.202913</td>\n",
       "      <td>78032.387262</td>\n",
       "      <td>82899.460636</td>\n",
       "      <td>80088.153392</td>\n",
       "    </tr>\n",
       "    <tr>\n",
       "      <th>E</th>\n",
       "      <td>65568.840</td>\n",
       "      <td>68598.200</td>\n",
       "      <td>72088.370</td>\n",
       "      <td>70594.135</td>\n",
       "      <td>69363.285091</td>\n",
       "      <td>73816.857244</td>\n",
       "      <td>76070.208850</td>\n",
       "      <td>74589.775289</td>\n",
       "    </tr>\n",
       "    <tr>\n",
       "      <th>F</th>\n",
       "      <td>67905.700</td>\n",
       "      <td>71177.370</td>\n",
       "      <td>76036.850</td>\n",
       "      <td>74918.880</td>\n",
       "      <td>71284.952568</td>\n",
       "      <td>74964.046448</td>\n",
       "      <td>79596.529293</td>\n",
       "      <td>78474.037458</td>\n",
       "    </tr>\n",
       "    <tr>\n",
       "      <th>G</th>\n",
       "      <td>71518.770</td>\n",
       "      <td>74093.000</td>\n",
       "      <td>77015.390</td>\n",
       "      <td>75986.035</td>\n",
       "      <td>76319.672653</td>\n",
       "      <td>78476.724127</td>\n",
       "      <td>80202.309589</td>\n",
       "      <td>78394.994790</td>\n",
       "    </tr>\n",
       "    <tr>\n",
       "      <th>H</th>\n",
       "      <td>67372.240</td>\n",
       "      <td>69284.275</td>\n",
       "      <td>71978.680</td>\n",
       "      <td>69302.230</td>\n",
       "      <td>70750.774931</td>\n",
       "      <td>72069.438369</td>\n",
       "      <td>76075.891995</td>\n",
       "      <td>72170.357107</td>\n",
       "    </tr>\n",
       "    <tr>\n",
       "      <th>I</th>\n",
       "      <td>64318.470</td>\n",
       "      <td>68073.530</td>\n",
       "      <td>66010.630</td>\n",
       "      <td>64360.530</td>\n",
       "      <td>63171.944882</td>\n",
       "      <td>67548.086261</td>\n",
       "      <td>67105.736514</td>\n",
       "      <td>65798.987690</td>\n",
       "    </tr>\n",
       "    <tr>\n",
       "      <th>J</th>\n",
       "      <td>71904.130</td>\n",
       "      <td>72582.000</td>\n",
       "      <td>76254.130</td>\n",
       "      <td>73772.100</td>\n",
       "      <td>73903.106667</td>\n",
       "      <td>76115.170751</td>\n",
       "      <td>79863.984656</td>\n",
       "      <td>77242.279871</td>\n",
       "    </tr>\n",
       "    <tr>\n",
       "      <th>K</th>\n",
       "      <td>68686.820</td>\n",
       "      <td>70836.070</td>\n",
       "      <td>74154.020</td>\n",
       "      <td>73102.010</td>\n",
       "      <td>72146.136918</td>\n",
       "      <td>74136.158000</td>\n",
       "      <td>77459.284115</td>\n",
       "      <td>75257.957574</td>\n",
       "    </tr>\n",
       "    <tr>\n",
       "      <th>L</th>\n",
       "      <td>65204.230</td>\n",
       "      <td>67525.510</td>\n",
       "      <td>70305.850</td>\n",
       "      <td>68737.520</td>\n",
       "      <td>67306.284486</td>\n",
       "      <td>69216.468480</td>\n",
       "      <td>71866.205683</td>\n",
       "      <td>69712.594843</td>\n",
       "    </tr>\n",
       "    <tr>\n",
       "      <th>M</th>\n",
       "      <td>68333.250</td>\n",
       "      <td>71064.070</td>\n",
       "      <td>75134.690</td>\n",
       "      <td>73444.590</td>\n",
       "      <td>73058.289696</td>\n",
       "      <td>75299.933923</td>\n",
       "      <td>79324.472191</td>\n",
       "      <td>77100.219620</td>\n",
       "    </tr>\n",
       "    <tr>\n",
       "      <th>N</th>\n",
       "      <td>63699.155</td>\n",
       "      <td>66590.050</td>\n",
       "      <td>72262.455</td>\n",
       "      <td>69507.155</td>\n",
       "      <td>67228.537056</td>\n",
       "      <td>69808.706896</td>\n",
       "      <td>74803.544698</td>\n",
       "      <td>73625.185565</td>\n",
       "    </tr>\n",
       "    <tr>\n",
       "      <th>O</th>\n",
       "      <td>67541.010</td>\n",
       "      <td>71394.600</td>\n",
       "      <td>75419.225</td>\n",
       "      <td>70534.830</td>\n",
       "      <td>68446.813004</td>\n",
       "      <td>72707.401382</td>\n",
       "      <td>75976.040134</td>\n",
       "      <td>72468.391195</td>\n",
       "    </tr>\n",
       "    <tr>\n",
       "      <th>P</th>\n",
       "      <td>71547.415</td>\n",
       "      <td>73227.155</td>\n",
       "      <td>78534.860</td>\n",
       "      <td>76236.525</td>\n",
       "      <td>75090.559506</td>\n",
       "      <td>77347.005092</td>\n",
       "      <td>81579.031957</td>\n",
       "      <td>80173.364359</td>\n",
       "    </tr>\n",
       "    <tr>\n",
       "      <th>Q</th>\n",
       "      <td>56238.595</td>\n",
       "      <td>59072.490</td>\n",
       "      <td>60534.870</td>\n",
       "      <td>62411.020</td>\n",
       "      <td>56023.475370</td>\n",
       "      <td>57311.629123</td>\n",
       "      <td>59008.182742</td>\n",
       "      <td>61424.621148</td>\n",
       "    </tr>\n",
       "    <tr>\n",
       "      <th>R</th>\n",
       "      <td>72288.165</td>\n",
       "      <td>73975.010</td>\n",
       "      <td>78300.900</td>\n",
       "      <td>76551.085</td>\n",
       "      <td>75740.907585</td>\n",
       "      <td>77697.462048</td>\n",
       "      <td>82172.628127</td>\n",
       "      <td>80036.289923</td>\n",
       "    </tr>\n",
       "    <tr>\n",
       "      <th>S</th>\n",
       "      <td>67600.200</td>\n",
       "      <td>69183.280</td>\n",
       "      <td>74097.200</td>\n",
       "      <td>70412.300</td>\n",
       "      <td>71007.312985</td>\n",
       "      <td>73348.068968</td>\n",
       "      <td>77644.063781</td>\n",
       "      <td>74255.508392</td>\n",
       "    </tr>\n",
       "    <tr>\n",
       "      <th>T</th>\n",
       "      <td>68660.785</td>\n",
       "      <td>71705.510</td>\n",
       "      <td>76263.600</td>\n",
       "      <td>73496.485</td>\n",
       "      <td>73567.004663</td>\n",
       "      <td>77501.463236</td>\n",
       "      <td>80617.462602</td>\n",
       "      <td>77044.068207</td>\n",
       "    </tr>\n",
       "    <tr>\n",
       "      <th>U</th>\n",
       "      <td>52307.120</td>\n",
       "      <td>67189.530</td>\n",
       "      <td>72930.840</td>\n",
       "      <td>72800.970</td>\n",
       "      <td>60302.572162</td>\n",
       "      <td>66102.203429</td>\n",
       "      <td>75601.140588</td>\n",
       "      <td>74737.448333</td>\n",
       "    </tr>\n",
       "    <tr>\n",
       "      <th>V</th>\n",
       "      <td>65691.940</td>\n",
       "      <td>68164.600</td>\n",
       "      <td>69452.150</td>\n",
       "      <td>66685.045</td>\n",
       "      <td>67790.889391</td>\n",
       "      <td>69236.273110</td>\n",
       "      <td>71174.767021</td>\n",
       "      <td>68694.508972</td>\n",
       "    </tr>\n",
       "    <tr>\n",
       "      <th>W</th>\n",
       "      <td>70921.910</td>\n",
       "      <td>72693.120</td>\n",
       "      <td>73627.450</td>\n",
       "      <td>74009.260</td>\n",
       "      <td>74572.959963</td>\n",
       "      <td>76607.886293</td>\n",
       "      <td>77750.351835</td>\n",
       "      <td>78739.229988</td>\n",
       "    </tr>\n",
       "    <tr>\n",
       "      <th>X</th>\n",
       "      <td>49571.435</td>\n",
       "      <td>51260.430</td>\n",
       "      <td>54684.325</td>\n",
       "      <td>55711.590</td>\n",
       "      <td>48824.644571</td>\n",
       "      <td>50073.505854</td>\n",
       "      <td>50378.596771</td>\n",
       "      <td>54246.543627</td>\n",
       "    </tr>\n",
       "    <tr>\n",
       "      <th>Y</th>\n",
       "      <td>58916.960</td>\n",
       "      <td>61637.340</td>\n",
       "      <td>62918.770</td>\n",
       "      <td>60854.055</td>\n",
       "      <td>60227.668223</td>\n",
       "      <td>63341.630736</td>\n",
       "      <td>66924.917970</td>\n",
       "      <td>64432.983333</td>\n",
       "    </tr>\n",
       "    <tr>\n",
       "      <th>Z</th>\n",
       "      <td>55655.085</td>\n",
       "      <td>56818.265</td>\n",
       "      <td>56719.100</td>\n",
       "      <td>55327.000</td>\n",
       "      <td>59245.056791</td>\n",
       "      <td>59806.612639</td>\n",
       "      <td>58471.202250</td>\n",
       "      <td>55603.639548</td>\n",
       "    </tr>\n",
       "  </tbody>\n",
       "</table>\n",
       "</div>"
      ],
      "text/plain": [
       "                   median                                           mean  \\\n",
       "                 TotalPay                                       TotalPay   \n",
       "Year                 2011       2012       2013       2014          2011   \n",
       "EmpFirstLetter                                                             \n",
       "A               65162.425  67560.735  71035.865  69012.000  67678.940063   \n",
       "B               71707.690  74225.175  78092.545  75498.910  74543.945176   \n",
       "C               66977.485  69727.000  72340.750  70165.095  68925.002466   \n",
       "D               73204.060  74934.190  80679.630  78325.550  75766.202913   \n",
       "E               65568.840  68598.200  72088.370  70594.135  69363.285091   \n",
       "F               67905.700  71177.370  76036.850  74918.880  71284.952568   \n",
       "G               71518.770  74093.000  77015.390  75986.035  76319.672653   \n",
       "H               67372.240  69284.275  71978.680  69302.230  70750.774931   \n",
       "I               64318.470  68073.530  66010.630  64360.530  63171.944882   \n",
       "J               71904.130  72582.000  76254.130  73772.100  73903.106667   \n",
       "K               68686.820  70836.070  74154.020  73102.010  72146.136918   \n",
       "L               65204.230  67525.510  70305.850  68737.520  67306.284486   \n",
       "M               68333.250  71064.070  75134.690  73444.590  73058.289696   \n",
       "N               63699.155  66590.050  72262.455  69507.155  67228.537056   \n",
       "O               67541.010  71394.600  75419.225  70534.830  68446.813004   \n",
       "P               71547.415  73227.155  78534.860  76236.525  75090.559506   \n",
       "Q               56238.595  59072.490  60534.870  62411.020  56023.475370   \n",
       "R               72288.165  73975.010  78300.900  76551.085  75740.907585   \n",
       "S               67600.200  69183.280  74097.200  70412.300  71007.312985   \n",
       "T               68660.785  71705.510  76263.600  73496.485  73567.004663   \n",
       "U               52307.120  67189.530  72930.840  72800.970  60302.572162   \n",
       "V               65691.940  68164.600  69452.150  66685.045  67790.889391   \n",
       "W               70921.910  72693.120  73627.450  74009.260  74572.959963   \n",
       "X               49571.435  51260.430  54684.325  55711.590  48824.644571   \n",
       "Y               58916.960  61637.340  62918.770  60854.055  60227.668223   \n",
       "Z               55655.085  56818.265  56719.100  55327.000  59245.056791   \n",
       "\n",
       "                                                          \n",
       "                                                          \n",
       "Year                    2012          2013          2014  \n",
       "EmpFirstLetter                                            \n",
       "A               69174.704277  73246.724899  72014.376458  \n",
       "B               77715.068752  79856.911802  77502.710600  \n",
       "C               71722.499686  74397.533451  73114.425919  \n",
       "D               78032.387262  82899.460636  80088.153392  \n",
       "E               73816.857244  76070.208850  74589.775289  \n",
       "F               74964.046448  79596.529293  78474.037458  \n",
       "G               78476.724127  80202.309589  78394.994790  \n",
       "H               72069.438369  76075.891995  72170.357107  \n",
       "I               67548.086261  67105.736514  65798.987690  \n",
       "J               76115.170751  79863.984656  77242.279871  \n",
       "K               74136.158000  77459.284115  75257.957574  \n",
       "L               69216.468480  71866.205683  69712.594843  \n",
       "M               75299.933923  79324.472191  77100.219620  \n",
       "N               69808.706896  74803.544698  73625.185565  \n",
       "O               72707.401382  75976.040134  72468.391195  \n",
       "P               77347.005092  81579.031957  80173.364359  \n",
       "Q               57311.629123  59008.182742  61424.621148  \n",
       "R               77697.462048  82172.628127  80036.289923  \n",
       "S               73348.068968  77644.063781  74255.508392  \n",
       "T               77501.463236  80617.462602  77044.068207  \n",
       "U               66102.203429  75601.140588  74737.448333  \n",
       "V               69236.273110  71174.767021  68694.508972  \n",
       "W               76607.886293  77750.351835  78739.229988  \n",
       "X               50073.505854  50378.596771  54246.543627  \n",
       "Y               63341.630736  66924.917970  64432.983333  \n",
       "Z               59806.612639  58471.202250  55603.639548  "
      ]
     },
     "execution_count": 311,
     "metadata": {},
     "output_type": "execute_result"
    }
   ],
   "source": [
    "sal['EmpFirstLetter'] = sal.EmployeeName.str[:1]\n",
    "sal.pivot_table(index=['EmpFirstLetter'], columns=['Year'], values=['TotalPay'], aggfunc=[median, mean])"
   ]
  },
  {
   "cell_type": "code",
   "execution_count": 302,
   "metadata": {
    "collapsed": false
   },
   "outputs": [
    {
     "data": {
      "text/plain": [
       "array(['More than median', 'Less than median'], dtype=object)"
      ]
     },
     "execution_count": 302,
     "metadata": {},
     "output_type": "execute_result"
    }
   ],
   "source": [
    "sal['PayMark'] = 'More than median'\n",
    "sal.loc[sal.TotalPay.le(100000), 'PayMark'] = 'Less than median'\n",
    "sal.PayMark.unique()"
   ]
  },
  {
   "cell_type": "code",
   "execution_count": 303,
   "metadata": {
    "collapsed": false
   },
   "outputs": [
    {
     "data": {
      "text/plain": [
       "PayMark\n",
       "Less than median    106687\n",
       "More than median     41967\n",
       "Name: Id, dtype: int64"
      ]
     },
     "execution_count": 303,
     "metadata": {},
     "output_type": "execute_result"
    }
   ],
   "source": [
    "sal.groupby('PayMark')['Id'].count()"
   ]
  },
  {
   "cell_type": "code",
   "execution_count": null,
   "metadata": {
    "collapsed": true
   },
   "outputs": [],
   "source": []
  },
  {
   "cell_type": "code",
   "execution_count": null,
   "metadata": {
    "collapsed": true
   },
   "outputs": [],
   "source": []
  }
 ],
 "metadata": {
  "kernelspec": {
   "display_name": "Python 2",
   "language": "python",
   "name": "python2"
  },
  "language_info": {
   "codemirror_mode": {
    "name": "ipython",
    "version": 2
   },
   "file_extension": ".py",
   "mimetype": "text/x-python",
   "name": "python",
   "nbconvert_exporter": "python",
   "pygments_lexer": "ipython2",
   "version": "2.7.11"
  }
 },
 "nbformat": 4,
 "nbformat_minor": 0
}
